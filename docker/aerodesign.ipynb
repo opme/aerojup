{
 "cells": [
  {
   "cell_type": "markdown",
   "id": "b85b794b-7432-4f5e-8b4d-815fda667136",
   "metadata": {
    "tags": []
   },
   "source": [
    "Aircraft Analysis\n",
    "=========================\n",
    "\n",
    "Example how to use the software included in the docker image.\n",
    "\n",
    "Sample analysis file for glider with rg15 airfoil\n",
    "\n",
    "Results can be compared to xflr5 analysis done in https://www.rcsoaringdigest.com/pdfs/RCSD-2008/RCSD-2008-02.pdf\n"
   ]
  },
  {
   "cell_type": "code",
   "execution_count": 131,
   "id": "99fde85f-4749-4b73-85ce-ddf21ec3f16e",
   "metadata": {},
   "outputs": [],
   "source": [
    "from aerosandbox import *\n",
    "import plotly.io as pio\n",
    "pio.renderers.default = \"jupyterlab\""
   ]
  },
  {
   "cell_type": "code",
   "execution_count": 132,
   "id": "cf8294c8-db81-4ba0-81be-3c9429d7d49d",
   "metadata": {},
   "outputs": [
    {
     "data": {
      "application/vnd.plotly.v1+json": {
       "config": {
        "plotlyServerURL": "https://plot.ly"
       },
       "data": [
        {
         "colorbar": {
          "title": {
           "text": "Component ID"
          }
         },
         "colorscale": [
          [
           0,
           "rgb(228, 241, 225)"
          ],
          [
           0.16666666666666666,
           "rgb(180, 217, 204)"
          ],
          [
           0.3333333333333333,
           "rgb(137, 192, 182)"
          ],
          [
           0.5,
           "rgb(99, 166, 160)"
          ],
          [
           0.6666666666666666,
           "rgb(68, 140, 138)"
          ],
          [
           0.8333333333333334,
           "rgb(40, 114, 116)"
          ],
          [
           1,
           "rgb(13, 88, 95)"
          ]
         ],
         "flatshading": false,
         "i": [
          0,
          0,
          4,
          4,
          8,
          8,
          12,
          12,
          16,
          16,
          20,
          20,
          24,
          24
         ],
         "intensity": [
          0,
          0,
          0,
          0,
          0,
          0,
          0,
          0,
          0,
          0,
          0,
          0,
          0,
          0,
          0,
          0,
          1,
          1,
          1,
          1,
          1,
          1,
          1,
          1,
          2,
          2,
          2,
          2
         ],
         "j": [
          1,
          2,
          5,
          6,
          9,
          10,
          13,
          14,
          17,
          18,
          21,
          22,
          25,
          26
         ],
         "k": [
          2,
          3,
          6,
          7,
          10,
          11,
          14,
          15,
          18,
          19,
          22,
          23,
          26,
          27
         ],
         "showscale": true,
         "type": "mesh3d",
         "x": [
          0,
          0.01,
          0.17,
          0.17989034886343724,
          0,
          0.01,
          0.17,
          0.17989034886343724,
          0.01,
          0.08,
          0.15995126616152766,
          0.17,
          0.01,
          0.08,
          0.15995126616152766,
          0.17,
          0.6,
          0.62,
          0.6987846202409767,
          0.6984807753012208,
          0.6,
          0.62,
          0.6987846202409767,
          0.6984807753012208,
          0.6,
          0.64,
          0.7,
          0.7
         ],
         "y": [
          0,
          0.5,
          0.5,
          0,
          0,
          -0.5,
          -0.5,
          0,
          0.5,
          1,
          1,
          0.5,
          -0.5,
          -1,
          -1,
          -0.5,
          0,
          0.17,
          0.17,
          0,
          0,
          -0.17,
          -0.17,
          0,
          0,
          0,
          0,
          0
         ],
         "z": [
          0,
          0,
          0,
          -0.006281909406450174,
          0,
          0,
          0,
          -0.006281909406450174,
          0,
          0.1,
          0.10279195973620009,
          0,
          0,
          0.1,
          0.10279195973620009,
          0,
          0.1,
          0.1,
          0.11389185421335443,
          0.11736481776669304,
          0.1,
          0.1,
          0.11389185421335443,
          0.11736481776669304,
          0.15,
          0.3,
          0.3,
          0.15
         ]
        },
        {
         "line": {
          "color": "rgb(0, 0, 0)",
          "width": 3
         },
         "mode": "lines",
         "name": "",
         "showlegend": false,
         "type": "scatter3d",
         "x": [
          0,
          0.01,
          0.17,
          0.17989034886343724,
          0,
          null,
          0,
          0.01,
          0.17,
          0.17989034886343724,
          0,
          null,
          0.04497258721585931,
          0.05,
          null,
          0.04497258721585931,
          0.05,
          null,
          0.01,
          0.08,
          0.15995126616152766,
          0.17,
          0.01,
          null,
          0.01,
          0.08,
          0.15995126616152766,
          0.17,
          0.01,
          null,
          0.05,
          0.09998781654038191,
          null,
          0.05,
          0.09998781654038191,
          null,
          0.6,
          0.62,
          0.6987846202409767,
          0.6984807753012208,
          0.6,
          null,
          0.6,
          0.62,
          0.6987846202409767,
          0.6984807753012208,
          0.6,
          null,
          0.6246201938253051,
          0.6396961550602441,
          null,
          0.6246201938253051,
          0.6396961550602441,
          null,
          0.6,
          0.64,
          0.7,
          0.7,
          0.6,
          null,
          0.625,
          0.655,
          null
         ],
         "y": [
          0,
          0.5,
          0.5,
          0,
          0,
          null,
          0,
          -0.5,
          -0.5,
          0,
          0,
          null,
          0,
          0.5,
          null,
          0,
          -0.5,
          null,
          0.5,
          1,
          1,
          0.5,
          0.5,
          null,
          -0.5,
          -1,
          -1,
          -0.5,
          -0.5,
          null,
          0.5,
          1,
          null,
          -0.5,
          -1,
          null,
          0,
          0.17,
          0.17,
          0,
          0,
          null,
          0,
          -0.17,
          -0.17,
          0,
          0,
          null,
          0,
          0.17,
          null,
          0,
          -0.17,
          null,
          0,
          0,
          0,
          0,
          0,
          null,
          0,
          0,
          null
         ],
         "z": [
          0,
          0,
          0,
          -0.006281909406450174,
          0,
          null,
          0,
          0,
          0,
          -0.006281909406450174,
          0,
          null,
          -0.0015704773516125436,
          0,
          null,
          -0.0015704773516125436,
          0,
          null,
          0,
          0.1,
          0.10279195973620009,
          0,
          0,
          null,
          0,
          0.1,
          0.10279195973620009,
          0,
          0,
          null,
          0,
          0.10069798993405003,
          null,
          0,
          0.10069798993405003,
          null,
          0.1,
          0.1,
          0.11389185421335443,
          0.11736481776669304,
          0.1,
          null,
          0.1,
          0.1,
          0.11389185421335443,
          0.11736481776669304,
          0.1,
          null,
          0.10434120444167327,
          0.10347296355333863,
          null,
          0.10434120444167327,
          0.10347296355333863,
          null,
          0.15,
          0.3,
          0.3,
          0.15,
          0.15,
          null,
          0.15,
          0.3,
          null
         ]
        },
        {
         "line": {
          "color": "rgba(119,0,255,200)",
          "width": 1
         },
         "mode": "lines",
         "name": "",
         "showlegend": false,
         "type": "scatter3d",
         "x": [],
         "y": [],
         "z": []
        }
       ],
       "layout": {
        "autosize": true,
        "scene": {
         "aspectmode": "data",
         "aspectratio": {
          "x": 0.9282855272542865,
          "y": 2.6522443635836757,
          "z": 0.4061672339454517
         }
        },
        "template": {
         "data": {
          "bar": [
           {
            "error_x": {
             "color": "#2a3f5f"
            },
            "error_y": {
             "color": "#2a3f5f"
            },
            "marker": {
             "line": {
              "color": "#E5ECF6",
              "width": 0.5
             },
             "pattern": {
              "fillmode": "overlay",
              "size": 10,
              "solidity": 0.2
             }
            },
            "type": "bar"
           }
          ],
          "barpolar": [
           {
            "marker": {
             "line": {
              "color": "#E5ECF6",
              "width": 0.5
             },
             "pattern": {
              "fillmode": "overlay",
              "size": 10,
              "solidity": 0.2
             }
            },
            "type": "barpolar"
           }
          ],
          "carpet": [
           {
            "aaxis": {
             "endlinecolor": "#2a3f5f",
             "gridcolor": "white",
             "linecolor": "white",
             "minorgridcolor": "white",
             "startlinecolor": "#2a3f5f"
            },
            "baxis": {
             "endlinecolor": "#2a3f5f",
             "gridcolor": "white",
             "linecolor": "white",
             "minorgridcolor": "white",
             "startlinecolor": "#2a3f5f"
            },
            "type": "carpet"
           }
          ],
          "choropleth": [
           {
            "colorbar": {
             "outlinewidth": 0,
             "ticks": ""
            },
            "type": "choropleth"
           }
          ],
          "contour": [
           {
            "colorbar": {
             "outlinewidth": 0,
             "ticks": ""
            },
            "colorscale": [
             [
              0,
              "#0d0887"
             ],
             [
              0.1111111111111111,
              "#46039f"
             ],
             [
              0.2222222222222222,
              "#7201a8"
             ],
             [
              0.3333333333333333,
              "#9c179e"
             ],
             [
              0.4444444444444444,
              "#bd3786"
             ],
             [
              0.5555555555555556,
              "#d8576b"
             ],
             [
              0.6666666666666666,
              "#ed7953"
             ],
             [
              0.7777777777777778,
              "#fb9f3a"
             ],
             [
              0.8888888888888888,
              "#fdca26"
             ],
             [
              1,
              "#f0f921"
             ]
            ],
            "type": "contour"
           }
          ],
          "contourcarpet": [
           {
            "colorbar": {
             "outlinewidth": 0,
             "ticks": ""
            },
            "type": "contourcarpet"
           }
          ],
          "heatmap": [
           {
            "colorbar": {
             "outlinewidth": 0,
             "ticks": ""
            },
            "colorscale": [
             [
              0,
              "#0d0887"
             ],
             [
              0.1111111111111111,
              "#46039f"
             ],
             [
              0.2222222222222222,
              "#7201a8"
             ],
             [
              0.3333333333333333,
              "#9c179e"
             ],
             [
              0.4444444444444444,
              "#bd3786"
             ],
             [
              0.5555555555555556,
              "#d8576b"
             ],
             [
              0.6666666666666666,
              "#ed7953"
             ],
             [
              0.7777777777777778,
              "#fb9f3a"
             ],
             [
              0.8888888888888888,
              "#fdca26"
             ],
             [
              1,
              "#f0f921"
             ]
            ],
            "type": "heatmap"
           }
          ],
          "heatmapgl": [
           {
            "colorbar": {
             "outlinewidth": 0,
             "ticks": ""
            },
            "colorscale": [
             [
              0,
              "#0d0887"
             ],
             [
              0.1111111111111111,
              "#46039f"
             ],
             [
              0.2222222222222222,
              "#7201a8"
             ],
             [
              0.3333333333333333,
              "#9c179e"
             ],
             [
              0.4444444444444444,
              "#bd3786"
             ],
             [
              0.5555555555555556,
              "#d8576b"
             ],
             [
              0.6666666666666666,
              "#ed7953"
             ],
             [
              0.7777777777777778,
              "#fb9f3a"
             ],
             [
              0.8888888888888888,
              "#fdca26"
             ],
             [
              1,
              "#f0f921"
             ]
            ],
            "type": "heatmapgl"
           }
          ],
          "histogram": [
           {
            "marker": {
             "pattern": {
              "fillmode": "overlay",
              "size": 10,
              "solidity": 0.2
             }
            },
            "type": "histogram"
           }
          ],
          "histogram2d": [
           {
            "colorbar": {
             "outlinewidth": 0,
             "ticks": ""
            },
            "colorscale": [
             [
              0,
              "#0d0887"
             ],
             [
              0.1111111111111111,
              "#46039f"
             ],
             [
              0.2222222222222222,
              "#7201a8"
             ],
             [
              0.3333333333333333,
              "#9c179e"
             ],
             [
              0.4444444444444444,
              "#bd3786"
             ],
             [
              0.5555555555555556,
              "#d8576b"
             ],
             [
              0.6666666666666666,
              "#ed7953"
             ],
             [
              0.7777777777777778,
              "#fb9f3a"
             ],
             [
              0.8888888888888888,
              "#fdca26"
             ],
             [
              1,
              "#f0f921"
             ]
            ],
            "type": "histogram2d"
           }
          ],
          "histogram2dcontour": [
           {
            "colorbar": {
             "outlinewidth": 0,
             "ticks": ""
            },
            "colorscale": [
             [
              0,
              "#0d0887"
             ],
             [
              0.1111111111111111,
              "#46039f"
             ],
             [
              0.2222222222222222,
              "#7201a8"
             ],
             [
              0.3333333333333333,
              "#9c179e"
             ],
             [
              0.4444444444444444,
              "#bd3786"
             ],
             [
              0.5555555555555556,
              "#d8576b"
             ],
             [
              0.6666666666666666,
              "#ed7953"
             ],
             [
              0.7777777777777778,
              "#fb9f3a"
             ],
             [
              0.8888888888888888,
              "#fdca26"
             ],
             [
              1,
              "#f0f921"
             ]
            ],
            "type": "histogram2dcontour"
           }
          ],
          "mesh3d": [
           {
            "colorbar": {
             "outlinewidth": 0,
             "ticks": ""
            },
            "type": "mesh3d"
           }
          ],
          "parcoords": [
           {
            "line": {
             "colorbar": {
              "outlinewidth": 0,
              "ticks": ""
             }
            },
            "type": "parcoords"
           }
          ],
          "pie": [
           {
            "automargin": true,
            "type": "pie"
           }
          ],
          "scatter": [
           {
            "marker": {
             "colorbar": {
              "outlinewidth": 0,
              "ticks": ""
             }
            },
            "type": "scatter"
           }
          ],
          "scatter3d": [
           {
            "line": {
             "colorbar": {
              "outlinewidth": 0,
              "ticks": ""
             }
            },
            "marker": {
             "colorbar": {
              "outlinewidth": 0,
              "ticks": ""
             }
            },
            "type": "scatter3d"
           }
          ],
          "scattercarpet": [
           {
            "marker": {
             "colorbar": {
              "outlinewidth": 0,
              "ticks": ""
             }
            },
            "type": "scattercarpet"
           }
          ],
          "scattergeo": [
           {
            "marker": {
             "colorbar": {
              "outlinewidth": 0,
              "ticks": ""
             }
            },
            "type": "scattergeo"
           }
          ],
          "scattergl": [
           {
            "marker": {
             "colorbar": {
              "outlinewidth": 0,
              "ticks": ""
             }
            },
            "type": "scattergl"
           }
          ],
          "scattermapbox": [
           {
            "marker": {
             "colorbar": {
              "outlinewidth": 0,
              "ticks": ""
             }
            },
            "type": "scattermapbox"
           }
          ],
          "scatterpolar": [
           {
            "marker": {
             "colorbar": {
              "outlinewidth": 0,
              "ticks": ""
             }
            },
            "type": "scatterpolar"
           }
          ],
          "scatterpolargl": [
           {
            "marker": {
             "colorbar": {
              "outlinewidth": 0,
              "ticks": ""
             }
            },
            "type": "scatterpolargl"
           }
          ],
          "scatterternary": [
           {
            "marker": {
             "colorbar": {
              "outlinewidth": 0,
              "ticks": ""
             }
            },
            "type": "scatterternary"
           }
          ],
          "surface": [
           {
            "colorbar": {
             "outlinewidth": 0,
             "ticks": ""
            },
            "colorscale": [
             [
              0,
              "#0d0887"
             ],
             [
              0.1111111111111111,
              "#46039f"
             ],
             [
              0.2222222222222222,
              "#7201a8"
             ],
             [
              0.3333333333333333,
              "#9c179e"
             ],
             [
              0.4444444444444444,
              "#bd3786"
             ],
             [
              0.5555555555555556,
              "#d8576b"
             ],
             [
              0.6666666666666666,
              "#ed7953"
             ],
             [
              0.7777777777777778,
              "#fb9f3a"
             ],
             [
              0.8888888888888888,
              "#fdca26"
             ],
             [
              1,
              "#f0f921"
             ]
            ],
            "type": "surface"
           }
          ],
          "table": [
           {
            "cells": {
             "fill": {
              "color": "#EBF0F8"
             },
             "line": {
              "color": "white"
             }
            },
            "header": {
             "fill": {
              "color": "#C8D4E3"
             },
             "line": {
              "color": "white"
             }
            },
            "type": "table"
           }
          ]
         },
         "layout": {
          "annotationdefaults": {
           "arrowcolor": "#2a3f5f",
           "arrowhead": 0,
           "arrowwidth": 1
          },
          "autotypenumbers": "strict",
          "coloraxis": {
           "colorbar": {
            "outlinewidth": 0,
            "ticks": ""
           }
          },
          "colorscale": {
           "diverging": [
            [
             0,
             "#8e0152"
            ],
            [
             0.1,
             "#c51b7d"
            ],
            [
             0.2,
             "#de77ae"
            ],
            [
             0.3,
             "#f1b6da"
            ],
            [
             0.4,
             "#fde0ef"
            ],
            [
             0.5,
             "#f7f7f7"
            ],
            [
             0.6,
             "#e6f5d0"
            ],
            [
             0.7,
             "#b8e186"
            ],
            [
             0.8,
             "#7fbc41"
            ],
            [
             0.9,
             "#4d9221"
            ],
            [
             1,
             "#276419"
            ]
           ],
           "sequential": [
            [
             0,
             "#0d0887"
            ],
            [
             0.1111111111111111,
             "#46039f"
            ],
            [
             0.2222222222222222,
             "#7201a8"
            ],
            [
             0.3333333333333333,
             "#9c179e"
            ],
            [
             0.4444444444444444,
             "#bd3786"
            ],
            [
             0.5555555555555556,
             "#d8576b"
            ],
            [
             0.6666666666666666,
             "#ed7953"
            ],
            [
             0.7777777777777778,
             "#fb9f3a"
            ],
            [
             0.8888888888888888,
             "#fdca26"
            ],
            [
             1,
             "#f0f921"
            ]
           ],
           "sequentialminus": [
            [
             0,
             "#0d0887"
            ],
            [
             0.1111111111111111,
             "#46039f"
            ],
            [
             0.2222222222222222,
             "#7201a8"
            ],
            [
             0.3333333333333333,
             "#9c179e"
            ],
            [
             0.4444444444444444,
             "#bd3786"
            ],
            [
             0.5555555555555556,
             "#d8576b"
            ],
            [
             0.6666666666666666,
             "#ed7953"
            ],
            [
             0.7777777777777778,
             "#fb9f3a"
            ],
            [
             0.8888888888888888,
             "#fdca26"
            ],
            [
             1,
             "#f0f921"
            ]
           ]
          },
          "colorway": [
           "#636efa",
           "#EF553B",
           "#00cc96",
           "#ab63fa",
           "#FFA15A",
           "#19d3f3",
           "#FF6692",
           "#B6E880",
           "#FF97FF",
           "#FECB52"
          ],
          "font": {
           "color": "#2a3f5f"
          },
          "geo": {
           "bgcolor": "white",
           "lakecolor": "white",
           "landcolor": "#E5ECF6",
           "showlakes": true,
           "showland": true,
           "subunitcolor": "white"
          },
          "hoverlabel": {
           "align": "left"
          },
          "hovermode": "closest",
          "mapbox": {
           "style": "light"
          },
          "paper_bgcolor": "white",
          "plot_bgcolor": "#E5ECF6",
          "polar": {
           "angularaxis": {
            "gridcolor": "white",
            "linecolor": "white",
            "ticks": ""
           },
           "bgcolor": "#E5ECF6",
           "radialaxis": {
            "gridcolor": "white",
            "linecolor": "white",
            "ticks": ""
           }
          },
          "scene": {
           "xaxis": {
            "backgroundcolor": "#E5ECF6",
            "gridcolor": "white",
            "gridwidth": 2,
            "linecolor": "white",
            "showbackground": true,
            "ticks": "",
            "zerolinecolor": "white"
           },
           "yaxis": {
            "backgroundcolor": "#E5ECF6",
            "gridcolor": "white",
            "gridwidth": 2,
            "linecolor": "white",
            "showbackground": true,
            "ticks": "",
            "zerolinecolor": "white"
           },
           "zaxis": {
            "backgroundcolor": "#E5ECF6",
            "gridcolor": "white",
            "gridwidth": 2,
            "linecolor": "white",
            "showbackground": true,
            "ticks": "",
            "zerolinecolor": "white"
           }
          },
          "shapedefaults": {
           "line": {
            "color": "#2a3f5f"
           }
          },
          "ternary": {
           "aaxis": {
            "gridcolor": "white",
            "linecolor": "white",
            "ticks": ""
           },
           "baxis": {
            "gridcolor": "white",
            "linecolor": "white",
            "ticks": ""
           },
           "bgcolor": "#E5ECF6",
           "caxis": {
            "gridcolor": "white",
            "linecolor": "white",
            "ticks": ""
           }
          },
          "title": {
           "x": 0.05
          },
          "xaxis": {
           "automargin": true,
           "gridcolor": "white",
           "linecolor": "white",
           "ticks": "",
           "title": {
            "standoff": 15
           },
           "zerolinecolor": "white",
           "zerolinewidth": 2
          },
          "yaxis": {
           "automargin": true,
           "gridcolor": "white",
           "linecolor": "white",
           "ticks": "",
           "title": {
            "standoff": 15
           },
           "zerolinecolor": "white",
           "zerolinewidth": 2
          }
         }
        },
        "title": {
         "text": ""
        }
       }
      },
      "image/png": "[encoded data removed]"
     },
     "metadata": {},
     "output_type": "display_data"
    },
    {
     "data": {
      "application/vnd.plotly.v1+json": {
       "config": {
        "plotlyServerURL": "https://plot.ly"
       },
       "data": [
        {
         "colorbar": {
          "title": {
           "text": "Component ID"
          }
         },
         "colorscale": [
          [
           0,
           "rgb(228, 241, 225)"
          ],
          [
           0.16666666666666666,
           "rgb(180, 217, 204)"
          ],
          [
           0.3333333333333333,
           "rgb(137, 192, 182)"
          ],
          [
           0.5,
           "rgb(99, 166, 160)"
          ],
          [
           0.6666666666666666,
           "rgb(68, 140, 138)"
          ],
          [
           0.8333333333333334,
           "rgb(40, 114, 116)"
          ],
          [
           1,
           "rgb(13, 88, 95)"
          ]
         ],
         "flatshading": false,
         "i": [
          0,
          0,
          4,
          4,
          8,
          8,
          12,
          12,
          16,
          16,
          20,
          20,
          24,
          24
         ],
         "intensity": [
          0,
          0,
          0,
          0,
          0,
          0,
          0,
          0,
          0,
          0,
          0,
          0,
          0,
          0,
          0,
          0,
          1,
          1,
          1,
          1,
          1,
          1,
          1,
          1,
          2,
          2,
          2,
          2
         ],
         "j": [
          1,
          2,
          5,
          6,
          9,
          10,
          13,
          14,
          17,
          18,
          21,
          22,
          25,
          26
         ],
         "k": [
          2,
          3,
          6,
          7,
          10,
          11,
          14,
          15,
          18,
          19,
          22,
          23,
          26,
          27
         ],
         "showscale": true,
         "type": "mesh3d",
         "x": [
          0,
          0.01,
          0.17,
          0.17989034886343724,
          0,
          0.01,
          0.17,
          0.17989034886343724,
          0.01,
          0.08,
          0.15995126616152766,
          0.17,
          0.01,
          0.08,
          0.15995126616152766,
          0.17,
          0.6,
          0.62,
          0.6987846202409767,
          0.6984807753012208,
          0.6,
          0.62,
          0.6987846202409767,
          0.6984807753012208,
          0.6,
          0.64,
          0.7,
          0.7
         ],
         "y": [
          0,
          0.5,
          0.5,
          0,
          0,
          -0.5,
          -0.5,
          0,
          0.5,
          1,
          1,
          0.5,
          -0.5,
          -1,
          -1,
          -0.5,
          0,
          0.17,
          0.17,
          0,
          0,
          -0.17,
          -0.17,
          0,
          0,
          0,
          0,
          0
         ],
         "z": [
          0,
          0,
          0,
          -0.006281909406450174,
          0,
          0,
          0,
          -0.006281909406450174,
          0,
          0.1,
          0.10279195973620009,
          0,
          0,
          0.1,
          0.10279195973620009,
          0,
          0.1,
          0.1,
          0.11389185421335443,
          0.11736481776669304,
          0.1,
          0.1,
          0.11389185421335443,
          0.11736481776669304,
          0.15,
          0.3,
          0.3,
          0.15
         ]
        },
        {
         "line": {
          "color": "rgb(0, 0, 0)",
          "width": 3
         },
         "mode": "lines",
         "name": "",
         "showlegend": false,
         "type": "scatter3d",
         "x": [
          0,
          0.01,
          0.17,
          0.17989034886343724,
          0,
          null,
          0,
          0.01,
          0.17,
          0.17989034886343724,
          0,
          null,
          0.04497258721585931,
          0.05,
          null,
          0.04497258721585931,
          0.05,
          null,
          0.01,
          0.08,
          0.15995126616152766,
          0.17,
          0.01,
          null,
          0.01,
          0.08,
          0.15995126616152766,
          0.17,
          0.01,
          null,
          0.05,
          0.09998781654038191,
          null,
          0.05,
          0.09998781654038191,
          null,
          0.6,
          0.62,
          0.6987846202409767,
          0.6984807753012208,
          0.6,
          null,
          0.6,
          0.62,
          0.6987846202409767,
          0.6984807753012208,
          0.6,
          null,
          0.6246201938253051,
          0.6396961550602441,
          null,
          0.6246201938253051,
          0.6396961550602441,
          null,
          0.6,
          0.64,
          0.7,
          0.7,
          0.6,
          null,
          0.625,
          0.655,
          null
         ],
         "y": [
          0,
          0.5,
          0.5,
          0,
          0,
          null,
          0,
          -0.5,
          -0.5,
          0,
          0,
          null,
          0,
          0.5,
          null,
          0,
          -0.5,
          null,
          0.5,
          1,
          1,
          0.5,
          0.5,
          null,
          -0.5,
          -1,
          -1,
          -0.5,
          -0.5,
          null,
          0.5,
          1,
          null,
          -0.5,
          -1,
          null,
          0,
          0.17,
          0.17,
          0,
          0,
          null,
          0,
          -0.17,
          -0.17,
          0,
          0,
          null,
          0,
          0.17,
          null,
          0,
          -0.17,
          null,
          0,
          0,
          0,
          0,
          0,
          null,
          0,
          0,
          null
         ],
         "z": [
          0,
          0,
          0,
          -0.006281909406450174,
          0,
          null,
          0,
          0,
          0,
          -0.006281909406450174,
          0,
          null,
          -0.0015704773516125436,
          0,
          null,
          -0.0015704773516125436,
          0,
          null,
          0,
          0.1,
          0.10279195973620009,
          0,
          0,
          null,
          0,
          0.1,
          0.10279195973620009,
          0,
          0,
          null,
          0,
          0.10069798993405003,
          null,
          0,
          0.10069798993405003,
          null,
          0.1,
          0.1,
          0.11389185421335443,
          0.11736481776669304,
          0.1,
          null,
          0.1,
          0.1,
          0.11389185421335443,
          0.11736481776669304,
          0.1,
          null,
          0.10434120444167327,
          0.10347296355333863,
          null,
          0.10434120444167327,
          0.10347296355333863,
          null,
          0.15,
          0.3,
          0.3,
          0.15,
          0.15,
          null,
          0.15,
          0.3,
          null
         ]
        },
        {
         "line": {
          "color": "rgba(119,0,255,200)",
          "width": 1
         },
         "mode": "lines",
         "name": "",
         "showlegend": false,
         "type": "scatter3d",
         "x": [],
         "y": [],
         "z": []
        }
       ],
       "layout": {
        "autosize": true,
        "scene": {
         "aspectmode": "data",
         "aspectratio": {
          "x": 0.9282855272542865,
          "y": 2.6522443635836757,
          "z": 0.4061672339454517
         },
         "camera": {
          "center": {
           "x": 0,
           "y": 0,
           "z": 0
          },
          "eye": {
           "x": 1.9594235892853735,
           "y": 1.9594235892853733,
           "z": 1.9594235892853733
          },
          "projection": {
           "type": "perspective"
          },
          "up": {
           "x": 0,
           "y": 0,
           "z": 1
          }
         }
        },
        "template": {
         "data": {
          "bar": [
           {
            "error_x": {
             "color": "#2a3f5f"
            },
            "error_y": {
             "color": "#2a3f5f"
            },
            "marker": {
             "line": {
              "color": "#E5ECF6",
              "width": 0.5
             },
             "pattern": {
              "fillmode": "overlay",
              "size": 10,
              "solidity": 0.2
             }
            },
            "type": "bar"
           }
          ],
          "barpolar": [
           {
            "marker": {
             "line": {
              "color": "#E5ECF6",
              "width": 0.5
             },
             "pattern": {
              "fillmode": "overlay",
              "size": 10,
              "solidity": 0.2
             }
            },
            "type": "barpolar"
           }
          ],
          "carpet": [
           {
            "aaxis": {
             "endlinecolor": "#2a3f5f",
             "gridcolor": "white",
             "linecolor": "white",
             "minorgridcolor": "white",
             "startlinecolor": "#2a3f5f"
            },
            "baxis": {
             "endlinecolor": "#2a3f5f",
             "gridcolor": "white",
             "linecolor": "white",
             "minorgridcolor": "white",
             "startlinecolor": "#2a3f5f"
            },
            "type": "carpet"
           }
          ],
          "choropleth": [
           {
            "colorbar": {
             "outlinewidth": 0,
             "ticks": ""
            },
            "type": "choropleth"
           }
          ],
          "contour": [
           {
            "colorbar": {
             "outlinewidth": 0,
             "ticks": ""
            },
            "colorscale": [
             [
              0,
              "#0d0887"
             ],
             [
              0.1111111111111111,
              "#46039f"
             ],
             [
              0.2222222222222222,
              "#7201a8"
             ],
             [
              0.3333333333333333,
              "#9c179e"
             ],
             [
              0.4444444444444444,
              "#bd3786"
             ],
             [
              0.5555555555555556,
              "#d8576b"
             ],
             [
              0.6666666666666666,
              "#ed7953"
             ],
             [
              0.7777777777777778,
              "#fb9f3a"
             ],
             [
              0.8888888888888888,
              "#fdca26"
             ],
             [
              1,
              "#f0f921"
             ]
            ],
            "type": "contour"
           }
          ],
          "contourcarpet": [
           {
            "colorbar": {
             "outlinewidth": 0,
             "ticks": ""
            },
            "type": "contourcarpet"
           }
          ],
          "heatmap": [
           {
            "colorbar": {
             "outlinewidth": 0,
             "ticks": ""
            },
            "colorscale": [
             [
              0,
              "#0d0887"
             ],
             [
              0.1111111111111111,
              "#46039f"
             ],
             [
              0.2222222222222222,
              "#7201a8"
             ],
             [
              0.3333333333333333,
              "#9c179e"
             ],
             [
              0.4444444444444444,
              "#bd3786"
             ],
             [
              0.5555555555555556,
              "#d8576b"
             ],
             [
              0.6666666666666666,
              "#ed7953"
             ],
             [
              0.7777777777777778,
              "#fb9f3a"
             ],
             [
              0.8888888888888888,
              "#fdca26"
             ],
             [
              1,
              "#f0f921"
             ]
            ],
            "type": "heatmap"
           }
          ],
          "heatmapgl": [
           {
            "colorbar": {
             "outlinewidth": 0,
             "ticks": ""
            },
            "colorscale": [
             [
              0,
              "#0d0887"
             ],
             [
              0.1111111111111111,
              "#46039f"
             ],
             [
              0.2222222222222222,
              "#7201a8"
             ],
             [
              0.3333333333333333,
              "#9c179e"
             ],
             [
              0.4444444444444444,
              "#bd3786"
             ],
             [
              0.5555555555555556,
              "#d8576b"
             ],
             [
              0.6666666666666666,
              "#ed7953"
             ],
             [
              0.7777777777777778,
              "#fb9f3a"
             ],
             [
              0.8888888888888888,
              "#fdca26"
             ],
             [
              1,
              "#f0f921"
             ]
            ],
            "type": "heatmapgl"
           }
          ],
          "histogram": [
           {
            "marker": {
             "pattern": {
              "fillmode": "overlay",
              "size": 10,
              "solidity": 0.2
             }
            },
            "type": "histogram"
           }
          ],
          "histogram2d": [
           {
            "colorbar": {
             "outlinewidth": 0,
             "ticks": ""
            },
            "colorscale": [
             [
              0,
              "#0d0887"
             ],
             [
              0.1111111111111111,
              "#46039f"
             ],
             [
              0.2222222222222222,
              "#7201a8"
             ],
             [
              0.3333333333333333,
              "#9c179e"
             ],
             [
              0.4444444444444444,
              "#bd3786"
             ],
             [
              0.5555555555555556,
              "#d8576b"
             ],
             [
              0.6666666666666666,
              "#ed7953"
             ],
             [
              0.7777777777777778,
              "#fb9f3a"
             ],
             [
              0.8888888888888888,
              "#fdca26"
             ],
             [
              1,
              "#f0f921"
             ]
            ],
            "type": "histogram2d"
           }
          ],
          "histogram2dcontour": [
           {
            "colorbar": {
             "outlinewidth": 0,
             "ticks": ""
            },
            "colorscale": [
             [
              0,
              "#0d0887"
             ],
             [
              0.1111111111111111,
              "#46039f"
             ],
             [
              0.2222222222222222,
              "#7201a8"
             ],
             [
              0.3333333333333333,
              "#9c179e"
             ],
             [
              0.4444444444444444,
              "#bd3786"
             ],
             [
              0.5555555555555556,
              "#d8576b"
             ],
             [
              0.6666666666666666,
              "#ed7953"
             ],
             [
              0.7777777777777778,
              "#fb9f3a"
             ],
             [
              0.8888888888888888,
              "#fdca26"
             ],
             [
              1,
              "#f0f921"
             ]
            ],
            "type": "histogram2dcontour"
           }
          ],
          "mesh3d": [
           {
            "colorbar": {
             "outlinewidth": 0,
             "ticks": ""
            },
            "type": "mesh3d"
           }
          ],
          "parcoords": [
           {
            "line": {
             "colorbar": {
              "outlinewidth": 0,
              "ticks": ""
             }
            },
            "type": "parcoords"
           }
          ],
          "pie": [
           {
            "automargin": true,
            "type": "pie"
           }
          ],
          "scatter": [
           {
            "marker": {
             "colorbar": {
              "outlinewidth": 0,
              "ticks": ""
             }
            },
            "type": "scatter"
           }
          ],
          "scatter3d": [
           {
            "line": {
             "colorbar": {
              "outlinewidth": 0,
              "ticks": ""
             }
            },
            "marker": {
             "colorbar": {
              "outlinewidth": 0,
              "ticks": ""
             }
            },
            "type": "scatter3d"
           }
          ],
          "scattercarpet": [
           {
            "marker": {
             "colorbar": {
              "outlinewidth": 0,
              "ticks": ""
             }
            },
            "type": "scattercarpet"
           }
          ],
          "scattergeo": [
           {
            "marker": {
             "colorbar": {
              "outlinewidth": 0,
              "ticks": ""
             }
            },
            "type": "scattergeo"
           }
          ],
          "scattergl": [
           {
            "marker": {
             "colorbar": {
              "outlinewidth": 0,
              "ticks": ""
             }
            },
            "type": "scattergl"
           }
          ],
          "scattermapbox": [
           {
            "marker": {
             "colorbar": {
              "outlinewidth": 0,
              "ticks": ""
             }
            },
            "type": "scattermapbox"
           }
          ],
          "scatterpolar": [
           {
            "marker": {
             "colorbar": {
              "outlinewidth": 0,
              "ticks": ""
             }
            },
            "type": "scatterpolar"
           }
          ],
          "scatterpolargl": [
           {
            "marker": {
             "colorbar": {
              "outlinewidth": 0,
              "ticks": ""
             }
            },
            "type": "scatterpolargl"
           }
          ],
          "scatterternary": [
           {
            "marker": {
             "colorbar": {
              "outlinewidth": 0,
              "ticks": ""
             }
            },
            "type": "scatterternary"
           }
          ],
          "surface": [
           {
            "colorbar": {
             "outlinewidth": 0,
             "ticks": ""
            },
            "colorscale": [
             [
              0,
              "#0d0887"
             ],
             [
              0.1111111111111111,
              "#46039f"
             ],
             [
              0.2222222222222222,
              "#7201a8"
             ],
             [
              0.3333333333333333,
              "#9c179e"
             ],
             [
              0.4444444444444444,
              "#bd3786"
             ],
             [
              0.5555555555555556,
              "#d8576b"
             ],
             [
              0.6666666666666666,
              "#ed7953"
             ],
             [
              0.7777777777777778,
              "#fb9f3a"
             ],
             [
              0.8888888888888888,
              "#fdca26"
             ],
             [
              1,
              "#f0f921"
             ]
            ],
            "type": "surface"
           }
          ],
          "table": [
           {
            "cells": {
             "fill": {
              "color": "#EBF0F8"
             },
             "line": {
              "color": "white"
             }
            },
            "header": {
             "fill": {
              "color": "#C8D4E3"
             },
             "line": {
              "color": "white"
             }
            },
            "type": "table"
           }
          ]
         },
         "layout": {
          "annotationdefaults": {
           "arrowcolor": "#2a3f5f",
           "arrowhead": 0,
           "arrowwidth": 1
          },
          "autotypenumbers": "strict",
          "coloraxis": {
           "colorbar": {
            "outlinewidth": 0,
            "ticks": ""
           }
          },
          "colorscale": {
           "diverging": [
            [
             0,
             "#8e0152"
            ],
            [
             0.1,
             "#c51b7d"
            ],
            [
             0.2,
             "#de77ae"
            ],
            [
             0.3,
             "#f1b6da"
            ],
            [
             0.4,
             "#fde0ef"
            ],
            [
             0.5,
             "#f7f7f7"
            ],
            [
             0.6,
             "#e6f5d0"
            ],
            [
             0.7,
             "#b8e186"
            ],
            [
             0.8,
             "#7fbc41"
            ],
            [
             0.9,
             "#4d9221"
            ],
            [
             1,
             "#276419"
            ]
           ],
           "sequential": [
            [
             0,
             "#0d0887"
            ],
            [
             0.1111111111111111,
             "#46039f"
            ],
            [
             0.2222222222222222,
             "#7201a8"
            ],
            [
             0.3333333333333333,
             "#9c179e"
            ],
            [
             0.4444444444444444,
             "#bd3786"
            ],
            [
             0.5555555555555556,
             "#d8576b"
            ],
            [
             0.6666666666666666,
             "#ed7953"
            ],
            [
             0.7777777777777778,
             "#fb9f3a"
            ],
            [
             0.8888888888888888,
             "#fdca26"
            ],
            [
             1,
             "#f0f921"
            ]
           ],
           "sequentialminus": [
            [
             0,
             "#0d0887"
            ],
            [
             0.1111111111111111,
             "#46039f"
            ],
            [
             0.2222222222222222,
             "#7201a8"
            ],
            [
             0.3333333333333333,
             "#9c179e"
            ],
            [
             0.4444444444444444,
             "#bd3786"
            ],
            [
             0.5555555555555556,
             "#d8576b"
            ],
            [
             0.6666666666666666,
             "#ed7953"
            ],
            [
             0.7777777777777778,
             "#fb9f3a"
            ],
            [
             0.8888888888888888,
             "#fdca26"
            ],
            [
             1,
             "#f0f921"
            ]
           ]
          },
          "colorway": [
           "#636efa",
           "#EF553B",
           "#00cc96",
           "#ab63fa",
           "#FFA15A",
           "#19d3f3",
           "#FF6692",
           "#B6E880",
           "#FF97FF",
           "#FECB52"
          ],
          "font": {
           "color": "#2a3f5f"
          },
          "geo": {
           "bgcolor": "white",
           "lakecolor": "white",
           "landcolor": "#E5ECF6",
           "showlakes": true,
           "showland": true,
           "subunitcolor": "white"
          },
          "hoverlabel": {
           "align": "left"
          },
          "hovermode": "closest",
          "mapbox": {
           "style": "light"
          },
          "paper_bgcolor": "white",
          "plot_bgcolor": "#E5ECF6",
          "polar": {
           "angularaxis": {
            "gridcolor": "white",
            "linecolor": "white",
            "ticks": ""
           },
           "bgcolor": "#E5ECF6",
           "radialaxis": {
            "gridcolor": "white",
            "linecolor": "white",
            "ticks": ""
           }
          },
          "scene": {
           "xaxis": {
            "backgroundcolor": "#E5ECF6",
            "gridcolor": "white",
            "gridwidth": 2,
            "linecolor": "white",
            "showbackground": true,
            "ticks": "",
            "zerolinecolor": "white"
           },
           "yaxis": {
            "backgroundcolor": "#E5ECF6",
            "gridcolor": "white",
            "gridwidth": 2,
            "linecolor": "white",
            "showbackground": true,
            "ticks": "",
            "zerolinecolor": "white"
           },
           "zaxis": {
            "backgroundcolor": "#E5ECF6",
            "gridcolor": "white",
            "gridwidth": 2,
            "linecolor": "white",
            "showbackground": true,
            "ticks": "",
            "zerolinecolor": "white"
           }
          },
          "shapedefaults": {
           "line": {
            "color": "#2a3f5f"
           }
          },
          "ternary": {
           "aaxis": {
            "gridcolor": "white",
            "linecolor": "white",
            "ticks": ""
           },
           "baxis": {
            "gridcolor": "white",
            "linecolor": "white",
            "ticks": ""
           },
           "bgcolor": "#E5ECF6",
           "caxis": {
            "gridcolor": "white",
            "linecolor": "white",
            "ticks": ""
           }
          },
          "title": {
           "x": 0.05
          },
          "xaxis": {
           "automargin": true,
           "gridcolor": "white",
           "linecolor": "white",
           "ticks": "",
           "title": {
            "standoff": 15
           },
           "zerolinecolor": "white",
           "zerolinewidth": 2
          },
          "yaxis": {
           "automargin": true,
           "gridcolor": "white",
           "linecolor": "white",
           "ticks": "",
           "title": {
            "standoff": 15
           },
           "zerolinecolor": "white",
           "zerolinewidth": 2
          }
         }
        },
        "title": {
         "text": ""
        }
       }
      },
      "image/png": "[encoded data removed]"
     },
     "metadata": {},
     "output_type": "display_data"
    }
   ],
   "source": [
    "rg15 = Airfoil(name=\"rg15\").repanel(50)\n",
    "\n",
    "glider = Airplane(\n",
    "    name=\"Peter's Glider\",\n",
    "    xyz_ref=[0, 0, 0],  # CG location\n",
    "    wings=[\n",
    "        Wing(\n",
    "            name=\"Main Wing\",\n",
    "            xyz_le=[0, 0, 0],  # Coordinates of the wing's leading edge\n",
    "            symmetric=True,  # Should we mirror the wing across the XZ plane?\n",
    "            xsecs=[  # The wing's cross (\"X\") sections\n",
    "                WingXSec(  # Root cross (\"X\") section\n",
    "                    xyz_le=[0, 0, 0],  # Coordinates of the XSec's leading edge, relative to the wing's leading edge.\n",
    "                    chord=0.18,\n",
    "                    twist_angle=2,  # degrees\n",
    "                    airfoil=rg15,\n",
    "                    control_surface_is_symmetric=True,\n",
    "                    # Flap # Control surfaces are applied between a given XSec and the next one.\n",
    "                    control_surface_deflection=0,  # degrees\n",
    "                    control_surface_hinge_point=0.75  # as chord fraction\n",
    "                ),\n",
    "                WingXSec(  # Mid\n",
    "                    xyz_le=[0.01, 0.5, 0],\n",
    "                    chord=0.16,\n",
    "                    twist_angle=0,\n",
    "                    airfoil=rg15,\n",
    "                    control_surface_is_symmetric=False,  # Aileron\n",
    "                    control_surface_deflection=0,\n",
    "                    control_surface_hinge_point=0.75\n",
    "                ),\n",
    "                WingXSec(  # Tip\n",
    "                    xyz_le=[0.08, 1, 0.1],\n",
    "                    chord=0.08,\n",
    "                    twist_angle=-2,\n",
    "                    airfoil=rg15,\n",
    "                )\n",
    "            ]\n",
    "        ),\n",
    "        Wing(\n",
    "            name=\"Horizontal Stabilizer\",\n",
    "            xyz_le=[0.6, 0, 0.1],\n",
    "            symmetric=True,\n",
    "            xsecs=[\n",
    "                WingXSec(  # root\n",
    "                    xyz_le=[0, 0, 0],\n",
    "                    chord=0.1,\n",
    "                    twist_angle=-10,\n",
    "                    airfoil=Airfoil(name=\"naca0012\"),\n",
    "                    control_surface_is_symmetric=True,  # Elevator\n",
    "                    control_surface_deflection=0,\n",
    "                    control_surface_hinge_point=0.75\n",
    "                ),\n",
    "                WingXSec(  # tip\n",
    "                    xyz_le=[0.02, 0.17, 0],\n",
    "                    chord=0.08,\n",
    "                    twist_angle=-10,\n",
    "                    airfoil=Airfoil(name=\"naca0012\")\n",
    "                )\n",
    "            ]\n",
    "        ),\n",
    "        Wing(\n",
    "            name=\"Vertical Stabilizer\",\n",
    "            xyz_le=[0.6, 0, 0.15],\n",
    "            symmetric=False,\n",
    "            xsecs=[\n",
    "                WingXSec(\n",
    "                    xyz_le=[0, 0, 0],\n",
    "                    chord=0.1,\n",
    "                    twist_angle=0,\n",
    "                    airfoil=Airfoil(name=\"naca0012\"),\n",
    "                    control_surface_is_symmetric='symmetric',  # Rudder\n",
    "                    control_surface_deflection=0,\n",
    "                    control_surface_hinge_point=0.75\n",
    "                ),\n",
    "                WingXSec(\n",
    "                    xyz_le=[0.04, 0, 0.15],\n",
    "                    chord=0.06,\n",
    "                    twist_angle=0,\n",
    "                    airfoil=Airfoil(name=\"naca0012\")\n",
    "                )\n",
    "            ]\n",
    "        )\n",
    "    ]\n",
    ")\n",
    "\n",
    "glider.draw() "
   ]
  },
  {
   "cell_type": "code",
   "execution_count": 133,
   "id": "53541b64-a0d6-44d8-8567-ac6481c804b4",
   "metadata": {},
   "outputs": [
    {
     "data": {
      "application/vnd.plotly.v1+json": {
       "config": {
        "plotlyServerURL": "https://plot.ly"
       },
       "data": [
        {
         "fill": "toself",
         "line": {
          "color": "blue"
         },
         "mode": "lines+markers",
         "name": "Airfoil",
         "type": "scatter",
         "x": [
          1,
          0.9989681572507038,
          0.9958819583135821,
          0.9907649313769924,
          0.9836420707689756,
          0.9745340125976873,
          0.9634617194147866,
          0.9504564672984361,
          0.9355656640705664,
          0.9188560679307806,
          0.90040162660928,
          0.8802763565479989,
          0.8585616797249197,
          0.8353459283736572,
          0.8107230557926413,
          0.7847925765867393,
          0.7576593388728272,
          0.7294335144688877,
          0.7002298181651615,
          0.6701669256992284,
          0.6393674509953066,
          0.6079571961802175,
          0.5760644391073662,
          0.5438205045111172,
          0.5113587355232262,
          0.4788129704151568,
          0.44631844405951715,
          0.4140112219542298,
          0.38202694356370415,
          0.35050082861688725,
          0.3195672052020676,
          0.2893588914620985,
          0.26000691069986787,
          0.23163994590041917,
          0.2043839033043805,
          0.17836156839270648,
          0.15369201653744158,
          0.13049072574860202,
          0.1088673997117048,
          0.0889273063392886,
          0.07077670127648161,
          0.054507833123941356,
          0.04021959409271223,
          0.02802687418625653,
          0.017960497349189627,
          0.010167623043426749,
          0.004750198972020783,
          0.0013892062887233012,
          0.0001121763892412542,
          0,
          0.00010704386397366805,
          0.0016148435961620335,
          0.005817401309242915,
          0.012301053443326675,
          0.021009259084965225,
          0.03184464142446435,
          0.04468075927533337,
          0.05945020530717155,
          0.07607333367148338,
          0.09446073848193931,
          0.11452881110349342,
          0.13618817424115134,
          0.15934343465136402,
          0.18389599911544222,
          0.20974223586637283,
          0.23677367622906045,
          0.2648777304422027,
          0.29393774468377726,
          0.32383343248326246,
          0.3544412368853165,
          0.38563478707888355,
          0.41728538748778654,
          0.4492623674212595,
          0.48143350871140395,
          0.5136652324802714,
          0.5458222075468029,
          0.577766921454659,
          0.6093670700726971,
          0.6404961355364,
          0.6710324080951362,
          0.7008558074455671,
          0.7298466745041443,
          0.7578881113264339,
          0.7848664686044735,
          0.8106712601406093,
          0.8351962628261229,
          0.8583402183641787,
          0.8800069714630108,
          0.9001060217290937,
          0.9185532646633804,
          0.9352713673587645,
          0.950189879369194,
          0.9632460733185884,
          0.9743852595760348,
          0.9835607189104993,
          0.99073433027258,
          0.9958765894132647,
          0.998968404944101,
          1
         ],
         "y": [
          0,
          0.00016368804902716148,
          0.0006835171832337673,
          0.0016195085930722475,
          0.0029880781124781894,
          0.0047333352338101795,
          0.006762810446315604,
          0.008984304988518375,
          0.011339632775480994,
          0.01384650839439815,
          0.016522481537173183,
          0.019342701077130958,
          0.02228356878988783,
          0.025322310360211618,
          0.0284320415384248,
          0.031582591476285074,
          0.03474181622630174,
          0.037879300918738396,
          0.04096322787932921,
          0.04395935470816245,
          0.04683518402711555,
          0.04955668869156197,
          0.052085410340588695,
          0.05439251621168645,
          0.05645162721295059,
          0.05822336513490922,
          0.05967758352239924,
          0.06079258825565418,
          0.061539325648441626,
          0.06189327395780248,
          0.061837298009600444,
          0.061356766765894244,
          0.06043703848450943,
          0.059065738535059364,
          0.05724118434931539,
          0.05496516153329212,
          0.05224339985819069,
          0.049091685526468594,
          0.04553531398552141,
          0.0416059141893365,
          0.0373316479462972,
          0.0327555347548669,
          0.027932517274292287,
          0.022921623390853147,
          0.01781703955606396,
          0.012786003435719694,
          0.008060529496885585,
          0.0039060035568650245,
          0.0010204669163478095,
          0,
          -0.0010199941060599132,
          -0.0037189820129268176,
          -0.007042564721450099,
          -0.009997932877973988,
          -0.012840904738977381,
          -0.015542938958366512,
          -0.017907614992406385,
          -0.020002084679013175,
          -0.021835826317188296,
          -0.02339653290175002,
          -0.0246999309547402,
          -0.025761008189157393,
          -0.02659329834506881,
          -0.027205669572409705,
          -0.02760885655657357,
          -0.027815173126204688,
          -0.027838374597682403,
          -0.027690898076596738,
          -0.027378970079082847,
          -0.026909837718454746,
          -0.0262914606080958,
          -0.025529221725256568,
          -0.02462509222784878,
          -0.02357497604725216,
          -0.02235853648764477,
          -0.02093516327136223,
          -0.01923974822053506,
          -0.017294609346507388,
          -0.015196588066762566,
          -0.013053951606346263,
          -0.010953679190832866,
          -0.00894533746585166,
          -0.007071329354300208,
          -0.0053664707105262,
          -0.003850600798449559,
          -0.0025369767160351797,
          -0.0014370685646518933,
          -0.0005517283478087582,
          0.00012724835438439786,
          0.0006050685391972632,
          0.0008946051288899407,
          0.0010238936777796801,
          0.0010221968693994255,
          0.0009150013653348503,
          0.000726600265604269,
          0.0004896590885937535,
          0.00024976940787601297,
          6.792563594834213e-05,
          0
         ]
        },
        {
         "line": {
          "color": "navy"
         },
         "mode": "lines+markers",
         "name": "Mean Camber Line (MCL)",
         "type": "scatter",
         "x": [
          0,
          0.01020408163265306,
          0.02040816326530612,
          0.030612244897959183,
          0.04081632653061224,
          0.0510204081632653,
          0.061224489795918366,
          0.07142857142857142,
          0.08163265306122448,
          0.09183673469387754,
          0.1020408163265306,
          0.11224489795918366,
          0.12244897959183673,
          0.13265306122448978,
          0.14285714285714285,
          0.1530612244897959,
          0.16326530612244897,
          0.17346938775510204,
          0.18367346938775508,
          0.19387755102040816,
          0.2040816326530612,
          0.21428571428571427,
          0.22448979591836732,
          0.2346938775510204,
          0.24489795918367346,
          0.25510204081632654,
          0.26530612244897955,
          0.2755102040816326,
          0.2857142857142857,
          0.29591836734693877,
          0.3061224489795918,
          0.31632653061224486,
          0.32653061224489793,
          0.336734693877551,
          0.3469387755102041,
          0.3571428571428571,
          0.36734693877551017,
          0.37755102040816324,
          0.3877551020408163,
          0.39795918367346933,
          0.4081632653061224,
          0.4183673469387755,
          0.42857142857142855,
          0.4387755102040816,
          0.44897959183673464,
          0.4591836734693877,
          0.4693877551020408,
          0.47959183673469385,
          0.4897959183673469,
          0.49999999999999994,
          0.5102040816326531,
          0.520408163265306,
          0.5306122448979591,
          0.5408163265306122,
          0.5510204081632653,
          0.5612244897959183,
          0.5714285714285714,
          0.5816326530612245,
          0.5918367346938775,
          0.6020408163265306,
          0.6122448979591836,
          0.6224489795918366,
          0.6326530612244897,
          0.6428571428571428,
          0.6530612244897959,
          0.6632653061224489,
          0.673469387755102,
          0.6836734693877551,
          0.6938775510204082,
          0.7040816326530611,
          0.7142857142857142,
          0.7244897959183673,
          0.7346938775510203,
          0.7448979591836734,
          0.7551020408163265,
          0.7653061224489796,
          0.7755102040816326,
          0.7857142857142857,
          0.7959183673469387,
          0.8061224489795917,
          0.8163265306122448,
          0.8265306122448979,
          0.836734693877551,
          0.846938775510204,
          0.8571428571428571,
          0.8673469387755102,
          0.8775510204081632,
          0.8877551020408162,
          0.8979591836734693,
          0.9081632653061223,
          0.9183673469387754,
          0.9285714285714285,
          0.9387755102040816,
          0.9489795918367346,
          0.9591836734693877,
          0.9693877551020408,
          0.9795918367346939,
          0.9897959183673468,
          1
         ],
         "y": [
          0,
          0.0018837232121433059,
          0.0032067838918552888,
          0.004374264816778881,
          0.005469118989853703,
          0.006385851074356665,
          0.007223493834302265,
          0.008080852968392015,
          0.008790203907810382,
          0.009502718539221819,
          0.010150607791279851,
          0.010769607520061567,
          0.011340565640933095,
          0.01189879824236656,
          0.012385424967444627,
          0.01289511020611454,
          0.013304247304490566,
          0.013739898079202137,
          0.014114821660136789,
          0.014480439175524109,
          0.014847096103511648,
          0.015130244837980155,
          0.0154328407877796,
          0.01570703542959349,
          0.0159423849111389,
          0.016184812894635338,
          0.016383442918167113,
          0.016569204901208653,
          0.01675496688425019,
          0.016895438749799357,
          0.017029832274132274,
          0.017164225798465195,
          0.01725613440835662,
          0.01734356687813353,
          0.017430999347910443,
          0.017481210900391328,
          0.01752507177189759,
          0.017568932643403853,
          0.017582596510300932,
          0.017586351134005463,
          0.017590105757709994,
          0.017571808636756128,
          0.017539981255024602,
          0.017508153873293082,
          0.01746270119561108,
          0.017400292097184834,
          0.017338500463488973,
          0.017272936921640197,
          0.01718304825866318,
          0.017097854833056227,
          0.01701266140744927,
          0.016908766379353096,
          0.016810967409028002,
          0.0167131684387029,
          0.016609037200860703,
          0.01651476062526097,
          0.016420484049661246,
          0.016321061072696708,
          0.016230583851008278,
          0.016140106629319848,
          0.016042267434952108,
          0.01594407190702269,
          0.01584587637909328,
          0.0157392093656394,
          0.01562081270478263,
          0.015502416043925858,
          0.015373947120160606,
          0.01522477202393825,
          0.015075596927715894,
          0.01491313193029355,
          0.014727797288209783,
          0.014542462646126013,
          0.014336589067269872,
          0.014110433100618453,
          0.013884277133967032,
          0.013624456867186887,
          0.0133528232583239,
          0.013076968584843815,
          0.012756784220909556,
          0.012436599856975294,
          0.01208833222574259,
          0.011717251803908266,
          0.011338334801094231,
          0.010912994325619693,
          0.010487653850145155,
          0.010012361300580433,
          0.009529858418996999,
          0.009002347760546321,
          0.008459736942586607,
          0.00786647879109654,
          0.007258813967849837,
          0.006583760633467327,
          0.005878446947780359,
          0.005115656113305675,
          0.004258145240692741,
          0.0033198512988871533,
          0.0022861324973194696,
          0.0011631734327981567,
          0
         ]
        }
       ],
       "layout": {
        "autosize": true,
        "template": {
         "data": {
          "bar": [
           {
            "error_x": {
             "color": "#2a3f5f"
            },
            "error_y": {
             "color": "#2a3f5f"
            },
            "marker": {
             "line": {
              "color": "#E5ECF6",
              "width": 0.5
             },
             "pattern": {
              "fillmode": "overlay",
              "size": 10,
              "solidity": 0.2
             }
            },
            "type": "bar"
           }
          ],
          "barpolar": [
           {
            "marker": {
             "line": {
              "color": "#E5ECF6",
              "width": 0.5
             },
             "pattern": {
              "fillmode": "overlay",
              "size": 10,
              "solidity": 0.2
             }
            },
            "type": "barpolar"
           }
          ],
          "carpet": [
           {
            "aaxis": {
             "endlinecolor": "#2a3f5f",
             "gridcolor": "white",
             "linecolor": "white",
             "minorgridcolor": "white",
             "startlinecolor": "#2a3f5f"
            },
            "baxis": {
             "endlinecolor": "#2a3f5f",
             "gridcolor": "white",
             "linecolor": "white",
             "minorgridcolor": "white",
             "startlinecolor": "#2a3f5f"
            },
            "type": "carpet"
           }
          ],
          "choropleth": [
           {
            "colorbar": {
             "outlinewidth": 0,
             "ticks": ""
            },
            "type": "choropleth"
           }
          ],
          "contour": [
           {
            "colorbar": {
             "outlinewidth": 0,
             "ticks": ""
            },
            "colorscale": [
             [
              0,
              "#0d0887"
             ],
             [
              0.1111111111111111,
              "#46039f"
             ],
             [
              0.2222222222222222,
              "#7201a8"
             ],
             [
              0.3333333333333333,
              "#9c179e"
             ],
             [
              0.4444444444444444,
              "#bd3786"
             ],
             [
              0.5555555555555556,
              "#d8576b"
             ],
             [
              0.6666666666666666,
              "#ed7953"
             ],
             [
              0.7777777777777778,
              "#fb9f3a"
             ],
             [
              0.8888888888888888,
              "#fdca26"
             ],
             [
              1,
              "#f0f921"
             ]
            ],
            "type": "contour"
           }
          ],
          "contourcarpet": [
           {
            "colorbar": {
             "outlinewidth": 0,
             "ticks": ""
            },
            "type": "contourcarpet"
           }
          ],
          "heatmap": [
           {
            "colorbar": {
             "outlinewidth": 0,
             "ticks": ""
            },
            "colorscale": [
             [
              0,
              "#0d0887"
             ],
             [
              0.1111111111111111,
              "#46039f"
             ],
             [
              0.2222222222222222,
              "#7201a8"
             ],
             [
              0.3333333333333333,
              "#9c179e"
             ],
             [
              0.4444444444444444,
              "#bd3786"
             ],
             [
              0.5555555555555556,
              "#d8576b"
             ],
             [
              0.6666666666666666,
              "#ed7953"
             ],
             [
              0.7777777777777778,
              "#fb9f3a"
             ],
             [
              0.8888888888888888,
              "#fdca26"
             ],
             [
              1,
              "#f0f921"
             ]
            ],
            "type": "heatmap"
           }
          ],
          "heatmapgl": [
           {
            "colorbar": {
             "outlinewidth": 0,
             "ticks": ""
            },
            "colorscale": [
             [
              0,
              "#0d0887"
             ],
             [
              0.1111111111111111,
              "#46039f"
             ],
             [
              0.2222222222222222,
              "#7201a8"
             ],
             [
              0.3333333333333333,
              "#9c179e"
             ],
             [
              0.4444444444444444,
              "#bd3786"
             ],
             [
              0.5555555555555556,
              "#d8576b"
             ],
             [
              0.6666666666666666,
              "#ed7953"
             ],
             [
              0.7777777777777778,
              "#fb9f3a"
             ],
             [
              0.8888888888888888,
              "#fdca26"
             ],
             [
              1,
              "#f0f921"
             ]
            ],
            "type": "heatmapgl"
           }
          ],
          "histogram": [
           {
            "marker": {
             "pattern": {
              "fillmode": "overlay",
              "size": 10,
              "solidity": 0.2
             }
            },
            "type": "histogram"
           }
          ],
          "histogram2d": [
           {
            "colorbar": {
             "outlinewidth": 0,
             "ticks": ""
            },
            "colorscale": [
             [
              0,
              "#0d0887"
             ],
             [
              0.1111111111111111,
              "#46039f"
             ],
             [
              0.2222222222222222,
              "#7201a8"
             ],
             [
              0.3333333333333333,
              "#9c179e"
             ],
             [
              0.4444444444444444,
              "#bd3786"
             ],
             [
              0.5555555555555556,
              "#d8576b"
             ],
             [
              0.6666666666666666,
              "#ed7953"
             ],
             [
              0.7777777777777778,
              "#fb9f3a"
             ],
             [
              0.8888888888888888,
              "#fdca26"
             ],
             [
              1,
              "#f0f921"
             ]
            ],
            "type": "histogram2d"
           }
          ],
          "histogram2dcontour": [
           {
            "colorbar": {
             "outlinewidth": 0,
             "ticks": ""
            },
            "colorscale": [
             [
              0,
              "#0d0887"
             ],
             [
              0.1111111111111111,
              "#46039f"
             ],
             [
              0.2222222222222222,
              "#7201a8"
             ],
             [
              0.3333333333333333,
              "#9c179e"
             ],
             [
              0.4444444444444444,
              "#bd3786"
             ],
             [
              0.5555555555555556,
              "#d8576b"
             ],
             [
              0.6666666666666666,
              "#ed7953"
             ],
             [
              0.7777777777777778,
              "#fb9f3a"
             ],
             [
              0.8888888888888888,
              "#fdca26"
             ],
             [
              1,
              "#f0f921"
             ]
            ],
            "type": "histogram2dcontour"
           }
          ],
          "mesh3d": [
           {
            "colorbar": {
             "outlinewidth": 0,
             "ticks": ""
            },
            "type": "mesh3d"
           }
          ],
          "parcoords": [
           {
            "line": {
             "colorbar": {
              "outlinewidth": 0,
              "ticks": ""
             }
            },
            "type": "parcoords"
           }
          ],
          "pie": [
           {
            "automargin": true,
            "type": "pie"
           }
          ],
          "scatter": [
           {
            "marker": {
             "colorbar": {
              "outlinewidth": 0,
              "ticks": ""
             }
            },
            "type": "scatter"
           }
          ],
          "scatter3d": [
           {
            "line": {
             "colorbar": {
              "outlinewidth": 0,
              "ticks": ""
             }
            },
            "marker": {
             "colorbar": {
              "outlinewidth": 0,
              "ticks": ""
             }
            },
            "type": "scatter3d"
           }
          ],
          "scattercarpet": [
           {
            "marker": {
             "colorbar": {
              "outlinewidth": 0,
              "ticks": ""
             }
            },
            "type": "scattercarpet"
           }
          ],
          "scattergeo": [
           {
            "marker": {
             "colorbar": {
              "outlinewidth": 0,
              "ticks": ""
             }
            },
            "type": "scattergeo"
           }
          ],
          "scattergl": [
           {
            "marker": {
             "colorbar": {
              "outlinewidth": 0,
              "ticks": ""
             }
            },
            "type": "scattergl"
           }
          ],
          "scattermapbox": [
           {
            "marker": {
             "colorbar": {
              "outlinewidth": 0,
              "ticks": ""
             }
            },
            "type": "scattermapbox"
           }
          ],
          "scatterpolar": [
           {
            "marker": {
             "colorbar": {
              "outlinewidth": 0,
              "ticks": ""
             }
            },
            "type": "scatterpolar"
           }
          ],
          "scatterpolargl": [
           {
            "marker": {
             "colorbar": {
              "outlinewidth": 0,
              "ticks": ""
             }
            },
            "type": "scatterpolargl"
           }
          ],
          "scatterternary": [
           {
            "marker": {
             "colorbar": {
              "outlinewidth": 0,
              "ticks": ""
             }
            },
            "type": "scatterternary"
           }
          ],
          "surface": [
           {
            "colorbar": {
             "outlinewidth": 0,
             "ticks": ""
            },
            "colorscale": [
             [
              0,
              "#0d0887"
             ],
             [
              0.1111111111111111,
              "#46039f"
             ],
             [
              0.2222222222222222,
              "#7201a8"
             ],
             [
              0.3333333333333333,
              "#9c179e"
             ],
             [
              0.4444444444444444,
              "#bd3786"
             ],
             [
              0.5555555555555556,
              "#d8576b"
             ],
             [
              0.6666666666666666,
              "#ed7953"
             ],
             [
              0.7777777777777778,
              "#fb9f3a"
             ],
             [
              0.8888888888888888,
              "#fdca26"
             ],
             [
              1,
              "#f0f921"
             ]
            ],
            "type": "surface"
           }
          ],
          "table": [
           {
            "cells": {
             "fill": {
              "color": "#EBF0F8"
             },
             "line": {
              "color": "white"
             }
            },
            "header": {
             "fill": {
              "color": "#C8D4E3"
             },
             "line": {
              "color": "white"
             }
            },
            "type": "table"
           }
          ]
         },
         "layout": {
          "annotationdefaults": {
           "arrowcolor": "#2a3f5f",
           "arrowhead": 0,
           "arrowwidth": 1
          },
          "autotypenumbers": "strict",
          "coloraxis": {
           "colorbar": {
            "outlinewidth": 0,
            "ticks": ""
           }
          },
          "colorscale": {
           "diverging": [
            [
             0,
             "#8e0152"
            ],
            [
             0.1,
             "#c51b7d"
            ],
            [
             0.2,
             "#de77ae"
            ],
            [
             0.3,
             "#f1b6da"
            ],
            [
             0.4,
             "#fde0ef"
            ],
            [
             0.5,
             "#f7f7f7"
            ],
            [
             0.6,
             "#e6f5d0"
            ],
            [
             0.7,
             "#b8e186"
            ],
            [
             0.8,
             "#7fbc41"
            ],
            [
             0.9,
             "#4d9221"
            ],
            [
             1,
             "#276419"
            ]
           ],
           "sequential": [
            [
             0,
             "#0d0887"
            ],
            [
             0.1111111111111111,
             "#46039f"
            ],
            [
             0.2222222222222222,
             "#7201a8"
            ],
            [
             0.3333333333333333,
             "#9c179e"
            ],
            [
             0.4444444444444444,
             "#bd3786"
            ],
            [
             0.5555555555555556,
             "#d8576b"
            ],
            [
             0.6666666666666666,
             "#ed7953"
            ],
            [
             0.7777777777777778,
             "#fb9f3a"
            ],
            [
             0.8888888888888888,
             "#fdca26"
            ],
            [
             1,
             "#f0f921"
            ]
           ],
           "sequentialminus": [
            [
             0,
             "#0d0887"
            ],
            [
             0.1111111111111111,
             "#46039f"
            ],
            [
             0.2222222222222222,
             "#7201a8"
            ],
            [
             0.3333333333333333,
             "#9c179e"
            ],
            [
             0.4444444444444444,
             "#bd3786"
            ],
            [
             0.5555555555555556,
             "#d8576b"
            ],
            [
             0.6666666666666666,
             "#ed7953"
            ],
            [
             0.7777777777777778,
             "#fb9f3a"
            ],
            [
             0.8888888888888888,
             "#fdca26"
            ],
            [
             1,
             "#f0f921"
            ]
           ]
          },
          "colorway": [
           "#636efa",
           "#EF553B",
           "#00cc96",
           "#ab63fa",
           "#FFA15A",
           "#19d3f3",
           "#FF6692",
           "#B6E880",
           "#FF97FF",
           "#FECB52"
          ],
          "font": {
           "color": "#2a3f5f"
          },
          "geo": {
           "bgcolor": "white",
           "lakecolor": "white",
           "landcolor": "#E5ECF6",
           "showlakes": true,
           "showland": true,
           "subunitcolor": "white"
          },
          "hoverlabel": {
           "align": "left"
          },
          "hovermode": "closest",
          "mapbox": {
           "style": "light"
          },
          "paper_bgcolor": "white",
          "plot_bgcolor": "#E5ECF6",
          "polar": {
           "angularaxis": {
            "gridcolor": "white",
            "linecolor": "white",
            "ticks": ""
           },
           "bgcolor": "#E5ECF6",
           "radialaxis": {
            "gridcolor": "white",
            "linecolor": "white",
            "ticks": ""
           }
          },
          "scene": {
           "xaxis": {
            "backgroundcolor": "#E5ECF6",
            "gridcolor": "white",
            "gridwidth": 2,
            "linecolor": "white",
            "showbackground": true,
            "ticks": "",
            "zerolinecolor": "white"
           },
           "yaxis": {
            "backgroundcolor": "#E5ECF6",
            "gridcolor": "white",
            "gridwidth": 2,
            "linecolor": "white",
            "showbackground": true,
            "ticks": "",
            "zerolinecolor": "white"
           },
           "zaxis": {
            "backgroundcolor": "#E5ECF6",
            "gridcolor": "white",
            "gridwidth": 2,
            "linecolor": "white",
            "showbackground": true,
            "ticks": "",
            "zerolinecolor": "white"
           }
          },
          "shapedefaults": {
           "line": {
            "color": "#2a3f5f"
           }
          },
          "ternary": {
           "aaxis": {
            "gridcolor": "white",
            "linecolor": "white",
            "ticks": ""
           },
           "baxis": {
            "gridcolor": "white",
            "linecolor": "white",
            "ticks": ""
           },
           "bgcolor": "#E5ECF6",
           "caxis": {
            "gridcolor": "white",
            "linecolor": "white",
            "ticks": ""
           }
          },
          "title": {
           "x": 0.05
          },
          "xaxis": {
           "automargin": true,
           "gridcolor": "white",
           "linecolor": "white",
           "ticks": "",
           "title": {
            "standoff": 15
           },
           "zerolinecolor": "white",
           "zerolinewidth": 2
          },
          "yaxis": {
           "automargin": true,
           "gridcolor": "white",
           "linecolor": "white",
           "ticks": "",
           "title": {
            "standoff": 15
           },
           "zerolinecolor": "white",
           "zerolinewidth": 2
          }
         }
        },
        "title": {
         "text": "rg15 Airfoil"
        },
        "xaxis": {
         "autorange": true,
         "domain": [
          0,
          1
         ],
         "range": [
          -0.061706524948331856,
          1.061706524948332
         ],
         "title": {
          "text": "x/c"
         },
         "type": "linear"
        },
        "yaxis": {
         "autorange": true,
         "domain": [
          0,
          1
         ],
         "range": [
          -0.1158334892039081,
          0.14988838856402814
         ],
         "scaleanchor": "x",
         "scaleratio": 1,
         "title": {
          "text": "y/c"
         },
         "type": "linear"
        }
       }
      },
      "image/png": "[encoded data removed]"
     },
     "metadata": {},
     "output_type": "display_data"
    }
   ],
   "source": [
    "airfoil = rg15\n",
    "airfoil.draw()"
   ]
  },
  {
   "cell_type": "code",
   "execution_count": 134,
   "id": "b5f8922c-cbed-4437-a1ef-0be574348341",
   "metadata": {},
   "outputs": [
    {
     "data": {
      "application/vnd.plotly.v1+json": {
       "config": {
        "plotlyServerURL": "https://plot.ly"
       },
       "data": [
        {
         "fill": "toself",
         "line": {
          "color": "blue"
         },
         "mode": "lines+markers",
         "name": "Airfoil",
         "type": "scatter",
         "x": [
          1,
          0.9999376947588287,
          0.9997507945630869,
          0.9994393459922217,
          0.9990034266657467,
          0.9984431452238967,
          0.997758641300553,
          0.9969500854884439,
          0.9960176792966289,
          0.9949616551002786,
          0.9937822760827619,
          0.9924798361700553,
          0.9910546599574902,
          0.9895071026288573,
          0.9878375498678869,
          0.9860464177621284,
          0.9841341526992536,
          0.9821012312558058,
          0.9799481600784286,
          0.9776754757575974,
          0.9752837446938913,
          0.9727735629568336,
          0.9701455561363378,
          0.9674003791867991,
          0.9645387162638652,
          0.9615612805539304,
          0.9584688140963944,
          0.9552620875987311,
          0.9519419002444118,
          0.9485090794937318,
          0.9449644808775901,
          0.9413089877842735,
          0.9375435112392969,
          0.9336689896783574,
          0.929686388713456,
          0.9255967008922472,
          0.9214009454506753,
          0.9171001680589588,
          0.9126954405609882,
          0.9081878607071996,
          0.9035785518809927,
          0.8988686628187597,
          0.8940593673235961,
          0.8891518639727651,
          0.8841473758189854,
          0.8790471500856227,
          0.8738524578558546,
          0.8685645937558895,
          0.8631848756323197,
          0.8577146442236856,
          0.852155262826336,
          0.846508116954666,
          0.8407746139958169,
          0.8349561828589277,
          0.8290542736190188,
          0.8230703571556051,
          0.8170059247861194,
          0.8108624878942476,
          0.8046415775532585,
          0.798344744144428,
          0.7919735569706532,
          0.7855296038653474,
          0.77901449079672,
          0.7724298414675352,
          0.7657772969104507,
          0.7590585150790388,
          0.7522751704345887,
          0.7454289535287968,
          0.7385215705824448,
          0.7315547430601739,
          0.7245302072414602,
          0.7174497137878966,
          0.7103150273068921,
          0.7031279259118945,
          0.6958902007792466,
          0.688603655701788,
          0.6812701066393123,
          0.6738913812659912,
          0.6664693185148807,
          0.6590057681196191,
          0.6515025901534364,
          0.6439616545655833,
          0.6363848407153017,
          0.6287740369034485,
          0.6211311399018917,
          0.613458054480795,
          0.6057566929339095,
          0.5980289746019891,
          0.5902768253944511,
          0.5825021773093997,
          0.5747069679521305,
          0.5668931400522396,
          0.559062640979454,
          0.5512174222583067,
          0.5433594390817755,
          0.5354906498240081,
          0.527613015552254,
          0.5197284995381264,
          0.511839066768312,
          0.5039466834548567,
          0.49605331654514345,
          0.488160933231688,
          0.48027150046187367,
          0.47238698444774596,
          0.4645093501759921,
          0.4566405609182247,
          0.44878257774169333,
          0.44093735902054604,
          0.4331068599477605,
          0.4252930320478696,
          0.41749782269060043,
          0.4097231746055489,
          0.401971025398011,
          0.3942433070660905,
          0.38654194551920495,
          0.3788688600981085,
          0.37122596309655176,
          0.36361515928469845,
          0.3560383454344168,
          0.3484974098465637,
          0.3409942318803809,
          0.33353068148511955,
          0.3261086187340088,
          0.3187298933606878,
          0.31139634429821206,
          0.3041097992207535,
          0.29687207408810556,
          0.289684972693108,
          0.28255028621210354,
          0.2754697927585401,
          0.2684452569398261,
          0.26147842941755517,
          0.2545710464712032,
          0.2477248295654113,
          0.24094148492096124,
          0.23422270308954934,
          0.22757015853246493,
          0.22098550920327997,
          0.21447039613465263,
          0.20802644302934697,
          0.20165525585557204,
          0.19535842244674162,
          0.18913751210575247,
          0.18299407521388067,
          0.17692964284439522,
          0.1709457263809812,
          0.16504381714107252,
          0.15922538600418318,
          0.15349188304533412,
          0.14784473717366403,
          0.1422853557763144,
          0.13681512436768029,
          0.1314354062441106,
          0.12614754214414547,
          0.12095284991437733,
          0.11585262418101466,
          0.11084813602723514,
          0.10594063267640386,
          0.10113133718124034,
          0.09642144811900738,
          0.09181213929280047,
          0.08730455943901189,
          0.08289983194104128,
          0.07859905454932481,
          0.07440329910775273,
          0.07031361128654401,
          0.06633101032164274,
          0.0624564887607032,
          0.058691012215726535,
          0.05503551912240989,
          0.051490920506268245,
          0.04805809975558828,
          0.0447379124012689,
          0.041531185903605716,
          0.03843871944606969,
          0.03546128373613472,
          0.03259962081320089,
          0.02985444386366226,
          0.027226437043166463,
          0.024716255306108603,
          0.02232452424240261,
          0.020051839921571557,
          0.01789876874419416,
          0.015865847300746416,
          0.01395358223787152,
          0.0121624501321132,
          0.010492897371142784,
          0.008945340042509797,
          0.007520163829944748,
          0.006217723917238127,
          0.005038344899721436,
          0.003982320703371123,
          0.0030499145115561177,
          0.0022413586994470824,
          0.0015568547761034002,
          0.0009965733342532923,
          0.0005606540077782163,
          0.0002492054369130914,
          6.23052411713454e-05,
          0,
          6.23052411713454e-05,
          0.0002492054369130914,
          0.0005606540077782163,
          0.0009965733342532923,
          0.0015568547761034002,
          0.0022413586994470824,
          0.0030499145115561177,
          0.003982320703371123,
          0.005038344899721436,
          0.006217723917238127,
          0.007520163829944748,
          0.008945340042509797,
          0.010492897371142784,
          0.0121624501321132,
          0.01395358223787152,
          0.015865847300746416,
          0.01789876874419416,
          0.020051839921571557,
          0.02232452424240261,
          0.024716255306108603,
          0.027226437043166463,
          0.02985444386366226,
          0.03259962081320089,
          0.03546128373613472,
          0.03843871944606969,
          0.041531185903605716,
          0.0447379124012689,
          0.04805809975558828,
          0.051490920506268245,
          0.05503551912240989,
          0.058691012215726535,
          0.0624564887607032,
          0.06633101032164274,
          0.07031361128654401,
          0.07440329910775273,
          0.07859905454932481,
          0.08289983194104128,
          0.08730455943901189,
          0.09181213929280047,
          0.09642144811900738,
          0.10113133718124034,
          0.10594063267640386,
          0.11084813602723514,
          0.11585262418101466,
          0.12095284991437733,
          0.12614754214414547,
          0.1314354062441106,
          0.13681512436768029,
          0.1422853557763144,
          0.14784473717366403,
          0.15349188304533412,
          0.15922538600418318,
          0.16504381714107252,
          0.1709457263809812,
          0.17692964284439522,
          0.18299407521388067,
          0.18913751210575247,
          0.19535842244674162,
          0.20165525585557204,
          0.20802644302934697,
          0.21447039613465263,
          0.22098550920327997,
          0.22757015853246493,
          0.23422270308954934,
          0.24094148492096124,
          0.2477248295654113,
          0.2545710464712032,
          0.26147842941755517,
          0.2684452569398261,
          0.2754697927585401,
          0.28255028621210354,
          0.289684972693108,
          0.29687207408810556,
          0.3041097992207535,
          0.31139634429821206,
          0.3187298933606878,
          0.3261086187340088,
          0.33353068148511955,
          0.3409942318803809,
          0.3484974098465637,
          0.3560383454344168,
          0.36361515928469845,
          0.37122596309655176,
          0.3788688600981085,
          0.38654194551920495,
          0.3942433070660905,
          0.401971025398011,
          0.4097231746055489,
          0.41749782269060043,
          0.4252930320478696,
          0.4331068599477605,
          0.44093735902054604,
          0.44878257774169333,
          0.4566405609182247,
          0.4645093501759921,
          0.47238698444774596,
          0.48027150046187367,
          0.488160933231688,
          0.49605331654514345,
          0.5039466834548567,
          0.511839066768312,
          0.5197284995381264,
          0.527613015552254,
          0.5354906498240081,
          0.5433594390817755,
          0.5512174222583067,
          0.559062640979454,
          0.5668931400522396,
          0.5747069679521305,
          0.5825021773093997,
          0.5902768253944511,
          0.5980289746019891,
          0.6057566929339095,
          0.613458054480795,
          0.6211311399018917,
          0.6287740369034485,
          0.6363848407153017,
          0.6439616545655833,
          0.6515025901534364,
          0.6590057681196191,
          0.6664693185148807,
          0.6738913812659912,
          0.6812701066393123,
          0.688603655701788,
          0.6958902007792466,
          0.7031279259118945,
          0.7103150273068921,
          0.7174497137878966,
          0.7245302072414602,
          0.7315547430601739,
          0.7385215705824448,
          0.7454289535287968,
          0.7522751704345887,
          0.7590585150790388,
          0.7657772969104507,
          0.7724298414675352,
          0.77901449079672,
          0.7855296038653474,
          0.7919735569706532,
          0.798344744144428,
          0.8046415775532585,
          0.8108624878942476,
          0.8170059247861194,
          0.8230703571556051,
          0.8290542736190188,
          0.8349561828589277,
          0.8407746139958169,
          0.846508116954666,
          0.852155262826336,
          0.8577146442236856,
          0.8631848756323197,
          0.8685645937558895,
          0.8738524578558546,
          0.8790471500856227,
          0.8841473758189854,
          0.8891518639727651,
          0.8940593673235961,
          0.8988686628187597,
          0.9035785518809927,
          0.9081878607071996,
          0.9126954405609882,
          0.9171001680589588,
          0.9214009454506753,
          0.9255967008922472,
          0.929686388713456,
          0.9336689896783574,
          0.9375435112392969,
          0.9413089877842735,
          0.9449644808775901,
          0.9485090794937318,
          0.9519419002444118,
          0.9552620875987311,
          0.9584688140963944,
          0.9615612805539304,
          0.9645387162638652,
          0.9674003791867991,
          0.9701455561363378,
          0.9727735629568336,
          0.9752837446938913,
          0.9776754757575974,
          0.9799481600784286,
          0.9821012312558058,
          0.9841341526992536,
          0.9860464177621284,
          0.9878375498678869,
          0.9895071026288573,
          0.9910546599574902,
          0.9924798361700553,
          0.9937822760827619,
          0.9949616551002786,
          0.9960176792966289,
          0.9969500854884439,
          0.997758641300553,
          0.9984431452238967,
          0.9990034266657467,
          0.9994393459922217,
          0.9997507945630869,
          0.9999376947588287,
          1
         ],
         "y": [
          0.0012599999999999777,
          0.0012687417111113763,
          0.0012949606198059682,
          0.0013386380631296962,
          0.0013997429726630066,
          0.0014782319291201662,
          0.0015740492384764993,
          0.0016871270293119217,
          0.0018173853709748443,
          0.0019647324120844662,
          0.002129064538807715,
          0.002310266552266596,
          0.002508211864355761,
          0.0027227627111749307,
          0.0029537703832118512,
          0.003201075471344128,
          0.003464508127666946,
          0.003743888340095283,
          0.004039026219635985,
          0.004349722299179115,
          0.004675767842611386,
          0.005016945163021277,
          0.005373027948729799,
          0.005743781595857472,
          0.006128963546116373,
          0.006528323628500765,
          0.006941604403544987,
          0.007368541508809608,
          0.007808864004265525,
          0.008262294716253263,
          0.00872855057870894,
          0.009207342970375506,
          0.009698378046737914,
          0.010201357065462796,
          0.01071597670415518,
          0.011241929369294865,
          0.011778903495261053,
          0.012326583832412596,
          0.012884651723248083,
          0.01345278536573684,
          0.014030660062979044,
          0.01461794845842878,
          0.015214320755987195,
          0.015819444924356465,
          0.016432986885125987,
          0.01705461068414928,
          0.017683978645859,
          0.018320751510255386,
          0.018964588552398166,
          0.019615147684322334,
          0.020272085539393078,
          0.020935057539209267,
          0.021603717943257307,
          0.0222777198816124,
          0.022956715371075312,
          0.023640355315223432,
          0.024328289488946227,
          0.025020166508118783,
          0.02571563378515569,
          0.02641433747126552,
          0.02711592238630597,
          0.027820031937214395,
          0.02852630802605766,
          0.02923439094881237,
          0.02994391928604705,
          0.030654529786733914,
          0.03136585724646987,
          0.03207753438142985,
          0.03278919169941708,
          0.03350045736940698,
          0.034210957091008624,
          0.034920313965290176,
          0.03562814836842656,
          0.03633407782963772,
          0.037037716914885326,
          0.03773867711779039,
          0.03843656675922214,
          0.03913099089698832,
          0.0398215512470317,
          0.04050784611750396,
          0.04118947035704931,
          0.04186601531858371,
          0.042537068839803016,
          0.04320221524159536,
          0.04386103534546773,
          0.044513106511026836,
          0.045158002694477534,
          0.045795294529022694,
          0.04642454942795908,
          0.047045331711176065,
          0.047657202755667157,
          0.04825972117056481,
          0.04885244299710754,
          0.049434921933841434,
          0.05000670958724951,
          0.05056735574789235,
          0.05111640869202824,
          0.05165341550856971,
          0.05217792245111487,
          0.052689475314678436,
          0.053187619836629306,
          0.05367190212122751,
          0.054141869087038004,
          0.0545970689363848,
          0.055037051645898415,
          0.055461369477099655,
          0.05586957750585682,
          0.05626123416944915,
          0.05663590182987133,
          0.05699314735191634,
          0.057332542694485206,
          0.05765366551348398,
          0.057956099774589064,
          0.05823943637408635,
          0.05850327376592029,
          0.05874721859302721,
          0.058970886320970306,
          0.05917390187184503,
          0.059355900256382044,
          0.05951652720214002,
          0.05965543977565407,
          0.059772306996386436,
          0.05986681044031551,
          0.059938644830995716,
          0.05998751861592658,
          0.0600131545260823,
          0.06001529011647533,
          0.05999367828565693,
          0.05994808777209564,
          0.05987830362542178,
          0.05978412765057883,
          0.0596653788229859,
          0.05952189367288441,
          0.05935352663711989,
          0.05916015037669404,
          0.05894165605851397,
          0.05869795359986348,
          0.05842897187422645,
          0.05813465887720291,
          0.05781498185137475,
          0.057469927369100074,
          0.05709950137234207,
          0.05670372916876933,
          0.05628265538349952,
          0.05583634386599837,
          0.055364877551786144,
          0.05486835827875012,
          0.05434690655800676,
          0.053800661299406596,
          0.053229779491923375,
          0.05263443583931898,
          0.0520148223516257,
          0.051371147893135814,
          0.05070363768773727,
          0.05001253278258014,
          0.049298089471202566,
          0.04856057867738698,
          0.04780028530115445,
          0.04701750752844091,
          0.046212556106127574,
          0.04538575358422417,
          0.04453743352712387,
          0.043667939695962325,
          0.04277762520422244,
          0.0418668516488279,
          0.04093598821906356,
          0.03998541078574734,
          0.03901550097316,
          0.03802664521630932,
          0.0370192338061697,
          0.035993659925593155,
          0.03495031867863425,
          0.03388960611606841,
          0.032811918259912254,
          0.031717650129772346,
          0.03060719477386021,
          0.02948094230750981,
          0.0283392789620259,
          0.027182586146672832,
          0.026011239526584573,
          0.024825608119339964,
          0.023626053412900784,
          0.022412928507553283,
          0.021186577284430845,
          0.019947333603119868,
          0.018695520530771056,
          0.017431449605046515,
          0.01615542013313549,
          0.014867718528966282,
          0.01356861769062707,
          0.012258376419890703,
          0.010937238885610065,
          0.009605434132619177,
          0.008263175637636682,
          0.0069106609135243776,
          0.005548071163107804,
          0.004175570983609821,
          0.002793308122595589,
          0.0014014132861701882,
          0,
          -0.0014014132861701882,
          -0.002793308122595589,
          -0.004175570983609821,
          -0.005548071163107804,
          -0.0069106609135243776,
          -0.008263175637636682,
          -0.009605434132619177,
          -0.010937238885610065,
          -0.012258376419890703,
          -0.01356861769062707,
          -0.014867718528966282,
          -0.01615542013313549,
          -0.017431449605046515,
          -0.018695520530771056,
          -0.019947333603119868,
          -0.021186577284430845,
          -0.022412928507553283,
          -0.023626053412900784,
          -0.024825608119339964,
          -0.026011239526584573,
          -0.027182586146672832,
          -0.0283392789620259,
          -0.02948094230750981,
          -0.03060719477386021,
          -0.031717650129772346,
          -0.032811918259912254,
          -0.03388960611606841,
          -0.03495031867863425,
          -0.035993659925593155,
          -0.0370192338061697,
          -0.03802664521630932,
          -0.03901550097316,
          -0.03998541078574734,
          -0.04093598821906356,
          -0.0418668516488279,
          -0.04277762520422244,
          -0.043667939695962325,
          -0.04453743352712387,
          -0.04538575358422417,
          -0.046212556106127574,
          -0.04701750752844091,
          -0.04780028530115445,
          -0.04856057867738698,
          -0.049298089471202566,
          -0.05001253278258014,
          -0.05070363768773727,
          -0.051371147893135814,
          -0.0520148223516257,
          -0.05263443583931898,
          -0.053229779491923375,
          -0.053800661299406596,
          -0.05434690655800676,
          -0.05486835827875012,
          -0.055364877551786144,
          -0.05583634386599837,
          -0.05628265538349952,
          -0.05670372916876933,
          -0.05709950137234207,
          -0.057469927369100074,
          -0.05781498185137475,
          -0.05813465887720291,
          -0.05842897187422645,
          -0.05869795359986348,
          -0.05894165605851397,
          -0.05916015037669404,
          -0.05935352663711989,
          -0.05952189367288441,
          -0.0596653788229859,
          -0.05978412765057883,
          -0.05987830362542178,
          -0.05994808777209564,
          -0.05999367828565693,
          -0.06001529011647533,
          -0.0600131545260823,
          -0.05998751861592658,
          -0.059938644830995716,
          -0.05986681044031551,
          -0.059772306996386436,
          -0.05965543977565407,
          -0.05951652720214002,
          -0.059355900256382044,
          -0.05917390187184503,
          -0.058970886320970306,
          -0.05874721859302721,
          -0.05850327376592029,
          -0.05823943637408635,
          -0.057956099774589064,
          -0.05765366551348398,
          -0.057332542694485206,
          -0.05699314735191634,
          -0.05663590182987133,
          -0.05626123416944915,
          -0.05586957750585682,
          -0.055461369477099655,
          -0.055037051645898415,
          -0.0545970689363848,
          -0.054141869087038004,
          -0.05367190212122751,
          -0.053187619836629306,
          -0.052689475314678436,
          -0.05217792245111487,
          -0.05165341550856971,
          -0.05111640869202824,
          -0.05056735574789235,
          -0.05000670958724951,
          -0.049434921933841434,
          -0.04885244299710754,
          -0.04825972117056481,
          -0.047657202755667157,
          -0.047045331711176065,
          -0.04642454942795908,
          -0.045795294529022694,
          -0.045158002694477534,
          -0.044513106511026836,
          -0.04386103534546773,
          -0.04320221524159536,
          -0.042537068839803016,
          -0.04186601531858371,
          -0.04118947035704931,
          -0.04050784611750396,
          -0.0398215512470317,
          -0.03913099089698832,
          -0.03843656675922214,
          -0.03773867711779039,
          -0.037037716914885326,
          -0.03633407782963772,
          -0.03562814836842656,
          -0.034920313965290176,
          -0.034210957091008624,
          -0.03350045736940698,
          -0.03278919169941708,
          -0.03207753438142985,
          -0.03136585724646987,
          -0.030654529786733914,
          -0.02994391928604705,
          -0.02923439094881237,
          -0.02852630802605766,
          -0.027820031937214395,
          -0.02711592238630597,
          -0.02641433747126552,
          -0.02571563378515569,
          -0.025020166508118783,
          -0.024328289488946227,
          -0.023640355315223432,
          -0.022956715371075312,
          -0.0222777198816124,
          -0.021603717943257307,
          -0.020935057539209267,
          -0.020272085539393078,
          -0.019615147684322334,
          -0.018964588552398166,
          -0.018320751510255386,
          -0.017683978645859,
          -0.01705461068414928,
          -0.016432986885125987,
          -0.015819444924356465,
          -0.015214320755987195,
          -0.01461794845842878,
          -0.014030660062979044,
          -0.01345278536573684,
          -0.012884651723248083,
          -0.012326583832412596,
          -0.011778903495261053,
          -0.011241929369294865,
          -0.01071597670415518,
          -0.010201357065462796,
          -0.009698378046737914,
          -0.009207342970375506,
          -0.00872855057870894,
          -0.008262294716253263,
          -0.007808864004265525,
          -0.007368541508809608,
          -0.006941604403544987,
          -0.006528323628500765,
          -0.006128963546116373,
          -0.005743781595857472,
          -0.005373027948729799,
          -0.005016945163021277,
          -0.004675767842611386,
          -0.004349722299179115,
          -0.004039026219635985,
          -0.003743888340095283,
          -0.003464508127666946,
          -0.003201075471344128,
          -0.0029537703832118512,
          -0.0027227627111749307,
          -0.002508211864355761,
          -0.002310266552266596,
          -0.002129064538807715,
          -0.0019647324120844662,
          -0.0018173853709748443,
          -0.0016871270293119217,
          -0.0015740492384764993,
          -0.0014782319291201662,
          -0.0013997429726630066,
          -0.0013386380631296962,
          -0.0012949606198059682,
          -0.0012687417111113763,
          -0.0012599999999999777
         ]
        },
        {
         "line": {
          "color": "navy"
         },
         "mode": "lines+markers",
         "name": "Mean Camber Line (MCL)",
         "type": "scatter",
         "x": [
          0,
          0.002512562814070352,
          0.005025125628140704,
          0.007537688442211055,
          0.010050251256281407,
          0.01256281407035176,
          0.01507537688442211,
          0.017587939698492462,
          0.020100502512562814,
          0.022613065326633167,
          0.02512562814070352,
          0.02763819095477387,
          0.03015075376884422,
          0.032663316582914576,
          0.035175879396984924,
          0.03768844221105528,
          0.04020100502512563,
          0.04271356783919598,
          0.04522613065326633,
          0.04773869346733668,
          0.05025125628140704,
          0.052763819095477386,
          0.05527638190954774,
          0.05778894472361809,
          0.06030150753768844,
          0.06281407035175879,
          0.06532663316582915,
          0.0678391959798995,
          0.07035175879396985,
          0.0728643216080402,
          0.07537688442211056,
          0.07788944723618091,
          0.08040201005025126,
          0.0829145728643216,
          0.08542713567839195,
          0.08793969849246232,
          0.09045226130653267,
          0.09296482412060302,
          0.09547738693467336,
          0.09798994974874373,
          0.10050251256281408,
          0.10301507537688442,
          0.10552763819095477,
          0.10804020100502512,
          0.11055276381909548,
          0.11306532663316583,
          0.11557788944723618,
          0.11809045226130653,
          0.12060301507537688,
          0.12311557788944724,
          0.12562814070351758,
          0.12814070351758794,
          0.1306532663316583,
          0.13316582914572864,
          0.135678391959799,
          0.13819095477386936,
          0.1407035175879397,
          0.14321608040201006,
          0.1457286432160804,
          0.14824120603015076,
          0.15075376884422112,
          0.15326633165829145,
          0.15577889447236182,
          0.15829145728643215,
          0.16080402010050251,
          0.16331658291457288,
          0.1658291457286432,
          0.16834170854271358,
          0.1708542713567839,
          0.17336683417085427,
          0.17587939698492464,
          0.17839195979899497,
          0.18090452261306533,
          0.18341708542713567,
          0.18592964824120603,
          0.1884422110552764,
          0.19095477386934673,
          0.1934673366834171,
          0.19597989949748745,
          0.1984924623115578,
          0.20100502512562815,
          0.20351758793969849,
          0.20603015075376885,
          0.2085427135678392,
          0.21105527638190955,
          0.2135678391959799,
          0.21608040201005024,
          0.2185929648241206,
          0.22110552763819097,
          0.2236180904522613,
          0.22613065326633167,
          0.228643216080402,
          0.23115577889447236,
          0.23366834170854273,
          0.23618090452261306,
          0.23869346733668342,
          0.24120603015075376,
          0.24371859296482412,
          0.24623115577889448,
          0.24874371859296482,
          0.25125628140703515,
          0.2537688442211055,
          0.2562814070351759,
          0.25879396984924624,
          0.2613065326633166,
          0.2638190954773869,
          0.2663316582914573,
          0.26884422110552764,
          0.271356783919598,
          0.27386934673366836,
          0.2763819095477387,
          0.27889447236180903,
          0.2814070351758794,
          0.28391959798994976,
          0.2864321608040201,
          0.2889447236180905,
          0.2914572864321608,
          0.29396984924623115,
          0.2964824120603015,
          0.2989949748743719,
          0.30150753768844224,
          0.30402010050251255,
          0.3065326633165829,
          0.30904522613065327,
          0.31155778894472363,
          0.314070351758794,
          0.3165829145728643,
          0.31909547738693467,
          0.32160804020100503,
          0.3241206030150754,
          0.32663316582914576,
          0.32914572864321606,
          0.3316582914572864,
          0.3341708542713568,
          0.33668341708542715,
          0.3391959798994975,
          0.3417085427135678,
          0.3442211055276382,
          0.34673366834170855,
          0.3492462311557789,
          0.35175879396984927,
          0.3542713567839196,
          0.35678391959798994,
          0.3592964824120603,
          0.36180904522613067,
          0.36432160804020103,
          0.36683417085427134,
          0.3693467336683417,
          0.37185929648241206,
          0.3743718592964824,
          0.3768844221105528,
          0.37939698492462315,
          0.38190954773869346,
          0.3844221105527638,
          0.3869346733668342,
          0.38944723618090454,
          0.3919597989949749,
          0.3944723618090452,
          0.3969849246231156,
          0.39949748743718594,
          0.4020100502512563,
          0.40452261306532666,
          0.40703517587939697,
          0.40954773869346733,
          0.4120603015075377,
          0.41457286432160806,
          0.4170854271356784,
          0.41959798994974873,
          0.4221105527638191,
          0.42462311557788945,
          0.4271356783919598,
          0.4296482412060302,
          0.4321608040201005,
          0.43467336683417085,
          0.4371859296482412,
          0.4396984924623116,
          0.44221105527638194,
          0.44472361809045224,
          0.4472361809045226,
          0.44974874371859297,
          0.45226130653266333,
          0.4547738693467337,
          0.457286432160804,
          0.45979899497487436,
          0.4623115577889447,
          0.4648241206030151,
          0.46733668341708545,
          0.46984924623115576,
          0.4723618090452261,
          0.4748743718592965,
          0.47738693467336685,
          0.4798994974874372,
          0.4824120603015075,
          0.4849246231155779,
          0.48743718592964824,
          0.4899497487437186,
          0.49246231155778897,
          0.49497487437185933,
          0.49748743718592964,
          0.5,
          0.5025125628140703,
          0.5050251256281407,
          0.507537688442211,
          0.5100502512562815,
          0.5125628140703518,
          0.5150753768844221,
          0.5175879396984925,
          0.5201005025125628,
          0.5226130653266332,
          0.5251256281407035,
          0.5276381909547738,
          0.5301507537688442,
          0.5326633165829145,
          0.535175879396985,
          0.5376884422110553,
          0.5402010050251257,
          0.542713567839196,
          0.5452261306532663,
          0.5477386934673367,
          0.550251256281407,
          0.5527638190954774,
          0.5552763819095478,
          0.5577889447236181,
          0.5603015075376885,
          0.5628140703517588,
          0.5653266331658292,
          0.5678391959798995,
          0.5703517587939698,
          0.5728643216080402,
          0.5753768844221105,
          0.577889447236181,
          0.5804020100502513,
          0.5829145728643216,
          0.585427135678392,
          0.5879396984924623,
          0.5904522613065327,
          0.592964824120603,
          0.5954773869346733,
          0.5979899497487438,
          0.6005025125628141,
          0.6030150753768845,
          0.6055276381909548,
          0.6080402010050251,
          0.6105527638190955,
          0.6130653266331658,
          0.6155778894472362,
          0.6180904522613065,
          0.6206030150753769,
          0.6231155778894473,
          0.6256281407035176,
          0.628140703517588,
          0.6306532663316583,
          0.6331658291457286,
          0.635678391959799,
          0.6381909547738693,
          0.6407035175879398,
          0.6432160804020101,
          0.6457286432160804,
          0.6482412060301508,
          0.6507537688442211,
          0.6532663316582915,
          0.6557788944723618,
          0.6582914572864321,
          0.6608040201005025,
          0.6633165829145728,
          0.6658291457286433,
          0.6683417085427136,
          0.6708542713567839,
          0.6733668341708543,
          0.6758793969849246,
          0.678391959798995,
          0.6809045226130653,
          0.6834170854271356,
          0.6859296482412061,
          0.6884422110552764,
          0.6909547738693468,
          0.6934673366834171,
          0.6959798994974874,
          0.6984924623115578,
          0.7010050251256281,
          0.7035175879396985,
          0.7060301507537688,
          0.7085427135678392,
          0.7110552763819096,
          0.7135678391959799,
          0.7160804020100503,
          0.7185929648241206,
          0.7211055276381909,
          0.7236180904522613,
          0.7261306532663316,
          0.7286432160804021,
          0.7311557788944724,
          0.7336683417085427,
          0.7361809045226131,
          0.7386934673366834,
          0.7412060301507538,
          0.7437185929648241,
          0.7462311557788944,
          0.7487437185929648,
          0.7512562814070352,
          0.7537688442211056,
          0.7562814070351759,
          0.7587939698492463,
          0.7613065326633166,
          0.7638190954773869,
          0.7663316582914573,
          0.7688442211055276,
          0.771356783919598,
          0.7738693467336684,
          0.7763819095477387,
          0.7788944723618091,
          0.7814070351758794,
          0.7839195979899498,
          0.7864321608040201,
          0.7889447236180904,
          0.7914572864321608,
          0.7939698492462312,
          0.7964824120603016,
          0.7989949748743719,
          0.8015075376884422,
          0.8040201005025126,
          0.8065326633165829,
          0.8090452261306533,
          0.8115577889447236,
          0.8140703517587939,
          0.8165829145728644,
          0.8190954773869347,
          0.8216080402010051,
          0.8241206030150754,
          0.8266331658291457,
          0.8291457286432161,
          0.8316582914572864,
          0.8341708542713568,
          0.8366834170854272,
          0.8391959798994975,
          0.8417085427135679,
          0.8442211055276382,
          0.8467336683417086,
          0.8492462311557789,
          0.8517587939698492,
          0.8542713567839196,
          0.8567839195979899,
          0.8592964824120604,
          0.8618090452261307,
          0.864321608040201,
          0.8668341708542714,
          0.8693467336683417,
          0.8718592964824121,
          0.8743718592964824,
          0.8768844221105527,
          0.8793969849246231,
          0.8819095477386935,
          0.8844221105527639,
          0.8869346733668342,
          0.8894472361809045,
          0.8919597989949749,
          0.8944723618090452,
          0.8969849246231156,
          0.8994974874371859,
          0.9020100502512562,
          0.9045226130653267,
          0.907035175879397,
          0.9095477386934674,
          0.9120603015075377,
          0.914572864321608,
          0.9170854271356784,
          0.9195979899497487,
          0.9221105527638191,
          0.9246231155778895,
          0.9271356783919598,
          0.9296482412060302,
          0.9321608040201005,
          0.9346733668341709,
          0.9371859296482412,
          0.9396984924623115,
          0.9422110552763819,
          0.9447236180904522,
          0.9472361809045227,
          0.949748743718593,
          0.9522613065326633,
          0.9547738693467337,
          0.957286432160804,
          0.9597989949748744,
          0.9623115577889447,
          0.964824120603015,
          0.9673366834170855,
          0.9698492462311558,
          0.9723618090452262,
          0.9748743718592965,
          0.9773869346733669,
          0.9798994974874372,
          0.9824120603015075,
          0.9849246231155779,
          0.9874371859296482,
          0.9899497487437187,
          0.992462311557789,
          0.9949748743718593,
          0.9974874371859297,
          1
         ],
         "y": [
          0,
          0,
          0,
          0,
          0,
          0,
          0,
          0,
          0,
          0,
          0,
          0,
          0,
          0,
          0,
          0,
          0,
          0,
          0,
          0,
          0,
          0,
          0,
          0,
          0,
          0,
          0,
          0,
          0,
          0,
          0,
          0,
          0,
          0,
          0,
          0,
          0,
          0,
          0,
          0,
          0,
          0,
          0,
          0,
          0,
          0,
          0,
          0,
          0,
          0,
          0,
          0,
          0,
          0,
          0,
          0,
          0,
          0,
          0,
          0,
          0,
          0,
          0,
          0,
          0,
          0,
          0,
          0,
          0,
          0,
          0,
          0,
          0,
          0,
          0,
          0,
          0,
          0,
          0,
          0,
          0,
          0,
          0,
          0,
          0,
          0,
          0,
          0,
          0,
          0,
          0,
          0,
          0,
          0,
          0,
          0,
          0,
          0,
          0,
          0,
          0,
          0,
          0,
          0,
          0,
          0,
          0,
          0,
          0,
          0,
          0,
          0,
          0,
          0,
          0,
          0,
          0,
          0,
          0,
          0,
          0,
          0,
          0,
          0,
          0,
          0,
          0,
          0,
          0,
          0,
          0,
          0,
          0,
          0,
          0,
          0,
          0,
          0,
          0,
          0,
          0,
          0,
          0,
          0,
          0,
          0,
          0,
          0,
          0,
          0,
          0,
          0,
          0,
          0,
          0,
          0,
          0,
          0,
          0,
          0,
          0,
          0,
          0,
          0,
          0,
          0,
          0,
          0,
          0,
          0,
          0,
          0,
          0,
          0,
          0,
          0,
          0,
          0,
          0,
          0,
          0,
          0,
          0,
          0,
          0,
          0,
          0,
          0,
          0,
          0,
          0,
          0,
          0,
          0,
          0,
          0,
          0,
          0,
          0,
          0,
          0,
          0,
          0,
          0,
          0,
          0,
          0,
          0,
          0,
          0,
          0,
          0,
          0,
          0,
          0,
          0,
          0,
          0,
          0,
          0,
          0,
          0,
          0,
          0,
          0,
          0,
          0,
          0,
          0,
          0,
          0,
          0,
          0,
          0,
          0,
          0,
          0,
          0,
          0,
          0,
          0,
          0,
          0,
          0,
          0,
          0,
          0,
          0,
          0,
          0,
          0,
          0,
          0,
          0,
          0,
          0,
          0,
          0,
          0,
          0,
          0,
          0,
          0,
          0,
          0,
          0,
          0,
          0,
          0,
          0,
          0,
          0,
          0,
          0,
          0,
          0,
          0,
          0,
          0,
          0,
          0,
          0,
          0,
          0,
          0,
          0,
          0,
          0,
          0,
          0,
          0,
          0,
          0,
          0,
          0,
          0,
          0,
          0,
          0,
          0,
          0,
          0,
          0,
          0,
          0,
          0,
          0,
          0,
          0,
          0,
          0,
          0,
          0,
          0,
          0,
          0,
          0,
          0,
          0,
          0,
          0,
          0,
          0,
          0,
          0,
          0,
          0,
          0,
          0,
          0,
          0,
          0,
          0,
          0,
          0,
          0,
          0,
          0,
          0,
          0,
          0,
          0,
          0,
          0,
          0,
          0,
          0,
          0,
          0,
          0,
          0,
          0,
          0,
          0,
          0,
          0,
          0,
          0,
          0,
          0,
          0,
          0,
          0,
          0,
          0,
          0,
          0,
          0,
          0,
          0,
          0,
          0,
          0,
          0,
          0,
          0,
          0,
          0,
          0,
          0,
          0,
          0,
          0,
          0,
          0,
          0,
          0,
          0,
          0,
          0,
          0,
          0,
          0,
          0,
          0,
          0,
          0,
          0,
          0
         ]
        }
       ],
       "layout": {
        "autosize": true,
        "template": {
         "data": {
          "bar": [
           {
            "error_x": {
             "color": "#2a3f5f"
            },
            "error_y": {
             "color": "#2a3f5f"
            },
            "marker": {
             "line": {
              "color": "#E5ECF6",
              "width": 0.5
             },
             "pattern": {
              "fillmode": "overlay",
              "size": 10,
              "solidity": 0.2
             }
            },
            "type": "bar"
           }
          ],
          "barpolar": [
           {
            "marker": {
             "line": {
              "color": "#E5ECF6",
              "width": 0.5
             },
             "pattern": {
              "fillmode": "overlay",
              "size": 10,
              "solidity": 0.2
             }
            },
            "type": "barpolar"
           }
          ],
          "carpet": [
           {
            "aaxis": {
             "endlinecolor": "#2a3f5f",
             "gridcolor": "white",
             "linecolor": "white",
             "minorgridcolor": "white",
             "startlinecolor": "#2a3f5f"
            },
            "baxis": {
             "endlinecolor": "#2a3f5f",
             "gridcolor": "white",
             "linecolor": "white",
             "minorgridcolor": "white",
             "startlinecolor": "#2a3f5f"
            },
            "type": "carpet"
           }
          ],
          "choropleth": [
           {
            "colorbar": {
             "outlinewidth": 0,
             "ticks": ""
            },
            "type": "choropleth"
           }
          ],
          "contour": [
           {
            "colorbar": {
             "outlinewidth": 0,
             "ticks": ""
            },
            "colorscale": [
             [
              0,
              "#0d0887"
             ],
             [
              0.1111111111111111,
              "#46039f"
             ],
             [
              0.2222222222222222,
              "#7201a8"
             ],
             [
              0.3333333333333333,
              "#9c179e"
             ],
             [
              0.4444444444444444,
              "#bd3786"
             ],
             [
              0.5555555555555556,
              "#d8576b"
             ],
             [
              0.6666666666666666,
              "#ed7953"
             ],
             [
              0.7777777777777778,
              "#fb9f3a"
             ],
             [
              0.8888888888888888,
              "#fdca26"
             ],
             [
              1,
              "#f0f921"
             ]
            ],
            "type": "contour"
           }
          ],
          "contourcarpet": [
           {
            "colorbar": {
             "outlinewidth": 0,
             "ticks": ""
            },
            "type": "contourcarpet"
           }
          ],
          "heatmap": [
           {
            "colorbar": {
             "outlinewidth": 0,
             "ticks": ""
            },
            "colorscale": [
             [
              0,
              "#0d0887"
             ],
             [
              0.1111111111111111,
              "#46039f"
             ],
             [
              0.2222222222222222,
              "#7201a8"
             ],
             [
              0.3333333333333333,
              "#9c179e"
             ],
             [
              0.4444444444444444,
              "#bd3786"
             ],
             [
              0.5555555555555556,
              "#d8576b"
             ],
             [
              0.6666666666666666,
              "#ed7953"
             ],
             [
              0.7777777777777778,
              "#fb9f3a"
             ],
             [
              0.8888888888888888,
              "#fdca26"
             ],
             [
              1,
              "#f0f921"
             ]
            ],
            "type": "heatmap"
           }
          ],
          "heatmapgl": [
           {
            "colorbar": {
             "outlinewidth": 0,
             "ticks": ""
            },
            "colorscale": [
             [
              0,
              "#0d0887"
             ],
             [
              0.1111111111111111,
              "#46039f"
             ],
             [
              0.2222222222222222,
              "#7201a8"
             ],
             [
              0.3333333333333333,
              "#9c179e"
             ],
             [
              0.4444444444444444,
              "#bd3786"
             ],
             [
              0.5555555555555556,
              "#d8576b"
             ],
             [
              0.6666666666666666,
              "#ed7953"
             ],
             [
              0.7777777777777778,
              "#fb9f3a"
             ],
             [
              0.8888888888888888,
              "#fdca26"
             ],
             [
              1,
              "#f0f921"
             ]
            ],
            "type": "heatmapgl"
           }
          ],
          "histogram": [
           {
            "marker": {
             "pattern": {
              "fillmode": "overlay",
              "size": 10,
              "solidity": 0.2
             }
            },
            "type": "histogram"
           }
          ],
          "histogram2d": [
           {
            "colorbar": {
             "outlinewidth": 0,
             "ticks": ""
            },
            "colorscale": [
             [
              0,
              "#0d0887"
             ],
             [
              0.1111111111111111,
              "#46039f"
             ],
             [
              0.2222222222222222,
              "#7201a8"
             ],
             [
              0.3333333333333333,
              "#9c179e"
             ],
             [
              0.4444444444444444,
              "#bd3786"
             ],
             [
              0.5555555555555556,
              "#d8576b"
             ],
             [
              0.6666666666666666,
              "#ed7953"
             ],
             [
              0.7777777777777778,
              "#fb9f3a"
             ],
             [
              0.8888888888888888,
              "#fdca26"
             ],
             [
              1,
              "#f0f921"
             ]
            ],
            "type": "histogram2d"
           }
          ],
          "histogram2dcontour": [
           {
            "colorbar": {
             "outlinewidth": 0,
             "ticks": ""
            },
            "colorscale": [
             [
              0,
              "#0d0887"
             ],
             [
              0.1111111111111111,
              "#46039f"
             ],
             [
              0.2222222222222222,
              "#7201a8"
             ],
             [
              0.3333333333333333,
              "#9c179e"
             ],
             [
              0.4444444444444444,
              "#bd3786"
             ],
             [
              0.5555555555555556,
              "#d8576b"
             ],
             [
              0.6666666666666666,
              "#ed7953"
             ],
             [
              0.7777777777777778,
              "#fb9f3a"
             ],
             [
              0.8888888888888888,
              "#fdca26"
             ],
             [
              1,
              "#f0f921"
             ]
            ],
            "type": "histogram2dcontour"
           }
          ],
          "mesh3d": [
           {
            "colorbar": {
             "outlinewidth": 0,
             "ticks": ""
            },
            "type": "mesh3d"
           }
          ],
          "parcoords": [
           {
            "line": {
             "colorbar": {
              "outlinewidth": 0,
              "ticks": ""
             }
            },
            "type": "parcoords"
           }
          ],
          "pie": [
           {
            "automargin": true,
            "type": "pie"
           }
          ],
          "scatter": [
           {
            "marker": {
             "colorbar": {
              "outlinewidth": 0,
              "ticks": ""
             }
            },
            "type": "scatter"
           }
          ],
          "scatter3d": [
           {
            "line": {
             "colorbar": {
              "outlinewidth": 0,
              "ticks": ""
             }
            },
            "marker": {
             "colorbar": {
              "outlinewidth": 0,
              "ticks": ""
             }
            },
            "type": "scatter3d"
           }
          ],
          "scattercarpet": [
           {
            "marker": {
             "colorbar": {
              "outlinewidth": 0,
              "ticks": ""
             }
            },
            "type": "scattercarpet"
           }
          ],
          "scattergeo": [
           {
            "marker": {
             "colorbar": {
              "outlinewidth": 0,
              "ticks": ""
             }
            },
            "type": "scattergeo"
           }
          ],
          "scattergl": [
           {
            "marker": {
             "colorbar": {
              "outlinewidth": 0,
              "ticks": ""
             }
            },
            "type": "scattergl"
           }
          ],
          "scattermapbox": [
           {
            "marker": {
             "colorbar": {
              "outlinewidth": 0,
              "ticks": ""
             }
            },
            "type": "scattermapbox"
           }
          ],
          "scatterpolar": [
           {
            "marker": {
             "colorbar": {
              "outlinewidth": 0,
              "ticks": ""
             }
            },
            "type": "scatterpolar"
           }
          ],
          "scatterpolargl": [
           {
            "marker": {
             "colorbar": {
              "outlinewidth": 0,
              "ticks": ""
             }
            },
            "type": "scatterpolargl"
           }
          ],
          "scatterternary": [
           {
            "marker": {
             "colorbar": {
              "outlinewidth": 0,
              "ticks": ""
             }
            },
            "type": "scatterternary"
           }
          ],
          "surface": [
           {
            "colorbar": {
             "outlinewidth": 0,
             "ticks": ""
            },
            "colorscale": [
             [
              0,
              "#0d0887"
             ],
             [
              0.1111111111111111,
              "#46039f"
             ],
             [
              0.2222222222222222,
              "#7201a8"
             ],
             [
              0.3333333333333333,
              "#9c179e"
             ],
             [
              0.4444444444444444,
              "#bd3786"
             ],
             [
              0.5555555555555556,
              "#d8576b"
             ],
             [
              0.6666666666666666,
              "#ed7953"
             ],
             [
              0.7777777777777778,
              "#fb9f3a"
             ],
             [
              0.8888888888888888,
              "#fdca26"
             ],
             [
              1,
              "#f0f921"
             ]
            ],
            "type": "surface"
           }
          ],
          "table": [
           {
            "cells": {
             "fill": {
              "color": "#EBF0F8"
             },
             "line": {
              "color": "white"
             }
            },
            "header": {
             "fill": {
              "color": "#C8D4E3"
             },
             "line": {
              "color": "white"
             }
            },
            "type": "table"
           }
          ]
         },
         "layout": {
          "annotationdefaults": {
           "arrowcolor": "#2a3f5f",
           "arrowhead": 0,
           "arrowwidth": 1
          },
          "autotypenumbers": "strict",
          "coloraxis": {
           "colorbar": {
            "outlinewidth": 0,
            "ticks": ""
           }
          },
          "colorscale": {
           "diverging": [
            [
             0,
             "#8e0152"
            ],
            [
             0.1,
             "#c51b7d"
            ],
            [
             0.2,
             "#de77ae"
            ],
            [
             0.3,
             "#f1b6da"
            ],
            [
             0.4,
             "#fde0ef"
            ],
            [
             0.5,
             "#f7f7f7"
            ],
            [
             0.6,
             "#e6f5d0"
            ],
            [
             0.7,
             "#b8e186"
            ],
            [
             0.8,
             "#7fbc41"
            ],
            [
             0.9,
             "#4d9221"
            ],
            [
             1,
             "#276419"
            ]
           ],
           "sequential": [
            [
             0,
             "#0d0887"
            ],
            [
             0.1111111111111111,
             "#46039f"
            ],
            [
             0.2222222222222222,
             "#7201a8"
            ],
            [
             0.3333333333333333,
             "#9c179e"
            ],
            [
             0.4444444444444444,
             "#bd3786"
            ],
            [
             0.5555555555555556,
             "#d8576b"
            ],
            [
             0.6666666666666666,
             "#ed7953"
            ],
            [
             0.7777777777777778,
             "#fb9f3a"
            ],
            [
             0.8888888888888888,
             "#fdca26"
            ],
            [
             1,
             "#f0f921"
            ]
           ],
           "sequentialminus": [
            [
             0,
             "#0d0887"
            ],
            [
             0.1111111111111111,
             "#46039f"
            ],
            [
             0.2222222222222222,
             "#7201a8"
            ],
            [
             0.3333333333333333,
             "#9c179e"
            ],
            [
             0.4444444444444444,
             "#bd3786"
            ],
            [
             0.5555555555555556,
             "#d8576b"
            ],
            [
             0.6666666666666666,
             "#ed7953"
            ],
            [
             0.7777777777777778,
             "#fb9f3a"
            ],
            [
             0.8888888888888888,
             "#fdca26"
            ],
            [
             1,
             "#f0f921"
            ]
           ]
          },
          "colorway": [
           "#636efa",
           "#EF553B",
           "#00cc96",
           "#ab63fa",
           "#FFA15A",
           "#19d3f3",
           "#FF6692",
           "#B6E880",
           "#FF97FF",
           "#FECB52"
          ],
          "font": {
           "color": "#2a3f5f"
          },
          "geo": {
           "bgcolor": "white",
           "lakecolor": "white",
           "landcolor": "#E5ECF6",
           "showlakes": true,
           "showland": true,
           "subunitcolor": "white"
          },
          "hoverlabel": {
           "align": "left"
          },
          "hovermode": "closest",
          "mapbox": {
           "style": "light"
          },
          "paper_bgcolor": "white",
          "plot_bgcolor": "#E5ECF6",
          "polar": {
           "angularaxis": {
            "gridcolor": "white",
            "linecolor": "white",
            "ticks": ""
           },
           "bgcolor": "#E5ECF6",
           "radialaxis": {
            "gridcolor": "white",
            "linecolor": "white",
            "ticks": ""
           }
          },
          "scene": {
           "xaxis": {
            "backgroundcolor": "#E5ECF6",
            "gridcolor": "white",
            "gridwidth": 2,
            "linecolor": "white",
            "showbackground": true,
            "ticks": "",
            "zerolinecolor": "white"
           },
           "yaxis": {
            "backgroundcolor": "#E5ECF6",
            "gridcolor": "white",
            "gridwidth": 2,
            "linecolor": "white",
            "showbackground": true,
            "ticks": "",
            "zerolinecolor": "white"
           },
           "zaxis": {
            "backgroundcolor": "#E5ECF6",
            "gridcolor": "white",
            "gridwidth": 2,
            "linecolor": "white",
            "showbackground": true,
            "ticks": "",
            "zerolinecolor": "white"
           }
          },
          "shapedefaults": {
           "line": {
            "color": "#2a3f5f"
           }
          },
          "ternary": {
           "aaxis": {
            "gridcolor": "white",
            "linecolor": "white",
            "ticks": ""
           },
           "baxis": {
            "gridcolor": "white",
            "linecolor": "white",
            "ticks": ""
           },
           "bgcolor": "#E5ECF6",
           "caxis": {
            "gridcolor": "white",
            "linecolor": "white",
            "ticks": ""
           }
          },
          "title": {
           "x": 0.05
          },
          "xaxis": {
           "automargin": true,
           "gridcolor": "white",
           "linecolor": "white",
           "ticks": "",
           "title": {
            "standoff": 15
           },
           "zerolinecolor": "white",
           "zerolinewidth": 2
          },
          "yaxis": {
           "automargin": true,
           "gridcolor": "white",
           "linecolor": "white",
           "ticks": "",
           "title": {
            "standoff": 15
           },
           "zerolinecolor": "white",
           "zerolinewidth": 2
          }
         }
        },
        "title": {
         "text": "naca0012 Airfoil"
        },
        "xaxis": {
         "autorange": true,
         "domain": [
          0,
          1
         ],
         "range": [
          -0.061706524948331856,
          1.061706524948332
         ],
         "title": {
          "text": "x/c"
         },
         "type": "linear"
        },
        "yaxis": {
         "autorange": true,
         "domain": [
          0,
          1
         ],
         "range": [
          -0.13286093888396813,
          0.13286093888396813
         ],
         "scaleanchor": "x",
         "scaleratio": 1,
         "title": {
          "text": "y/c"
         },
         "type": "linear"
        }
       }
      },
      "image/png": "[encoded data removed]"
     },
     "metadata": {},
     "output_type": "display_data"
    }
   ],
   "source": [
    "airfoil = Airfoil(name=\"naca0012\")\n",
    "airfoil.draw()"
   ]
  },
  {
   "cell_type": "markdown",
   "id": "4962df21-a9f4-41ca-89fa-c4cb2895cec3",
   "metadata": {},
   "source": [
    "Polars for RG15 Airfoil\n",
    "=======================\n",
    "\n",
    "Calculate the polars for rg15 to compare to xflr5.  There is example calculations for rg15 and can compared to an analysis done at https://www.rcsoaringdigest.com/pdfs/RCSD-2008/RCSD-2008-02.pdf"
   ]
  },
  {
   "cell_type": "code",
   "execution_count": 139,
   "id": "612a0dab-7747-49c5-bfe7-e63870639c2e",
   "metadata": {},
   "outputs": [],
   "source": [
    "from aerosandbox import *\n",
    "reynolds = [10000,20000,30000,50000,100000,150000,200000,300000,500000]\n",
    "polars = {}\n",
    "for re in reynolds:\n",
    "    xf = XFoil(\n",
    "        airfoil=rg15,\n",
    "        Re=re,\n",
    "        max_iter=40\n",
    "    )\n",
    "    polars[re] = xf.alpha(np.arange(-3, 9, .25))"
   ]
  },
  {
   "cell_type": "code",
   "execution_count": 142,
   "id": "479f26fd-4282-4d07-ab83-4c9077fb4af5",
   "metadata": {},
   "outputs": [],
   "source": [
    "from plotly.subplots import make_subplots\n",
    "import plotly.graph_objects as go\n",
    "import seaborn as sns\n",
    "\n",
    "def graphPolars(polars):\n",
    "    reynolds = polars.keys()\n",
    "    # setup colors\n",
    "    increment = 0\n",
    "    palette = sns.color_palette(None, len(reynolds)).as_hex()\n",
    "    reynolds_color={}\n",
    "    for re in reynolds:\n",
    "        reynolds_color[re] = palette[increment]\n",
    "        increment = increment + 1\n",
    "    \n",
    "\n",
    "    # Initialize figure with subplots\n",
    "    fig = make_subplots(\n",
    "        rows=3, cols=2, vertical_spacing = 0.07, horizontal_spacing = 0.07, \n",
    "        subplot_titles=(\"CL Vs. CD\", \"CL Vs alpha\", \"CM Vs alpha\", \"CL vs xtr_upper\", \"CL/CD vs alpha\")\n",
    "    )\n",
    "\n",
    "    # Add traces\n",
    "    for re in reynolds:\n",
    "        polar = polars[re]\n",
    "        fig.add_trace(go.Scatter(x=polar['CD'], y=polar['CL'], name=\"Re\"+str(re), legendgroup=\"Re\" + str(re), line=dict(color=reynolds_color[re])), row=1, col=1)\n",
    "        fig.add_trace(go.Scatter(x=polar['alpha'], y=polar['CL'], name=\"Re\"+str(re), legendgroup=\"Re\" + str(re), line=dict(color=reynolds_color[re]), showlegend=False), row=1, col=2)\n",
    "        fig.add_trace(go.Scatter(x=polar['alpha'], y=polar['CM'], name=\"Re\"+str(re), legendgroup=\"Re\" + str(re), line=dict(color=reynolds_color[re]), showlegend=False), row=2, col=1)\n",
    "        fig.add_trace(go.Scatter(x=polar['xtr_upper'], y=polar['CL'], name=\"Re\"+str(re), legendgroup=\"Re\" + str(re), line=dict(color=reynolds_color[re]), showlegend=False), row=2, col=2)\n",
    "        fig.add_trace(go.Scatter(x=polar['alpha'], y=polar['CL']/polar['CD'], name=\"Re\"+str(re), legendgroup=\"Re\" + str(re), line=dict(color=reynolds_color[re]), showlegend=False), row=3, col=1)\n",
    "    \n",
    "    # Update xaxis properties\n",
    "    fig.update_xaxes(title_text=\"CD\", row=1, col=1)\n",
    "    fig.update_xaxes(title_text=\"alpha\", row=1, col=2)\n",
    "    fig.update_xaxes(title_text=\"alpha\", row=2, col=1)\n",
    "    fig.update_xaxes(title_text=\"xtr_upper\", row=2, col=2)\n",
    "    fig.update_xaxes(title_text=\"alpha\", row=3, col=1)\n",
    "\n",
    "    # Update yaxis properties\n",
    "    fig.update_yaxes(title_text=\"CL\", row=1, col=1)\n",
    "    fig.update_yaxes(title_text=\"CL\", row=1, col=2)\n",
    "    fig.update_yaxes(title_text=\"CM\", row=2, col=1)\n",
    "    fig.update_yaxes(title_text=\"CL\", row=2, col=2)\n",
    "    fig.update_yaxes(title_text=\"CL/CD\", row=3, col=1)\n",
    "\n",
    "    # Update title and height\n",
    "    fig.update_layout(title_text=\"Polars\", height=1200)\n",
    "    return fig\n"
   ]
  },
  {
   "cell_type": "code",
   "execution_count": 143,
   "id": "dd262419-2bc5-4c9a-a20d-16b88f9f5e6e",
   "metadata": {},
   "outputs": [
    {
     "data": {
      "application/vnd.plotly.v1+json": {
       "config": {
        "plotlyServerURL": "https://plot.ly"
       },
       "data": [
        {
         "legendgroup": "Re10000",
         "line": {
          "color": "#1f77b4"
         },
         "name": "Re10000",
         "type": "scatter",
         "x": [
          0.03675,
          0.03624,
          0.03585,
          0.03554,
          0.0353,
          0.03513,
          0.03502,
          0.03496,
          0.03495,
          0.03499,
          0.03508,
          0.03521,
          0.03538,
          0.03561,
          0.03588,
          0.0362,
          0.03657,
          0.037,
          0.03747,
          0.03801,
          0.0386,
          0.03927,
          0.04001,
          0.04081,
          0.04171,
          0.04267,
          0.04374,
          0.04488,
          0.04616,
          0.04751,
          0.04898,
          0.05058,
          0.05227,
          0.0541,
          0.05608,
          0.05817,
          0.06035,
          0.0627,
          0.06516,
          0.06776,
          0.07044,
          0.07326,
          0.07622,
          0.07923,
          0.08237,
          0.08564,
          0.08898,
          0.09243
         ],
         "xaxis": "x",
         "y": [
          -0.15,
          -0.1428,
          -0.1339,
          -0.123,
          -0.1104,
          -0.0964,
          -0.0808,
          -0.0645,
          -0.0475,
          -0.0299,
          -0.012,
          0.0063,
          0.025,
          0.0435,
          0.0622,
          0.0809,
          0.0996,
          0.118,
          0.1363,
          0.1544,
          0.1722,
          0.1898,
          0.2069,
          0.2237,
          0.2401,
          0.256,
          0.2716,
          0.2868,
          0.3011,
          0.3152,
          0.3287,
          0.3414,
          0.354,
          0.3658,
          0.3771,
          0.388,
          0.3983,
          0.4082,
          0.4177,
          0.4267,
          0.4354,
          0.4438,
          0.4518,
          0.4597,
          0.4674,
          0.4747,
          0.482,
          0.4892
         ],
         "yaxis": "y"
        },
        {
         "legendgroup": "Re10000",
         "line": {
          "color": "#1f77b4"
         },
         "name": "Re10000",
         "showlegend": false,
         "type": "scatter",
         "x": [
          -3,
          -2.75,
          -2.5,
          -2.25,
          -2,
          -1.75,
          -1.5,
          -1.25,
          -1,
          -0.75,
          -0.5,
          -0.25,
          0,
          0.25,
          0.5,
          0.75,
          1,
          1.25,
          1.5,
          1.75,
          2,
          2.25,
          2.5,
          2.75,
          3,
          3.25,
          3.5,
          3.75,
          4,
          4.25,
          4.5,
          4.75,
          5,
          5.25,
          5.5,
          5.75,
          6,
          6.25,
          6.5,
          6.75,
          7,
          7.25,
          7.5,
          7.75,
          8,
          8.25,
          8.5,
          8.75
         ],
         "xaxis": "x2",
         "y": [
          -0.15,
          -0.1428,
          -0.1339,
          -0.123,
          -0.1104,
          -0.0964,
          -0.0808,
          -0.0645,
          -0.0475,
          -0.0299,
          -0.012,
          0.0063,
          0.025,
          0.0435,
          0.0622,
          0.0809,
          0.0996,
          0.118,
          0.1363,
          0.1544,
          0.1722,
          0.1898,
          0.2069,
          0.2237,
          0.2401,
          0.256,
          0.2716,
          0.2868,
          0.3011,
          0.3152,
          0.3287,
          0.3414,
          0.354,
          0.3658,
          0.3771,
          0.388,
          0.3983,
          0.4082,
          0.4177,
          0.4267,
          0.4354,
          0.4438,
          0.4518,
          0.4597,
          0.4674,
          0.4747,
          0.482,
          0.4892
         ],
         "yaxis": "y2"
        },
        {
         "legendgroup": "Re10000",
         "line": {
          "color": "#1f77b4"
         },
         "name": "Re10000",
         "showlegend": false,
         "type": "scatter",
         "x": [
          -3,
          -2.75,
          -2.5,
          -2.25,
          -2,
          -1.75,
          -1.5,
          -1.25,
          -1,
          -0.75,
          -0.5,
          -0.25,
          0,
          0.25,
          0.5,
          0.75,
          1,
          1.25,
          1.5,
          1.75,
          2,
          2.25,
          2.5,
          2.75,
          3,
          3.25,
          3.5,
          3.75,
          4,
          4.25,
          4.5,
          4.75,
          5,
          5.25,
          5.5,
          5.75,
          6,
          6.25,
          6.5,
          6.75,
          7,
          7.25,
          7.5,
          7.75,
          8,
          8.25,
          8.5,
          8.75
         ],
         "xaxis": "x3",
         "y": [
          -0.033,
          -0.0311,
          -0.0293,
          -0.0277,
          -0.0262,
          -0.025,
          -0.0238,
          -0.0227,
          -0.0218,
          -0.0209,
          -0.0202,
          -0.0195,
          -0.0188,
          -0.0182,
          -0.0177,
          -0.0172,
          -0.0168,
          -0.0164,
          -0.0161,
          -0.0159,
          -0.0157,
          -0.0155,
          -0.0155,
          -0.0155,
          -0.0156,
          -0.0157,
          -0.016,
          -0.0163,
          -0.0168,
          -0.0173,
          -0.0179,
          -0.0187,
          -0.0195,
          -0.0205,
          -0.0215,
          -0.0227,
          -0.0239,
          -0.0253,
          -0.0267,
          -0.0282,
          -0.0297,
          -0.0313,
          -0.033,
          -0.0347,
          -0.0365,
          -0.0383,
          -0.0401,
          -0.0419
         ],
         "yaxis": "y3"
        },
        {
         "legendgroup": "Re10000",
         "line": {
          "color": "#1f77b4"
         },
         "name": "Re10000",
         "showlegend": false,
         "type": "scatter",
         "x": [
          1,
          1,
          1,
          1,
          1,
          1,
          1,
          1,
          1,
          1,
          1,
          1,
          1,
          1,
          1,
          1,
          1,
          1,
          1,
          1,
          1,
          1,
          1,
          1,
          1,
          1,
          1,
          1,
          1,
          1,
          1,
          1,
          1,
          1,
          1,
          1,
          1,
          1,
          1,
          1,
          1,
          1,
          1,
          1,
          1,
          1,
          1,
          1
         ],
         "xaxis": "x4",
         "y": [
          -0.15,
          -0.1428,
          -0.1339,
          -0.123,
          -0.1104,
          -0.0964,
          -0.0808,
          -0.0645,
          -0.0475,
          -0.0299,
          -0.012,
          0.0063,
          0.025,
          0.0435,
          0.0622,
          0.0809,
          0.0996,
          0.118,
          0.1363,
          0.1544,
          0.1722,
          0.1898,
          0.2069,
          0.2237,
          0.2401,
          0.256,
          0.2716,
          0.2868,
          0.3011,
          0.3152,
          0.3287,
          0.3414,
          0.354,
          0.3658,
          0.3771,
          0.388,
          0.3983,
          0.4082,
          0.4177,
          0.4267,
          0.4354,
          0.4438,
          0.4518,
          0.4597,
          0.4674,
          0.4747,
          0.482,
          0.4892
         ],
         "yaxis": "y4"
        },
        {
         "legendgroup": "Re10000",
         "line": {
          "color": "#1f77b4"
         },
         "name": "Re10000",
         "showlegend": false,
         "type": "scatter",
         "x": [
          -3,
          -2.75,
          -2.5,
          -2.25,
          -2,
          -1.75,
          -1.5,
          -1.25,
          -1,
          -0.75,
          -0.5,
          -0.25,
          0,
          0.25,
          0.5,
          0.75,
          1,
          1.25,
          1.5,
          1.75,
          2,
          2.25,
          2.5,
          2.75,
          3,
          3.25,
          3.5,
          3.75,
          4,
          4.25,
          4.5,
          4.75,
          5,
          5.25,
          5.5,
          5.75,
          6,
          6.25,
          6.5,
          6.75,
          7,
          7.25,
          7.5,
          7.75,
          8,
          8.25,
          8.5,
          8.75
         ],
         "xaxis": "x5",
         "y": [
          -4.081632653061225,
          -3.9403973509933774,
          -3.735006973500697,
          -3.4608891389983114,
          -3.1274787535410766,
          -2.7440933674921717,
          -2.307252998286693,
          -1.8449656750572083,
          -1.3590844062947067,
          -0.8545298656759074,
          -0.34207525655644244,
          0.17892644135188868,
          0.7066139061616733,
          1.2215669755686602,
          1.7335562987736899,
          2.234806629834254,
          2.723543888433142,
          3.189189189189189,
          3.6375767280491056,
          4.062088923967377,
          4.461139896373057,
          4.833206009676598,
          5.171207198200451,
          5.481499632443029,
          5.756413330136659,
          5.999531286618233,
          6.209419295839049,
          6.3903743315508015,
          6.522963604852686,
          6.63439275941907,
          6.71090240914659,
          6.7497034400948985,
          6.772527262291946,
          6.761552680221811,
          6.724322396576319,
          6.670104865050714,
          6.599834299917149,
          6.510366826156299,
          6.410374462860651,
          6.297225501770956,
          6.18114707552527,
          6.057876057876057,
          5.927578063500394,
          5.802095165972485,
          5.674396017967706,
          5.5429705744978985,
          5.416947628680602,
          5.292653900248838
         ],
         "yaxis": "y5"
        },
        {
         "legendgroup": "Re20000",
         "line": {
          "color": "#ff7f0e"
         },
         "name": "Re20000",
         "type": "scatter",
         "x": [
          0.02704,
          0.02648,
          0.02606,
          0.02574,
          0.02551,
          0.02535,
          0.02526,
          0.02524,
          0.02528,
          0.02537,
          0.02551,
          0.0257,
          0.02592,
          0.02621,
          0.02654,
          0.02692,
          0.02736,
          0.02786,
          0.02842,
          0.02905,
          0.02974,
          0.03053,
          0.03139,
          0.03233,
          0.03339,
          0.03453,
          0.03578,
          0.03712,
          0.03863,
          0.04021,
          0.04192,
          0.0438,
          0.04573,
          0.04783,
          0.05009,
          0.05396,
          0.05955,
          0.06325,
          0.06708,
          0.07074,
          0.0744,
          0.07765,
          0.08113,
          0.08472,
          0.08846,
          0.09239,
          0.09697,
          0.10103
         ],
         "xaxis": "x",
         "y": [
          -0.1333,
          -0.1308,
          -0.1264,
          -0.1205,
          -0.112,
          -0.1002,
          -0.0855,
          -0.069,
          -0.0512,
          -0.0326,
          -0.0134,
          0.0062,
          0.0261,
          0.0459,
          0.0657,
          0.0855,
          0.105,
          0.1243,
          0.1432,
          0.162,
          0.1803,
          0.1981,
          0.2153,
          0.2322,
          0.2483,
          0.2641,
          0.2793,
          0.2941,
          0.308,
          0.3216,
          0.3348,
          0.3468,
          0.359,
          0.3703,
          0.3811,
          0.4197,
          0.4979,
          0.5369,
          0.5771,
          0.6167,
          0.6608,
          0.6739,
          0.6897,
          0.7057,
          0.735,
          0.7326,
          0.7301,
          0.7402
         ],
         "yaxis": "y"
        },
        {
         "legendgroup": "Re20000",
         "line": {
          "color": "#ff7f0e"
         },
         "name": "Re20000",
         "showlegend": false,
         "type": "scatter",
         "x": [
          -3,
          -2.75,
          -2.5,
          -2.25,
          -2,
          -1.75,
          -1.5,
          -1.25,
          -1,
          -0.75,
          -0.5,
          -0.25,
          0,
          0.25,
          0.5,
          0.75,
          1,
          1.25,
          1.5,
          1.75,
          2,
          2.25,
          2.5,
          2.75,
          3,
          3.25,
          3.5,
          3.75,
          4,
          4.25,
          4.5,
          4.75,
          5,
          5.25,
          5.5,
          5.75,
          6,
          6.25,
          6.5,
          6.75,
          7,
          7.25,
          7.5,
          7.75,
          8,
          8.25,
          8.5,
          8.75
         ],
         "xaxis": "x2",
         "y": [
          -0.1333,
          -0.1308,
          -0.1264,
          -0.1205,
          -0.112,
          -0.1002,
          -0.0855,
          -0.069,
          -0.0512,
          -0.0326,
          -0.0134,
          0.0062,
          0.0261,
          0.0459,
          0.0657,
          0.0855,
          0.105,
          0.1243,
          0.1432,
          0.162,
          0.1803,
          0.1981,
          0.2153,
          0.2322,
          0.2483,
          0.2641,
          0.2793,
          0.2941,
          0.308,
          0.3216,
          0.3348,
          0.3468,
          0.359,
          0.3703,
          0.3811,
          0.4197,
          0.4979,
          0.5369,
          0.5771,
          0.6167,
          0.6608,
          0.6739,
          0.6897,
          0.7057,
          0.735,
          0.7326,
          0.7301,
          0.7402
         ],
         "yaxis": "y2"
        },
        {
         "legendgroup": "Re20000",
         "line": {
          "color": "#ff7f0e"
         },
         "name": "Re20000",
         "showlegend": false,
         "type": "scatter",
         "x": [
          -3,
          -2.75,
          -2.5,
          -2.25,
          -2,
          -1.75,
          -1.5,
          -1.25,
          -1,
          -0.75,
          -0.5,
          -0.25,
          0,
          0.25,
          0.5,
          0.75,
          1,
          1.25,
          1.5,
          1.75,
          2,
          2.25,
          2.5,
          2.75,
          3,
          3.25,
          3.5,
          3.75,
          4,
          4.25,
          4.5,
          4.75,
          5,
          5.25,
          5.5,
          5.75,
          6,
          6.25,
          6.5,
          6.75,
          7,
          7.25,
          7.5,
          7.75,
          8,
          8.25,
          8.5,
          8.75
         ],
         "xaxis": "x3",
         "y": [
          -0.0353,
          -0.0329,
          -0.0305,
          -0.0281,
          -0.026,
          -0.0243,
          -0.023,
          -0.022,
          -0.0213,
          -0.0206,
          -0.0201,
          -0.0196,
          -0.0192,
          -0.0189,
          -0.0187,
          -0.0185,
          -0.0183,
          -0.0182,
          -0.0182,
          -0.0183,
          -0.0184,
          -0.0186,
          -0.0189,
          -0.0192,
          -0.0197,
          -0.0202,
          -0.0209,
          -0.0216,
          -0.0225,
          -0.0234,
          -0.0245,
          -0.0257,
          -0.0269,
          -0.0282,
          -0.0296,
          -0.0371,
          -0.0511,
          -0.0567,
          -0.0616,
          -0.0652,
          -0.0682,
          -0.0681,
          -0.0682,
          -0.068,
          -0.0677,
          -0.0674,
          -0.0683,
          -0.0677
         ],
         "yaxis": "y3"
        },
        {
         "legendgroup": "Re20000",
         "line": {
          "color": "#ff7f0e"
         },
         "name": "Re20000",
         "showlegend": false,
         "type": "scatter",
         "x": [
          1,
          1,
          1,
          1,
          1,
          1,
          1,
          1,
          1,
          1,
          1,
          1,
          1,
          1,
          1,
          1,
          1,
          1,
          1,
          1,
          1,
          1,
          1,
          1,
          1,
          1,
          1,
          1,
          1,
          1,
          1,
          1,
          1,
          1,
          1,
          0.9801,
          0.9183,
          0.8745,
          0.8282,
          0.7769,
          0.7266,
          0.6922,
          0.6578,
          0.6248,
          0.5815,
          0.5639,
          0.5584,
          0.5302
         ],
         "xaxis": "x4",
         "y": [
          -0.1333,
          -0.1308,
          -0.1264,
          -0.1205,
          -0.112,
          -0.1002,
          -0.0855,
          -0.069,
          -0.0512,
          -0.0326,
          -0.0134,
          0.0062,
          0.0261,
          0.0459,
          0.0657,
          0.0855,
          0.105,
          0.1243,
          0.1432,
          0.162,
          0.1803,
          0.1981,
          0.2153,
          0.2322,
          0.2483,
          0.2641,
          0.2793,
          0.2941,
          0.308,
          0.3216,
          0.3348,
          0.3468,
          0.359,
          0.3703,
          0.3811,
          0.4197,
          0.4979,
          0.5369,
          0.5771,
          0.6167,
          0.6608,
          0.6739,
          0.6897,
          0.7057,
          0.735,
          0.7326,
          0.7301,
          0.7402
         ],
         "yaxis": "y4"
        },
        {
         "legendgroup": "Re20000",
         "line": {
          "color": "#ff7f0e"
         },
         "name": "Re20000",
         "showlegend": false,
         "type": "scatter",
         "x": [
          -3,
          -2.75,
          -2.5,
          -2.25,
          -2,
          -1.75,
          -1.5,
          -1.25,
          -1,
          -0.75,
          -0.5,
          -0.25,
          0,
          0.25,
          0.5,
          0.75,
          1,
          1.25,
          1.5,
          1.75,
          2,
          2.25,
          2.5,
          2.75,
          3,
          3.25,
          3.5,
          3.75,
          4,
          4.25,
          4.5,
          4.75,
          5,
          5.25,
          5.5,
          5.75,
          6,
          6.25,
          6.5,
          6.75,
          7,
          7.25,
          7.5,
          7.75,
          8,
          8.25,
          8.5,
          8.75
         ],
         "xaxis": "x5",
         "y": [
          -4.929733727810651,
          -4.9395770392749245,
          -4.850345356868765,
          -4.681429681429681,
          -4.390435123480987,
          -3.952662721893491,
          -3.3847980997624703,
          -2.7337559429477025,
          -2.0253164556962027,
          -1.284982262514781,
          -0.5252842022736182,
          0.2412451361867704,
          1.0069444444444446,
          1.7512399847386495,
          2.4755086661642802,
          3.1760772659732543,
          3.837719298245614,
          4.461593682699211,
          5.038705137227304,
          5.5765920826161794,
          6.062542030934768,
          6.488699639698656,
          6.858872252309652,
          7.182183730281473,
          7.436358191075171,
          7.648421662322619,
          7.8060368921185015,
          7.922952586206896,
          7.973077918716024,
          7.998010445162894,
          7.986641221374046,
          7.917808219178083,
          7.850426415919527,
          7.742002927033243,
          7.608305050908364,
          7.777983691623425,
          8.361041141897566,
          8.488537549407114,
          8.603160405485985,
          8.717839977381963,
          8.881720430107528,
          8.678686413393432,
          8.501170960187354,
          8.329792256846082,
          8.308840153741805,
          7.929429591947181,
          7.529132721460245,
          7.326536672275561
         ],
         "yaxis": "y5"
        },
        {
         "legendgroup": "Re30000",
         "line": {
          "color": "#2ca02c"
         },
         "name": "Re30000",
         "type": "scatter",
         "x": [
          0.0223,
          0.02186,
          0.02152,
          0.02126,
          0.0211,
          0.02102,
          0.02102,
          0.02109,
          0.02121,
          0.02138,
          0.0216,
          0.02187,
          0.02219,
          0.02257,
          0.02299,
          0.02348,
          0.02404,
          0.02467,
          0.02537,
          0.02614,
          0.02703,
          0.02799,
          0.02902,
          0.03021,
          0.03148,
          0.03287,
          0.03434,
          0.03742,
          0.03973,
          0.04169,
          0.04328,
          0.04467,
          0.0457,
          0.04644,
          0.04508,
          0.04481,
          0.04365,
          0.04231,
          0.04186,
          0.04357,
          0.04473,
          0.04778,
          0.05027,
          0.05394,
          0.05915,
          0.0619,
          0.06746
         ],
         "xaxis": "x",
         "y": [
          -0.1203,
          -0.1192,
          -0.117,
          -0.1128,
          -0.1036,
          -0.0894,
          -0.0725,
          -0.0538,
          -0.0341,
          -0.014,
          0.0066,
          0.0274,
          0.0479,
          0.0684,
          0.0887,
          0.1087,
          0.1283,
          0.1475,
          0.1664,
          0.1848,
          0.2026,
          0.2198,
          0.2366,
          0.2527,
          0.2682,
          0.2831,
          0.2977,
          0.3749,
          0.4367,
          0.4958,
          0.5448,
          0.5915,
          0.6406,
          0.683,
          0.7512,
          0.7874,
          0.8295,
          0.87,
          0.9023,
          0.9202,
          0.9435,
          0.9579,
          0.9705,
          0.988,
          0.9809,
          0.9917,
          0.9793
         ],
         "yaxis": "y"
        },
        {
         "legendgroup": "Re30000",
         "line": {
          "color": "#2ca02c"
         },
         "name": "Re30000",
         "showlegend": false,
         "type": "scatter",
         "x": [
          -2.75,
          -2.5,
          -2.25,
          -2,
          -1.75,
          -1.5,
          -1.25,
          -1,
          -0.75,
          -0.5,
          -0.25,
          0,
          0.25,
          0.5,
          0.75,
          1,
          1.25,
          1.5,
          1.75,
          2,
          2.25,
          2.5,
          2.75,
          3,
          3.25,
          3.5,
          3.75,
          4,
          4.25,
          4.5,
          4.75,
          5,
          5.25,
          5.5,
          5.75,
          6,
          6.25,
          6.5,
          6.75,
          7,
          7.25,
          7.5,
          7.75,
          8,
          8.25,
          8.5,
          8.75
         ],
         "xaxis": "x2",
         "y": [
          -0.1203,
          -0.1192,
          -0.117,
          -0.1128,
          -0.1036,
          -0.0894,
          -0.0725,
          -0.0538,
          -0.0341,
          -0.014,
          0.0066,
          0.0274,
          0.0479,
          0.0684,
          0.0887,
          0.1087,
          0.1283,
          0.1475,
          0.1664,
          0.1848,
          0.2026,
          0.2198,
          0.2366,
          0.2527,
          0.2682,
          0.2831,
          0.2977,
          0.3749,
          0.4367,
          0.4958,
          0.5448,
          0.5915,
          0.6406,
          0.683,
          0.7512,
          0.7874,
          0.8295,
          0.87,
          0.9023,
          0.9202,
          0.9435,
          0.9579,
          0.9705,
          0.988,
          0.9809,
          0.9917,
          0.9793
         ],
         "yaxis": "y2"
        },
        {
         "legendgroup": "Re30000",
         "line": {
          "color": "#2ca02c"
         },
         "name": "Re30000",
         "showlegend": false,
         "type": "scatter",
         "x": [
          -2.75,
          -2.5,
          -2.25,
          -2,
          -1.75,
          -1.5,
          -1.25,
          -1,
          -0.75,
          -0.5,
          -0.25,
          0,
          0.25,
          0.5,
          0.75,
          1,
          1.25,
          1.5,
          1.75,
          2,
          2.25,
          2.5,
          2.75,
          3,
          3.25,
          3.5,
          3.75,
          4,
          4.25,
          4.5,
          4.75,
          5,
          5.25,
          5.5,
          5.75,
          6,
          6.25,
          6.5,
          6.75,
          7,
          7.25,
          7.5,
          7.75,
          8,
          8.25,
          8.5,
          8.75
         ],
         "xaxis": "x3",
         "y": [
          -0.0342,
          -0.0313,
          -0.0284,
          -0.0257,
          -0.0237,
          -0.0224,
          -0.0215,
          -0.021,
          -0.0206,
          -0.0202,
          -0.02,
          -0.0198,
          -0.0197,
          -0.0197,
          -0.0197,
          -0.0197,
          -0.0198,
          -0.02,
          -0.0203,
          -0.0206,
          -0.021,
          -0.0215,
          -0.0221,
          -0.0228,
          -0.0236,
          -0.0245,
          -0.0254,
          -0.0381,
          -0.0467,
          -0.0537,
          -0.0582,
          -0.0615,
          -0.064,
          -0.0644,
          -0.0637,
          -0.0606,
          -0.056,
          -0.0504,
          -0.0452,
          -0.042,
          -0.0381,
          -0.0358,
          -0.0332,
          -0.0313,
          -0.0304,
          -0.028,
          -0.0275
         ],
         "yaxis": "y3"
        },
        {
         "legendgroup": "Re30000",
         "line": {
          "color": "#2ca02c"
         },
         "name": "Re30000",
         "showlegend": false,
         "type": "scatter",
         "x": [
          1,
          1,
          1,
          1,
          1,
          1,
          1,
          1,
          1,
          1,
          1,
          1,
          1,
          1,
          1,
          1,
          1,
          1,
          1,
          1,
          1,
          1,
          1,
          1,
          1,
          1,
          1,
          0.9599,
          0.9224,
          0.8831,
          0.8417,
          0.8042,
          0.763,
          0.719,
          0.6655,
          0.6174,
          0.5616,
          0.5006,
          0.4402,
          0.3945,
          0.3452,
          0.3132,
          0.2803,
          0.2579,
          0.2502,
          0.2251,
          0.2206
         ],
         "xaxis": "x4",
         "y": [
          -0.1203,
          -0.1192,
          -0.117,
          -0.1128,
          -0.1036,
          -0.0894,
          -0.0725,
          -0.0538,
          -0.0341,
          -0.014,
          0.0066,
          0.0274,
          0.0479,
          0.0684,
          0.0887,
          0.1087,
          0.1283,
          0.1475,
          0.1664,
          0.1848,
          0.2026,
          0.2198,
          0.2366,
          0.2527,
          0.2682,
          0.2831,
          0.2977,
          0.3749,
          0.4367,
          0.4958,
          0.5448,
          0.5915,
          0.6406,
          0.683,
          0.7512,
          0.7874,
          0.8295,
          0.87,
          0.9023,
          0.9202,
          0.9435,
          0.9579,
          0.9705,
          0.988,
          0.9809,
          0.9917,
          0.9793
         ],
         "yaxis": "y4"
        },
        {
         "legendgroup": "Re30000",
         "line": {
          "color": "#2ca02c"
         },
         "name": "Re30000",
         "showlegend": false,
         "type": "scatter",
         "x": [
          -2.75,
          -2.5,
          -2.25,
          -2,
          -1.75,
          -1.5,
          -1.25,
          -1,
          -0.75,
          -0.5,
          -0.25,
          0,
          0.25,
          0.5,
          0.75,
          1,
          1.25,
          1.5,
          1.75,
          2,
          2.25,
          2.5,
          2.75,
          3,
          3.25,
          3.5,
          3.75,
          4,
          4.25,
          4.5,
          4.75,
          5,
          5.25,
          5.5,
          5.75,
          6,
          6.25,
          6.5,
          6.75,
          7,
          7.25,
          7.5,
          7.75,
          8,
          8.25,
          8.5,
          8.75
         ],
         "xaxis": "x5",
         "y": [
          -5.394618834080718,
          -5.45288197621226,
          -5.436802973977695,
          -5.305738476011288,
          -4.909952606635071,
          -4.253092293054234,
          -3.4490960989533774,
          -2.550972024656235,
          -1.6077322017916076,
          -0.6548175865294669,
          0.3055555555555555,
          1.2528577960676726,
          2.1586300135196033,
          3.0305715551617194,
          3.858199217050892,
          4.629471890971039,
          5.3369384359401,
          5.978921767328739,
          6.55892786756011,
          7.069625095638868,
          7.495375508694044,
          7.852804573061808,
          8.152997932460373,
          8.364779874213836,
          8.51969504447268,
          8.61271676300578,
          8.669190448456611,
          10.018706574024586,
          10.991693934054869,
          11.892540177500601,
          12.587800369685766,
          13.241549138124022,
          14.017505470459518,
          14.707149009474591,
          16.663708961845607,
          17.571970542289666,
          19.00343642611684,
          20.56251477192153,
          21.55518394648829,
          21.120036722515493,
          21.09322602280349,
          20.04813729593972,
          19.305748955639547,
          18.31664812754913,
          16.583262890955197,
          16.021001615508887,
          14.516750667061961
         ],
         "yaxis": "y5"
        },
        {
         "legendgroup": "Re50000",
         "line": {
          "color": "#d62728"
         },
         "name": "Re50000",
         "type": "scatter",
         "x": [
          0.01774,
          0.01768,
          0.0178,
          0.01743,
          0.01713,
          0.01693,
          0.01686,
          0.01689,
          0.01699,
          0.01715,
          0.01737,
          0.01765,
          0.01797,
          0.01835,
          0.0188,
          0.0193,
          0.01987,
          0.02053,
          0.02126,
          0.02207,
          0.02335,
          0.02446,
          0.02533,
          0.02596,
          0.02636,
          0.02654,
          0.0264,
          0.02598,
          0.02563,
          0.02535,
          0.02506,
          0.02472,
          0.02438,
          0.02409,
          0.02436,
          0.02451,
          0.02503,
          0.02576,
          0.02678,
          0.02823,
          0.02994,
          0.03199,
          0.03393,
          0.03662,
          0.03991,
          0.0426,
          0.04615,
          0.05003
         ],
         "xaxis": "x",
         "y": [
          -0.2376,
          -0.2486,
          -0.1062,
          -0.1093,
          -0.1121,
          -0.1085,
          -0.0952,
          -0.0771,
          -0.0566,
          -0.0352,
          -0.0135,
          0.0084,
          0.0303,
          0.0518,
          0.0729,
          0.0938,
          0.1142,
          0.1339,
          0.1532,
          0.172,
          0.2282,
          0.2868,
          0.3466,
          0.3936,
          0.4486,
          0.5015,
          0.5566,
          0.6056,
          0.6467,
          0.682,
          0.713,
          0.7436,
          0.7734,
          0.8032,
          0.8248,
          0.8485,
          0.8679,
          0.888,
          0.9059,
          0.9228,
          0.9414,
          0.9599,
          0.9778,
          0.9971,
          1.0153,
          1.0297,
          1.0449,
          1.0512
         ],
         "yaxis": "y"
        },
        {
         "legendgroup": "Re50000",
         "line": {
          "color": "#d62728"
         },
         "name": "Re50000",
         "showlegend": false,
         "type": "scatter",
         "x": [
          -3,
          -2.75,
          -2.5,
          -2.25,
          -2,
          -1.75,
          -1.5,
          -1.25,
          -1,
          -0.75,
          -0.5,
          -0.25,
          0,
          0.25,
          0.5,
          0.75,
          1,
          1.25,
          1.5,
          1.75,
          2,
          2.25,
          2.5,
          2.75,
          3,
          3.25,
          3.5,
          3.75,
          4,
          4.25,
          4.5,
          4.75,
          5,
          5.25,
          5.5,
          5.75,
          6,
          6.25,
          6.5,
          6.75,
          7,
          7.25,
          7.5,
          7.75,
          8,
          8.25,
          8.5,
          8.75
         ],
         "xaxis": "x2",
         "y": [
          -0.2376,
          -0.2486,
          -0.1062,
          -0.1093,
          -0.1121,
          -0.1085,
          -0.0952,
          -0.0771,
          -0.0566,
          -0.0352,
          -0.0135,
          0.0084,
          0.0303,
          0.0518,
          0.0729,
          0.0938,
          0.1142,
          0.1339,
          0.1532,
          0.172,
          0.2282,
          0.2868,
          0.3466,
          0.3936,
          0.4486,
          0.5015,
          0.5566,
          0.6056,
          0.6467,
          0.682,
          0.713,
          0.7436,
          0.7734,
          0.8032,
          0.8248,
          0.8485,
          0.8679,
          0.888,
          0.9059,
          0.9228,
          0.9414,
          0.9599,
          0.9778,
          0.9971,
          1.0153,
          1.0297,
          1.0449,
          1.0512
         ],
         "yaxis": "y2"
        },
        {
         "legendgroup": "Re50000",
         "line": {
          "color": "#d62728"
         },
         "name": "Re50000",
         "showlegend": false,
         "type": "scatter",
         "x": [
          -3,
          -2.75,
          -2.5,
          -2.25,
          -2,
          -1.75,
          -1.5,
          -1.25,
          -1,
          -0.75,
          -0.5,
          -0.25,
          0,
          0.25,
          0.5,
          0.75,
          1,
          1.25,
          1.5,
          1.75,
          2,
          2.25,
          2.5,
          2.75,
          3,
          3.25,
          3.5,
          3.75,
          4,
          4.25,
          4.5,
          4.75,
          5,
          5.25,
          5.5,
          5.75,
          6,
          6.25,
          6.5,
          6.75,
          7,
          7.25,
          7.5,
          7.75,
          8,
          8.25,
          8.5,
          8.75
         ],
         "xaxis": "x3",
         "y": [
          -0.0306,
          -0.0177,
          -0.0327,
          -0.0291,
          -0.0254,
          -0.0227,
          -0.0214,
          -0.0209,
          -0.0208,
          -0.0208,
          -0.0209,
          -0.021,
          -0.0211,
          -0.0213,
          -0.0215,
          -0.0218,
          -0.0221,
          -0.0225,
          -0.023,
          -0.0235,
          -0.0308,
          -0.0381,
          -0.0451,
          -0.0494,
          -0.0543,
          -0.0584,
          -0.062,
          -0.0638,
          -0.0642,
          -0.0635,
          -0.0618,
          -0.0598,
          -0.0575,
          -0.0551,
          -0.0523,
          -0.0495,
          -0.0468,
          -0.0441,
          -0.0414,
          -0.0391,
          -0.0371,
          -0.0353,
          -0.0336,
          -0.032,
          -0.0304,
          -0.0288,
          -0.027,
          -0.025
         ],
         "yaxis": "y3"
        },
        {
         "legendgroup": "Re50000",
         "line": {
          "color": "#d62728"
         },
         "name": "Re50000",
         "showlegend": false,
         "type": "scatter",
         "x": [
          1,
          1,
          1,
          1,
          1,
          1,
          1,
          1,
          1,
          1,
          1,
          1,
          1,
          1,
          1,
          1,
          1,
          1,
          1,
          1,
          0.9833,
          0.9595,
          0.9366,
          0.9119,
          0.8853,
          0.8615,
          0.8369,
          0.8113,
          0.7837,
          0.7547,
          0.7218,
          0.6864,
          0.6496,
          0.6101,
          0.5648,
          0.5164,
          0.4646,
          0.4097,
          0.3534,
          0.301,
          0.2567,
          0.2192,
          0.1868,
          0.1627,
          0.1441,
          0.125,
          0.1135,
          0.1029
         ],
         "xaxis": "x4",
         "y": [
          -0.2376,
          -0.2486,
          -0.1062,
          -0.1093,
          -0.1121,
          -0.1085,
          -0.0952,
          -0.0771,
          -0.0566,
          -0.0352,
          -0.0135,
          0.0084,
          0.0303,
          0.0518,
          0.0729,
          0.0938,
          0.1142,
          0.1339,
          0.1532,
          0.172,
          0.2282,
          0.2868,
          0.3466,
          0.3936,
          0.4486,
          0.5015,
          0.5566,
          0.6056,
          0.6467,
          0.682,
          0.713,
          0.7436,
          0.7734,
          0.8032,
          0.8248,
          0.8485,
          0.8679,
          0.888,
          0.9059,
          0.9228,
          0.9414,
          0.9599,
          0.9778,
          0.9971,
          1.0153,
          1.0297,
          1.0449,
          1.0512
         ],
         "yaxis": "y4"
        },
        {
         "legendgroup": "Re50000",
         "line": {
          "color": "#d62728"
         },
         "name": "Re50000",
         "showlegend": false,
         "type": "scatter",
         "x": [
          -3,
          -2.75,
          -2.5,
          -2.25,
          -2,
          -1.75,
          -1.5,
          -1.25,
          -1,
          -0.75,
          -0.5,
          -0.25,
          0,
          0.25,
          0.5,
          0.75,
          1,
          1.25,
          1.5,
          1.75,
          2,
          2.25,
          2.5,
          2.75,
          3,
          3.25,
          3.5,
          3.75,
          4,
          4.25,
          4.5,
          4.75,
          5,
          5.25,
          5.5,
          5.75,
          6,
          6.25,
          6.5,
          6.75,
          7,
          7.25,
          7.5,
          7.75,
          8,
          8.25,
          8.5,
          8.75
         ],
         "xaxis": "x5",
         "y": [
          -13.393461104847804,
          -14.061085972850677,
          -5.966292134831461,
          -6.270797475616752,
          -6.544074722708698,
          -6.4087418783225045,
          -5.646500593119811,
          -4.564831261101244,
          -3.3313713949381984,
          -2.0524781341107876,
          -0.7772020725388601,
          0.47592067988668557,
          1.6861435726210352,
          2.822888283378746,
          3.8776595744680855,
          4.860103626943005,
          5.747357825868143,
          6.522162688748173,
          7.206020696142991,
          7.793384685092886,
          9.773019271948607,
          11.725265739983648,
          13.683379392025268,
          15.161787365177195,
          17.01820940819423,
          18.89600602863602,
          21.083333333333332,
          23.310238645111625,
          25.232149824424503,
          26.90335305719921,
          28.45171588188348,
          30.080906148867317,
          31.722723543888435,
          33.34163553341636,
          33.858784893267654,
          34.618523051815586,
          34.67439073112265,
          34.47204968944099,
          33.82748319641524,
          32.688629117959614,
          31.442885771543086,
          30.006251953735543,
          28.818155025051574,
          27.228290551611142,
          25.439739413680783,
          24.17136150234742,
          22.64138678223185,
          21.011393164101538
         ],
         "yaxis": "y5"
        },
        {
         "legendgroup": "Re100000",
         "line": {
          "color": "#9467bd"
         },
         "name": "Re100000",
         "type": "scatter",
         "x": [
          0.01473,
          0.01295,
          0.01298,
          0.01302,
          0.01299,
          0.01291,
          0.01285,
          0.01292,
          0.01307,
          0.01331,
          0.01361,
          0.01409,
          0.01446,
          0.01475,
          0.01497,
          0.01505,
          0.0151,
          0.01506,
          0.01483,
          0.01464,
          0.01446,
          0.01422,
          0.01396,
          0.01376,
          0.01372,
          0.01372,
          0.01378,
          0.01388,
          0.01401,
          0.01449,
          0.01479,
          0.01512,
          0.01552,
          0.01604,
          0.01657,
          0.01729,
          0.0181,
          0.01915,
          0.02044,
          0.02172,
          0.02368,
          0.02544,
          0.02708,
          0.02865,
          0.03084,
          0.03445,
          0.03754
         ],
         "xaxis": "x",
         "y": [
          -0.2146,
          -0.1978,
          -0.1869,
          -0.1759,
          -0.1674,
          -0.1442,
          -0.1046,
          -0.0836,
          -0.0598,
          -0.0355,
          -0.0105,
          0.0435,
          0.0943,
          0.1432,
          0.189,
          0.2372,
          0.2814,
          0.3286,
          0.3799,
          0.4189,
          0.4563,
          0.4937,
          0.5295,
          0.5627,
          0.5904,
          0.6171,
          0.6435,
          0.6691,
          0.6942,
          0.7421,
          0.765,
          0.7875,
          0.8095,
          0.831,
          0.8517,
          0.871,
          0.8897,
          0.9077,
          0.9251,
          0.9429,
          0.9608,
          0.98,
          0.9979,
          1.0141,
          1.033,
          1.0537,
          1.0727
         ],
         "yaxis": "y"
        },
        {
         "legendgroup": "Re100000",
         "line": {
          "color": "#9467bd"
         },
         "name": "Re100000",
         "showlegend": false,
         "type": "scatter",
         "x": [
          -3,
          -2.75,
          -2.5,
          -2.25,
          -2,
          -1.75,
          -1.5,
          -1.25,
          -1,
          -0.75,
          -0.5,
          -0.25,
          0,
          0.25,
          0.5,
          0.75,
          1,
          1.25,
          1.5,
          1.75,
          2,
          2.25,
          2.5,
          2.75,
          3,
          3.25,
          3.5,
          3.75,
          4,
          4.5,
          4.75,
          5,
          5.25,
          5.5,
          5.75,
          6,
          6.25,
          6.5,
          6.75,
          7,
          7.25,
          7.5,
          7.75,
          8,
          8.25,
          8.5,
          8.75
         ],
         "xaxis": "x2",
         "y": [
          -0.2146,
          -0.1978,
          -0.1869,
          -0.1759,
          -0.1674,
          -0.1442,
          -0.1046,
          -0.0836,
          -0.0598,
          -0.0355,
          -0.0105,
          0.0435,
          0.0943,
          0.1432,
          0.189,
          0.2372,
          0.2814,
          0.3286,
          0.3799,
          0.4189,
          0.4563,
          0.4937,
          0.5295,
          0.5627,
          0.5904,
          0.6171,
          0.6435,
          0.6691,
          0.6942,
          0.7421,
          0.765,
          0.7875,
          0.8095,
          0.831,
          0.8517,
          0.871,
          0.8897,
          0.9077,
          0.9251,
          0.9429,
          0.9608,
          0.98,
          0.9979,
          1.0141,
          1.033,
          1.0537,
          1.0727
         ],
         "yaxis": "y2"
        },
        {
         "legendgroup": "Re100000",
         "line": {
          "color": "#9467bd"
         },
         "name": "Re100000",
         "showlegend": false,
         "type": "scatter",
         "x": [
          -3,
          -2.75,
          -2.5,
          -2.25,
          -2,
          -1.75,
          -1.5,
          -1.25,
          -1,
          -0.75,
          -0.5,
          -0.25,
          0,
          0.25,
          0.5,
          0.75,
          1,
          1.25,
          1.5,
          1.75,
          2,
          2.25,
          2.5,
          2.75,
          3,
          3.25,
          3.5,
          3.75,
          4,
          4.5,
          4.75,
          5,
          5.25,
          5.5,
          5.75,
          6,
          6.25,
          6.5,
          6.75,
          7,
          7.25,
          7.5,
          7.75,
          8,
          8.25,
          8.5,
          8.75
         ],
         "xaxis": "x3",
         "y": [
          -0.0352,
          -0.0327,
          -0.0279,
          -0.0235,
          -0.0185,
          -0.0166,
          -0.0199,
          -0.0203,
          -0.0211,
          -0.0218,
          -0.0227,
          -0.0288,
          -0.034,
          -0.0388,
          -0.0429,
          -0.047,
          -0.0504,
          -0.0541,
          -0.0582,
          -0.0598,
          -0.061,
          -0.0619,
          -0.0625,
          -0.0625,
          -0.0616,
          -0.0606,
          -0.0595,
          -0.0583,
          -0.057,
          -0.0545,
          -0.0531,
          -0.0517,
          -0.0503,
          -0.0488,
          -0.0474,
          -0.0458,
          -0.0442,
          -0.0427,
          -0.0411,
          -0.0397,
          -0.0382,
          -0.0369,
          -0.0356,
          -0.0342,
          -0.0329,
          -0.0314,
          -0.0299
         ],
         "yaxis": "y3"
        },
        {
         "legendgroup": "Re100000",
         "line": {
          "color": "#9467bd"
         },
         "name": "Re100000",
         "showlegend": false,
         "type": "scatter",
         "x": [
          1,
          1,
          1,
          1,
          1,
          1,
          1,
          1,
          1,
          1,
          0.9996,
          0.9888,
          0.9774,
          0.9658,
          0.9537,
          0.9397,
          0.9262,
          0.9133,
          0.9017,
          0.8848,
          0.8679,
          0.85,
          0.8314,
          0.8108,
          0.7862,
          0.7603,
          0.7326,
          0.7035,
          0.6709,
          0.6042,
          0.5673,
          0.5281,
          0.487,
          0.4442,
          0.3974,
          0.349,
          0.2953,
          0.242,
          0.1952,
          0.1588,
          0.1307,
          0.1077,
          0.0869,
          0.0678,
          0.0566,
          0.0499,
          0.0465
         ],
         "xaxis": "x4",
         "y": [
          -0.2146,
          -0.1978,
          -0.1869,
          -0.1759,
          -0.1674,
          -0.1442,
          -0.1046,
          -0.0836,
          -0.0598,
          -0.0355,
          -0.0105,
          0.0435,
          0.0943,
          0.1432,
          0.189,
          0.2372,
          0.2814,
          0.3286,
          0.3799,
          0.4189,
          0.4563,
          0.4937,
          0.5295,
          0.5627,
          0.5904,
          0.6171,
          0.6435,
          0.6691,
          0.6942,
          0.7421,
          0.765,
          0.7875,
          0.8095,
          0.831,
          0.8517,
          0.871,
          0.8897,
          0.9077,
          0.9251,
          0.9429,
          0.9608,
          0.98,
          0.9979,
          1.0141,
          1.033,
          1.0537,
          1.0727
         ],
         "yaxis": "y4"
        },
        {
         "legendgroup": "Re100000",
         "line": {
          "color": "#9467bd"
         },
         "name": "Re100000",
         "showlegend": false,
         "type": "scatter",
         "x": [
          -3,
          -2.75,
          -2.5,
          -2.25,
          -2,
          -1.75,
          -1.5,
          -1.25,
          -1,
          -0.75,
          -0.5,
          -0.25,
          0,
          0.25,
          0.5,
          0.75,
          1,
          1.25,
          1.5,
          1.75,
          2,
          2.25,
          2.5,
          2.75,
          3,
          3.25,
          3.5,
          3.75,
          4,
          4.5,
          4.75,
          5,
          5.25,
          5.5,
          5.75,
          6,
          6.25,
          6.5,
          6.75,
          7,
          7.25,
          7.5,
          7.75,
          8,
          8.25,
          8.5,
          8.75
         ],
         "xaxis": "x5",
         "y": [
          -14.568906992532249,
          -15.274131274131275,
          -14.399075500770417,
          -13.509984639016897,
          -12.886836027713626,
          -11.169635941130906,
          -8.140077821011673,
          -6.470588235294118,
          -4.575363427697016,
          -2.6671675432006006,
          -0.7714915503306392,
          3.0872959545777143,
          6.521438450899031,
          9.708474576271186,
          12.625250501002004,
          15.760797342192692,
          18.635761589403973,
          21.819389110225764,
          25.616992582602833,
          28.613387978142075,
          31.55601659751037,
          34.71870604781997,
          37.929799426934096,
          40.89389534883721,
          43.032069970845484,
          44.978134110787174,
          46.698113207547166,
          48.20605187319885,
          49.550321199143475,
          51.21463077984817,
          51.724137931034484,
          52.083333333333336,
          52.15850515463917,
          51.80798004987531,
          51.40012070006035,
          50.37593984962406,
          49.15469613259668,
          47.39947780678851,
          45.259295499021526,
          43.41160220994475,
          40.57432432432432,
          38.52201257861635,
          36.85007385524372,
          35.396160558464224,
          33.49546044098573,
          30.586357039187227,
          28.574853489611083
         ],
         "yaxis": "y5"
        },
        {
         "legendgroup": "Re150000",
         "line": {
          "color": "#8c564b"
         },
         "name": "Re150000",
         "type": "scatter",
         "x": [
          0.01344,
          0.01199,
          0.0111,
          0.01115,
          0.01124,
          0.01132,
          0.01147,
          0.01159,
          0.01159,
          0.0116,
          0.0116,
          0.01159,
          0.01152,
          0.01138,
          0.01118,
          0.011,
          0.0108,
          0.01055,
          0.01049,
          0.01039,
          0.01034,
          0.01034,
          0.01038,
          0.01046,
          0.01058,
          0.01074,
          0.01092,
          0.01114,
          0.0114,
          0.01167,
          0.01197,
          0.01231,
          0.01269,
          0.01313,
          0.01367,
          0.01419,
          0.01489,
          0.01567,
          0.0166,
          0.01775,
          0.0189,
          0.02121,
          0.02267,
          0.02469,
          0.02733,
          0.02828,
          0.03088
         ],
         "xaxis": "x",
         "y": [
          -0.2118,
          -0.1834,
          -0.1637,
          -0.1456,
          -0.13,
          -0.1153,
          -0.0854,
          -0.0455,
          0.0057,
          0.0576,
          0.1033,
          0.1506,
          0.1916,
          0.2387,
          0.2847,
          0.3222,
          0.3632,
          0.3996,
          0.4288,
          0.4588,
          0.4877,
          0.5159,
          0.5431,
          0.5698,
          0.5956,
          0.6208,
          0.6454,
          0.6701,
          0.6944,
          0.7182,
          0.7417,
          0.765,
          0.7882,
          0.8106,
          0.8323,
          0.8543,
          0.8747,
          0.8951,
          0.9149,
          0.9337,
          0.9532,
          0.9908,
          1.0083,
          1.0237,
          1.0412,
          1.0579,
          1.0754
         ],
         "yaxis": "y"
        },
        {
         "legendgroup": "Re150000",
         "line": {
          "color": "#8c564b"
         },
         "name": "Re150000",
         "showlegend": false,
         "type": "scatter",
         "x": [
          -3,
          -2.75,
          -2.5,
          -2.25,
          -2,
          -1.75,
          -1.5,
          -1.25,
          -1,
          -0.75,
          -0.5,
          -0.25,
          0,
          0.25,
          0.5,
          0.75,
          1,
          1.25,
          1.5,
          1.75,
          2,
          2.25,
          2.5,
          2.75,
          3,
          3.25,
          3.5,
          3.75,
          4,
          4.25,
          4.5,
          4.75,
          5,
          5.25,
          5.5,
          5.75,
          6,
          6.25,
          6.5,
          6.75,
          7,
          7.5,
          7.75,
          8,
          8.25,
          8.5,
          8.75
         ],
         "xaxis": "x2",
         "y": [
          -0.2118,
          -0.1834,
          -0.1637,
          -0.1456,
          -0.13,
          -0.1153,
          -0.0854,
          -0.0455,
          0.0057,
          0.0576,
          0.1033,
          0.1506,
          0.1916,
          0.2387,
          0.2847,
          0.3222,
          0.3632,
          0.3996,
          0.4288,
          0.4588,
          0.4877,
          0.5159,
          0.5431,
          0.5698,
          0.5956,
          0.6208,
          0.6454,
          0.6701,
          0.6944,
          0.7182,
          0.7417,
          0.765,
          0.7882,
          0.8106,
          0.8323,
          0.8543,
          0.8747,
          0.8951,
          0.9149,
          0.9337,
          0.9532,
          0.9908,
          1.0083,
          1.0237,
          1.0412,
          1.0579,
          1.0754
         ],
         "yaxis": "y2"
        },
        {
         "legendgroup": "Re150000",
         "line": {
          "color": "#8c564b"
         },
         "name": "Re150000",
         "showlegend": false,
         "type": "scatter",
         "x": [
          -3,
          -2.75,
          -2.5,
          -2.25,
          -2,
          -1.75,
          -1.5,
          -1.25,
          -1,
          -0.75,
          -0.5,
          -0.25,
          0,
          0.25,
          0.5,
          0.75,
          1,
          1.25,
          1.5,
          1.75,
          2,
          2.25,
          2.5,
          2.75,
          3,
          3.25,
          3.5,
          3.75,
          4,
          4.25,
          4.5,
          4.75,
          5,
          5.25,
          5.5,
          5.75,
          6,
          6.25,
          6.5,
          6.75,
          7,
          7.5,
          7.75,
          8,
          8.25,
          8.5,
          8.75
         ],
         "xaxis": "x3",
         "y": [
          -0.0349,
          -0.0362,
          -0.0344,
          -0.032,
          -0.0291,
          -0.0264,
          -0.0262,
          -0.028,
          -0.0324,
          -0.0377,
          -0.0419,
          -0.0462,
          -0.0492,
          -0.0531,
          -0.0565,
          -0.0583,
          -0.0606,
          -0.0618,
          -0.0619,
          -0.0618,
          -0.0616,
          -0.0612,
          -0.0606,
          -0.06,
          -0.0591,
          -0.0583,
          -0.0573,
          -0.0564,
          -0.0554,
          -0.0545,
          -0.0535,
          -0.0525,
          -0.0515,
          -0.0505,
          -0.0493,
          -0.0483,
          -0.0472,
          -0.0461,
          -0.045,
          -0.0438,
          -0.0425,
          -0.0403,
          -0.0389,
          -0.037,
          -0.0353,
          -0.0342,
          -0.0328
         ],
         "yaxis": "y3"
        },
        {
         "legendgroup": "Re150000",
         "line": {
          "color": "#8c564b"
         },
         "name": "Re150000",
         "showlegend": false,
         "type": "scatter",
         "x": [
          1,
          1,
          1,
          1,
          1,
          1,
          0.9932,
          0.9835,
          0.9766,
          0.9684,
          0.959,
          0.9514,
          0.9404,
          0.9313,
          0.9216,
          0.9085,
          0.8977,
          0.8816,
          0.8643,
          0.8445,
          0.8237,
          0.8025,
          0.7792,
          0.755,
          0.7283,
          0.7005,
          0.6694,
          0.6397,
          0.6081,
          0.5741,
          0.5383,
          0.5015,
          0.4642,
          0.4239,
          0.3814,
          0.3357,
          0.2885,
          0.2371,
          0.1887,
          0.1493,
          0.1207,
          0.0738,
          0.0571,
          0.0428,
          0.0378,
          0.0295,
          0.0264
         ],
         "xaxis": "x4",
         "y": [
          -0.2118,
          -0.1834,
          -0.1637,
          -0.1456,
          -0.13,
          -0.1153,
          -0.0854,
          -0.0455,
          0.0057,
          0.0576,
          0.1033,
          0.1506,
          0.1916,
          0.2387,
          0.2847,
          0.3222,
          0.3632,
          0.3996,
          0.4288,
          0.4588,
          0.4877,
          0.5159,
          0.5431,
          0.5698,
          0.5956,
          0.6208,
          0.6454,
          0.6701,
          0.6944,
          0.7182,
          0.7417,
          0.765,
          0.7882,
          0.8106,
          0.8323,
          0.8543,
          0.8747,
          0.8951,
          0.9149,
          0.9337,
          0.9532,
          0.9908,
          1.0083,
          1.0237,
          1.0412,
          1.0579,
          1.0754
         ],
         "yaxis": "y4"
        },
        {
         "legendgroup": "Re150000",
         "line": {
          "color": "#8c564b"
         },
         "name": "Re150000",
         "showlegend": false,
         "type": "scatter",
         "x": [
          -3,
          -2.75,
          -2.5,
          -2.25,
          -2,
          -1.75,
          -1.5,
          -1.25,
          -1,
          -0.75,
          -0.5,
          -0.25,
          0,
          0.25,
          0.5,
          0.75,
          1,
          1.25,
          1.5,
          1.75,
          2,
          2.25,
          2.5,
          2.75,
          3,
          3.25,
          3.5,
          3.75,
          4,
          4.25,
          4.5,
          4.75,
          5,
          5.25,
          5.5,
          5.75,
          6,
          6.25,
          6.5,
          6.75,
          7,
          7.5,
          7.75,
          8,
          8.25,
          8.5,
          8.75
         ],
         "xaxis": "x5",
         "y": [
          -15.75892857142857,
          -15.296080066722268,
          -14.747747747747749,
          -13.058295964125561,
          -11.565836298932386,
          -10.185512367491166,
          -7.445510026155188,
          -3.925798101811907,
          0.49180327868852464,
          4.9655172413793105,
          8.905172413793105,
          12.993960310612598,
          16.631944444444443,
          20.975395430579965,
          25.46511627906977,
          29.290909090909093,
          33.62962962962963,
          37.87677725118483,
          40.877025738798864,
          44.157844080846964,
          47.16634429400387,
          49.8936170212766,
          52.321772639691716,
          54.47418738049713,
          56.294896030245745,
          57.8026070763501,
          59.1025641025641,
          60.152603231597844,
          60.91228070175438,
          61.542416452442154,
          61.96324143692565,
          62.14459788789602,
          62.11189913317573,
          61.73648134044174,
          60.88514996342356,
          60.20436927413672,
          58.7441235728677,
          57.12188895979579,
          55.1144578313253,
          52.60281690140845,
          50.43386243386244,
          46.71381423856671,
          44.47728275253639,
          41.46213041717294,
          38.097328942553965,
          37.40806223479491,
          34.825129533678755
         ],
         "yaxis": "y5"
        },
        {
         "legendgroup": "Re200000",
         "line": {
          "color": "#e377c2"
         },
         "name": "Re200000",
         "type": "scatter",
         "x": [
          0.01265,
          0.01161,
          0.01039,
          0.01015,
          0.01018,
          0.01022,
          0.01019,
          0.01012,
          0.01005,
          0.00994,
          0.00979,
          0.00966,
          0.00943,
          0.00922,
          0.00901,
          0.00884,
          0.0087,
          0.00862,
          0.00858,
          0.0086,
          0.00867,
          0.00876,
          0.00888,
          0.00902,
          0.00919,
          0.00938,
          0.0096,
          0.00984,
          0.01011,
          0.01041,
          0.01074,
          0.0111,
          0.01149,
          0.01197,
          0.01243,
          0.01304,
          0.01363,
          0.01442,
          0.01528,
          0.01624,
          0.01714,
          0.01812,
          0.01929,
          0.02118,
          0.02279,
          0.02384,
          0.02506,
          0.02789
         ],
         "xaxis": "x",
         "y": [
          -0.2126,
          -0.1843,
          -0.1498,
          -0.114,
          -0.0782,
          -0.0403,
          -0.0051,
          0.0296,
          0.0614,
          0.0901,
          0.1316,
          0.1736,
          0.2251,
          0.2805,
          0.3315,
          0.3623,
          0.3903,
          0.4166,
          0.442,
          0.4677,
          0.4932,
          0.5186,
          0.5442,
          0.5694,
          0.5947,
          0.6197,
          0.6447,
          0.6693,
          0.6937,
          0.7176,
          0.7417,
          0.7652,
          0.7888,
          0.8114,
          0.8346,
          0.8564,
          0.8788,
          0.8999,
          0.9208,
          0.9414,
          0.9623,
          0.9824,
          1.0016,
          1.0159,
          1.0321,
          1.0525,
          1.0709,
          1.0832
         ],
         "yaxis": "y"
        },
        {
         "legendgroup": "Re200000",
         "line": {
          "color": "#e377c2"
         },
         "name": "Re200000",
         "showlegend": false,
         "type": "scatter",
         "x": [
          -3,
          -2.75,
          -2.5,
          -2.25,
          -2,
          -1.75,
          -1.5,
          -1.25,
          -1,
          -0.75,
          -0.5,
          -0.25,
          0,
          0.25,
          0.5,
          0.75,
          1,
          1.25,
          1.5,
          1.75,
          2,
          2.25,
          2.5,
          2.75,
          3,
          3.25,
          3.5,
          3.75,
          4,
          4.25,
          4.5,
          4.75,
          5,
          5.25,
          5.5,
          5.75,
          6,
          6.25,
          6.5,
          6.75,
          7,
          7.25,
          7.5,
          7.75,
          8,
          8.25,
          8.5,
          8.75
         ],
         "xaxis": "x2",
         "y": [
          -0.2126,
          -0.1843,
          -0.1498,
          -0.114,
          -0.0782,
          -0.0403,
          -0.0051,
          0.0296,
          0.0614,
          0.0901,
          0.1316,
          0.1736,
          0.2251,
          0.2805,
          0.3315,
          0.3623,
          0.3903,
          0.4166,
          0.442,
          0.4677,
          0.4932,
          0.5186,
          0.5442,
          0.5694,
          0.5947,
          0.6197,
          0.6447,
          0.6693,
          0.6937,
          0.7176,
          0.7417,
          0.7652,
          0.7888,
          0.8114,
          0.8346,
          0.8564,
          0.8788,
          0.8999,
          0.9208,
          0.9414,
          0.9623,
          0.9824,
          1.0016,
          1.0159,
          1.0321,
          1.0525,
          1.0709,
          1.0832
         ],
         "yaxis": "y2"
        },
        {
         "legendgroup": "Re200000",
         "line": {
          "color": "#e377c2"
         },
         "name": "Re200000",
         "showlegend": false,
         "type": "scatter",
         "x": [
          -3,
          -2.75,
          -2.5,
          -2.25,
          -2,
          -1.75,
          -1.5,
          -1.25,
          -1,
          -0.75,
          -0.5,
          -0.25,
          0,
          0.25,
          0.5,
          0.75,
          1,
          1.25,
          1.5,
          1.75,
          2,
          2.25,
          2.5,
          2.75,
          3,
          3.25,
          3.5,
          3.75,
          4,
          4.25,
          4.5,
          4.75,
          5,
          5.25,
          5.5,
          5.75,
          6,
          6.25,
          6.5,
          6.75,
          7,
          7.25,
          7.5,
          7.75,
          8,
          8.25,
          8.5,
          8.75
         ],
         "xaxis": "x3",
         "y": [
          -0.0343,
          -0.0354,
          -0.0378,
          -0.0391,
          -0.0402,
          -0.0419,
          -0.0428,
          -0.0436,
          -0.0438,
          -0.0432,
          -0.0454,
          -0.048,
          -0.0523,
          -0.0577,
          -0.0624,
          -0.063,
          -0.063,
          -0.0626,
          -0.062,
          -0.0613,
          -0.0607,
          -0.06,
          -0.0595,
          -0.0587,
          -0.058,
          -0.0573,
          -0.0566,
          -0.0558,
          -0.0551,
          -0.0542,
          -0.0534,
          -0.0526,
          -0.0519,
          -0.051,
          -0.0502,
          -0.0493,
          -0.0486,
          -0.0477,
          -0.0468,
          -0.0457,
          -0.0449,
          -0.044,
          -0.0428,
          -0.0408,
          -0.0393,
          -0.0381,
          -0.0369,
          -0.0349
         ],
         "yaxis": "y3"
        },
        {
         "legendgroup": "Re200000",
         "line": {
          "color": "#e377c2"
         },
         "name": "Re200000",
         "showlegend": false,
         "type": "scatter",
         "x": [
          1,
          1,
          0.9981,
          0.993,
          0.9862,
          0.9781,
          0.9691,
          0.9597,
          0.9523,
          0.9429,
          0.9374,
          0.9303,
          0.9231,
          0.9179,
          0.9062,
          0.8902,
          0.8722,
          0.8531,
          0.8316,
          0.8092,
          0.7868,
          0.7623,
          0.7391,
          0.7114,
          0.6835,
          0.6555,
          0.6264,
          0.5956,
          0.5629,
          0.5277,
          0.4931,
          0.4565,
          0.4213,
          0.3799,
          0.337,
          0.2918,
          0.2478,
          0.1994,
          0.1587,
          0.1246,
          0.097,
          0.0737,
          0.0567,
          0.0404,
          0.028,
          0.0255,
          0.0208,
          0.0185
         ],
         "xaxis": "x4",
         "y": [
          -0.2126,
          -0.1843,
          -0.1498,
          -0.114,
          -0.0782,
          -0.0403,
          -0.0051,
          0.0296,
          0.0614,
          0.0901,
          0.1316,
          0.1736,
          0.2251,
          0.2805,
          0.3315,
          0.3623,
          0.3903,
          0.4166,
          0.442,
          0.4677,
          0.4932,
          0.5186,
          0.5442,
          0.5694,
          0.5947,
          0.6197,
          0.6447,
          0.6693,
          0.6937,
          0.7176,
          0.7417,
          0.7652,
          0.7888,
          0.8114,
          0.8346,
          0.8564,
          0.8788,
          0.8999,
          0.9208,
          0.9414,
          0.9623,
          0.9824,
          1.0016,
          1.0159,
          1.0321,
          1.0525,
          1.0709,
          1.0832
         ],
         "yaxis": "y4"
        },
        {
         "legendgroup": "Re200000",
         "line": {
          "color": "#e377c2"
         },
         "name": "Re200000",
         "showlegend": false,
         "type": "scatter",
         "x": [
          -3,
          -2.75,
          -2.5,
          -2.25,
          -2,
          -1.75,
          -1.5,
          -1.25,
          -1,
          -0.75,
          -0.5,
          -0.25,
          0,
          0.25,
          0.5,
          0.75,
          1,
          1.25,
          1.5,
          1.75,
          2,
          2.25,
          2.5,
          2.75,
          3,
          3.25,
          3.5,
          3.75,
          4,
          4.25,
          4.5,
          4.75,
          5,
          5.25,
          5.5,
          5.75,
          6,
          6.25,
          6.5,
          6.75,
          7,
          7.25,
          7.5,
          7.75,
          8,
          8.25,
          8.5,
          8.75
         ],
         "xaxis": "x5",
         "y": [
          -16.806324110671937,
          -15.874246339362617,
          -14.417709335899902,
          -11.23152709359606,
          -7.681728880157172,
          -3.9432485322896285,
          -0.5004906771344456,
          2.924901185770751,
          6.109452736318408,
          9.064386317907445,
          13.44228804902962,
          17.971014492753625,
          23.87062566277837,
          30.42299349240781,
          36.79245283018868,
          40.984162895927604,
          44.862068965517246,
          48.32946635730859,
          51.51515151515151,
          54.383720930232556,
          56.88581314878893,
          59.20091324200912,
          61.28378378378378,
          63.12638580931264,
          64.71164309031556,
          66.06609808102345,
          67.15625000000001,
          68.01829268292683,
          68.61523244312562,
          68.93371757925071,
          69.05959031657356,
          68.93693693693693,
          68.65100087032201,
          67.78613199665831,
          67.14400643604183,
          65.67484662576688,
          64.47542186353633,
          62.40638002773925,
          60.26178010471204,
          57.9679802955665,
          56.14352392065345,
          54.216335540838855,
          51.923276308968376,
          47.96506137865911,
          45.287406757349714,
          44.14848993288591,
          42.73343974461293,
          38.838293295087844
         ],
         "yaxis": "y5"
        },
        {
         "legendgroup": "Re300000",
         "line": {
          "color": "#7f7f7f"
         },
         "name": "Re300000",
         "type": "scatter",
         "x": [
          0.01061,
          0.00989,
          0.00891,
          0.0084,
          0.00825,
          0.00813,
          0.008,
          0.00789,
          0.00773,
          0.0076,
          0.00746,
          0.00734,
          0.00724,
          0.00716,
          0.00708,
          0.00704,
          0.00701,
          0.007,
          0.00702,
          0.00709,
          0.00719,
          0.00733,
          0.00748,
          0.00765,
          0.00786,
          0.00807,
          0.00831,
          0.00856,
          0.00885,
          0.00915,
          0.00947,
          0.00985,
          0.01028,
          0.01073,
          0.01121,
          0.01232,
          0.01302,
          0.01371,
          0.01452,
          0.0153,
          0.01603,
          0.01673,
          0.01963,
          0.02078,
          0.02191,
          0.02344
         ],
         "xaxis": "x",
         "y": [
          -0.149,
          -0.1137,
          -0.0751,
          -0.0423,
          -0.0034,
          0.0283,
          0.0674,
          0.0975,
          0.1323,
          0.1597,
          0.191,
          0.2191,
          0.2452,
          0.2709,
          0.2971,
          0.3242,
          0.3591,
          0.398,
          0.4392,
          0.4715,
          0.4938,
          0.5178,
          0.5428,
          0.5683,
          0.5933,
          0.6186,
          0.6436,
          0.6686,
          0.6934,
          0.718,
          0.7428,
          0.7668,
          0.7906,
          0.8144,
          0.8383,
          0.885,
          0.9075,
          0.9302,
          0.952,
          0.9739,
          0.9963,
          1.0186,
          1.053,
          1.0719,
          1.0911,
          1.1072
         ],
         "yaxis": "y"
        },
        {
         "legendgroup": "Re300000",
         "line": {
          "color": "#7f7f7f"
         },
         "name": "Re300000",
         "showlegend": false,
         "type": "scatter",
         "x": [
          -3,
          -2.75,
          -2.5,
          -2.25,
          -2,
          -1.75,
          -1.5,
          -1.25,
          -1,
          -0.75,
          -0.5,
          -0.25,
          0,
          0.25,
          0.5,
          0.75,
          1,
          1.25,
          1.5,
          1.75,
          2,
          2.25,
          2.5,
          2.75,
          3,
          3.25,
          3.5,
          3.75,
          4,
          4.25,
          4.5,
          4.75,
          5,
          5.25,
          5.5,
          6,
          6.25,
          6.5,
          6.75,
          7,
          7.25,
          7.5,
          8,
          8.25,
          8.5,
          8.75
         ],
         "xaxis": "x2",
         "y": [
          -0.149,
          -0.1137,
          -0.0751,
          -0.0423,
          -0.0034,
          0.0283,
          0.0674,
          0.0975,
          0.1323,
          0.1597,
          0.191,
          0.2191,
          0.2452,
          0.2709,
          0.2971,
          0.3242,
          0.3591,
          0.398,
          0.4392,
          0.4715,
          0.4938,
          0.5178,
          0.5428,
          0.5683,
          0.5933,
          0.6186,
          0.6436,
          0.6686,
          0.6934,
          0.718,
          0.7428,
          0.7668,
          0.7906,
          0.8144,
          0.8383,
          0.885,
          0.9075,
          0.9302,
          0.952,
          0.9739,
          0.9963,
          1.0186,
          1.053,
          1.0719,
          1.0911,
          1.1072
         ],
         "yaxis": "y2"
        },
        {
         "legendgroup": "Re300000",
         "line": {
          "color": "#7f7f7f"
         },
         "name": "Re300000",
         "showlegend": false,
         "type": "scatter",
         "x": [
          -3,
          -2.75,
          -2.5,
          -2.25,
          -2,
          -1.75,
          -1.5,
          -1.25,
          -1,
          -0.75,
          -0.5,
          -0.25,
          0,
          0.25,
          0.5,
          0.75,
          1,
          1.25,
          1.5,
          1.75,
          2,
          2.25,
          2.5,
          2.75,
          3,
          3.25,
          3.5,
          3.75,
          4,
          4.25,
          4.5,
          4.75,
          5,
          5.25,
          5.5,
          6,
          6.25,
          6.5,
          6.75,
          7,
          7.25,
          7.5,
          8,
          8.25,
          8.5,
          8.75
         ],
         "xaxis": "x3",
         "y": [
          -0.0468,
          -0.049,
          -0.052,
          -0.0529,
          -0.0548,
          -0.0552,
          -0.0571,
          -0.0572,
          -0.0581,
          -0.0574,
          -0.0576,
          -0.0571,
          -0.0561,
          -0.0551,
          -0.0541,
          -0.0535,
          -0.0546,
          -0.0567,
          -0.0595,
          -0.0606,
          -0.0596,
          -0.0589,
          -0.0584,
          -0.0579,
          -0.0573,
          -0.0568,
          -0.0562,
          -0.0557,
          -0.0551,
          -0.0546,
          -0.054,
          -0.0534,
          -0.0528,
          -0.0522,
          -0.0516,
          -0.0505,
          -0.0499,
          -0.0492,
          -0.0485,
          -0.0477,
          -0.0471,
          -0.0465,
          -0.0432,
          -0.0419,
          -0.0407,
          -0.039
         ],
         "yaxis": "y3"
        },
        {
         "legendgroup": "Re300000",
         "line": {
          "color": "#7f7f7f"
         },
         "name": "Re300000",
         "showlegend": false,
         "type": "scatter",
         "x": [
          0.9837,
          0.9786,
          0.9751,
          0.968,
          0.9636,
          0.9553,
          0.951,
          0.9421,
          0.9362,
          0.925,
          0.9154,
          0.903,
          0.8881,
          0.8744,
          0.8581,
          0.8407,
          0.8214,
          0.8011,
          0.7779,
          0.7561,
          0.7332,
          0.7059,
          0.6788,
          0.6536,
          0.6232,
          0.5954,
          0.5645,
          0.5344,
          0.501,
          0.4668,
          0.4337,
          0.3954,
          0.3554,
          0.3171,
          0.2743,
          0.1964,
          0.1571,
          0.1245,
          0.093,
          0.0703,
          0.0532,
          0.0353,
          0.017,
          0.0162,
          0.013,
          0.0118
         ],
         "xaxis": "x4",
         "y": [
          -0.149,
          -0.1137,
          -0.0751,
          -0.0423,
          -0.0034,
          0.0283,
          0.0674,
          0.0975,
          0.1323,
          0.1597,
          0.191,
          0.2191,
          0.2452,
          0.2709,
          0.2971,
          0.3242,
          0.3591,
          0.398,
          0.4392,
          0.4715,
          0.4938,
          0.5178,
          0.5428,
          0.5683,
          0.5933,
          0.6186,
          0.6436,
          0.6686,
          0.6934,
          0.718,
          0.7428,
          0.7668,
          0.7906,
          0.8144,
          0.8383,
          0.885,
          0.9075,
          0.9302,
          0.952,
          0.9739,
          0.9963,
          1.0186,
          1.053,
          1.0719,
          1.0911,
          1.1072
         ],
         "yaxis": "y4"
        },
        {
         "legendgroup": "Re300000",
         "line": {
          "color": "#7f7f7f"
         },
         "name": "Re300000",
         "showlegend": false,
         "type": "scatter",
         "x": [
          -3,
          -2.75,
          -2.5,
          -2.25,
          -2,
          -1.75,
          -1.5,
          -1.25,
          -1,
          -0.75,
          -0.5,
          -0.25,
          0,
          0.25,
          0.5,
          0.75,
          1,
          1.25,
          1.5,
          1.75,
          2,
          2.25,
          2.5,
          2.75,
          3,
          3.25,
          3.5,
          3.75,
          4,
          4.25,
          4.5,
          4.75,
          5,
          5.25,
          5.5,
          6,
          6.25,
          6.5,
          6.75,
          7,
          7.25,
          7.5,
          8,
          8.25,
          8.5,
          8.75
         ],
         "xaxis": "x5",
         "y": [
          -14.043355325164939,
          -11.496461071789687,
          -8.428731762065096,
          -5.035714285714286,
          -0.41212121212121205,
          3.4809348093480934,
          8.425,
          12.357414448669203,
          17.115135834411383,
          21.013157894736842,
          25.603217158176946,
          29.850136239782014,
          33.86740331491713,
          37.83519553072625,
          41.96327683615819,
          46.05113636363636,
          51.22681883024251,
          56.85714285714286,
          62.56410256410256,
          66.50211565585332,
          68.67872044506258,
          70.6412005457026,
          72.56684491978609,
          74.28758169934642,
          75.48346055979644,
          76.6542750929368,
          77.4488567990373,
          78.10747663551402,
          78.35028248587571,
          78.46994535519126,
          78.43717001055967,
          77.84771573604061,
          76.90661478599222,
          75.89934762348555,
          74.7814451382694,
          71.8344155844156,
          69.70046082949308,
          67.84828592268417,
          65.56473829201101,
          63.653594771241835,
          62.152214597629445,
          60.884638374178124,
          53.642384105960254,
          51.583253128007705,
          49.799178457325425,
          47.23549488054608
         ],
         "yaxis": "y5"
        },
        {
         "legendgroup": "Re500000",
         "line": {
          "color": "#bcbd22"
         },
         "name": "Re500000",
         "type": "scatter",
         "x": [
          0.00853,
          0.00794,
          0.0073,
          0.0066,
          0.00621,
          0.006,
          0.00589,
          0.00579,
          0.00573,
          0.00571,
          0.00567,
          0.00569,
          0.00572,
          0.00576,
          0.00579,
          0.00585,
          0.00591,
          0.00595,
          0.00599,
          0.00608,
          0.00621,
          0.00637,
          0.00676,
          0.00698,
          0.00724,
          0.00749,
          0.00777,
          0.00806,
          0.00839,
          0.00878,
          0.00919,
          0.00961,
          0.01008,
          0.01055,
          0.01102,
          0.01182,
          0.01245,
          0.01297,
          0.01345,
          0.01404,
          0.01496,
          0.01568,
          0.01693,
          0.01785,
          0.01901,
          0.02031
         ],
         "xaxis": "x",
         "y": [
          -0.0879,
          -0.0498,
          -0.0201,
          0.0136,
          0.0417,
          0.0741,
          0.1028,
          0.1331,
          0.1624,
          0.1903,
          0.2173,
          0.2445,
          0.2968,
          0.3226,
          0.3476,
          0.3722,
          0.396,
          0.4191,
          0.4428,
          0.4715,
          0.5071,
          0.5405,
          0.5922,
          0.6181,
          0.6436,
          0.6694,
          0.6949,
          0.7206,
          0.7459,
          0.7707,
          0.7954,
          0.8202,
          0.8447,
          0.8692,
          0.8936,
          0.9156,
          0.9388,
          0.9629,
          0.9872,
          1.0106,
          1.032,
          1.0547,
          1.0737,
          1.0943,
          1.1132,
          1.1308
         ],
         "yaxis": "y"
        },
        {
         "legendgroup": "Re500000",
         "line": {
          "color": "#bcbd22"
         },
         "name": "Re500000",
         "showlegend": false,
         "type": "scatter",
         "x": [
          -3,
          -2.75,
          -2.5,
          -2.25,
          -2,
          -1.75,
          -1.5,
          -1.25,
          -1,
          -0.75,
          -0.5,
          -0.25,
          0.25,
          0.5,
          0.75,
          1,
          1.25,
          1.5,
          1.75,
          2,
          2.25,
          2.5,
          3,
          3.25,
          3.5,
          3.75,
          4,
          4.25,
          4.5,
          4.75,
          5,
          5.25,
          5.5,
          5.75,
          6,
          6.25,
          6.5,
          6.75,
          7,
          7.25,
          7.5,
          7.75,
          8,
          8.25,
          8.5,
          8.75
         ],
         "xaxis": "x2",
         "y": [
          -0.0879,
          -0.0498,
          -0.0201,
          0.0136,
          0.0417,
          0.0741,
          0.1028,
          0.1331,
          0.1624,
          0.1903,
          0.2173,
          0.2445,
          0.2968,
          0.3226,
          0.3476,
          0.3722,
          0.396,
          0.4191,
          0.4428,
          0.4715,
          0.5071,
          0.5405,
          0.5922,
          0.6181,
          0.6436,
          0.6694,
          0.6949,
          0.7206,
          0.7459,
          0.7707,
          0.7954,
          0.8202,
          0.8447,
          0.8692,
          0.8936,
          0.9156,
          0.9388,
          0.9629,
          0.9872,
          1.0106,
          1.032,
          1.0547,
          1.0737,
          1.0943,
          1.1132,
          1.1308
         ],
         "yaxis": "y2"
        },
        {
         "legendgroup": "Re500000",
         "line": {
          "color": "#bcbd22"
         },
         "name": "Re500000",
         "showlegend": false,
         "type": "scatter",
         "x": [
          -3,
          -2.75,
          -2.5,
          -2.25,
          -2,
          -1.75,
          -1.5,
          -1.25,
          -1,
          -0.75,
          -0.5,
          -0.25,
          0.25,
          0.5,
          0.75,
          1,
          1.25,
          1.5,
          1.75,
          2,
          2.25,
          2.5,
          3,
          3.25,
          3.5,
          3.75,
          4,
          4.25,
          4.5,
          4.75,
          5,
          5.25,
          5.5,
          5.75,
          6,
          6.25,
          6.5,
          6.75,
          7,
          7.25,
          7.5,
          7.75,
          8,
          8.25,
          8.5,
          8.75
         ],
         "xaxis": "x3",
         "y": [
          -0.0581,
          -0.0606,
          -0.0613,
          -0.0628,
          -0.0628,
          -0.0635,
          -0.0633,
          -0.0635,
          -0.0635,
          -0.0632,
          -0.0626,
          -0.0622,
          -0.0609,
          -0.0602,
          -0.0593,
          -0.0584,
          -0.0572,
          -0.0559,
          -0.0547,
          -0.0547,
          -0.0564,
          -0.0578,
          -0.0573,
          -0.057,
          -0.0566,
          -0.0563,
          -0.056,
          -0.0556,
          -0.0553,
          -0.0549,
          -0.0545,
          -0.0541,
          -0.0537,
          -0.0533,
          -0.0529,
          -0.0523,
          -0.0517,
          -0.0513,
          -0.0508,
          -0.0503,
          -0.0493,
          -0.0485,
          -0.0471,
          -0.046,
          -0.0447,
          -0.0431
         ],
         "yaxis": "y3"
        },
        {
         "legendgroup": "Re500000",
         "line": {
          "color": "#bcbd22"
         },
         "name": "Re500000",
         "showlegend": false,
         "type": "scatter",
         "x": [
          0.966,
          0.9636,
          0.9561,
          0.9515,
          0.9431,
          0.9364,
          0.9251,
          0.9143,
          0.9019,
          0.8861,
          0.8697,
          0.8528,
          0.8167,
          0.7965,
          0.775,
          0.7545,
          0.7324,
          0.7095,
          0.688,
          0.6612,
          0.6346,
          0.6045,
          0.5473,
          0.5175,
          0.4835,
          0.4534,
          0.4204,
          0.3901,
          0.3562,
          0.3178,
          0.2755,
          0.2417,
          0.2064,
          0.1734,
          0.1451,
          0.0966,
          0.0692,
          0.0537,
          0.044,
          0.0311,
          0.0148,
          0.0129,
          0.0092,
          0.009,
          0.0077,
          0.0073
         ],
         "xaxis": "x4",
         "y": [
          -0.0879,
          -0.0498,
          -0.0201,
          0.0136,
          0.0417,
          0.0741,
          0.1028,
          0.1331,
          0.1624,
          0.1903,
          0.2173,
          0.2445,
          0.2968,
          0.3226,
          0.3476,
          0.3722,
          0.396,
          0.4191,
          0.4428,
          0.4715,
          0.5071,
          0.5405,
          0.5922,
          0.6181,
          0.6436,
          0.6694,
          0.6949,
          0.7206,
          0.7459,
          0.7707,
          0.7954,
          0.8202,
          0.8447,
          0.8692,
          0.8936,
          0.9156,
          0.9388,
          0.9629,
          0.9872,
          1.0106,
          1.032,
          1.0547,
          1.0737,
          1.0943,
          1.1132,
          1.1308
         ],
         "yaxis": "y4"
        },
        {
         "legendgroup": "Re500000",
         "line": {
          "color": "#bcbd22"
         },
         "name": "Re500000",
         "showlegend": false,
         "type": "scatter",
         "x": [
          -3,
          -2.75,
          -2.5,
          -2.25,
          -2,
          -1.75,
          -1.5,
          -1.25,
          -1,
          -0.75,
          -0.5,
          -0.25,
          0.25,
          0.5,
          0.75,
          1,
          1.25,
          1.5,
          1.75,
          2,
          2.25,
          2.5,
          3,
          3.25,
          3.5,
          3.75,
          4,
          4.25,
          4.5,
          4.75,
          5,
          5.25,
          5.5,
          5.75,
          6,
          6.25,
          6.5,
          6.75,
          7,
          7.25,
          7.5,
          7.75,
          8,
          8.25,
          8.5,
          8.75
         ],
         "xaxis": "x5",
         "y": [
          -10.30480656506448,
          -6.272040302267003,
          -2.7534246575342465,
          2.0606060606060606,
          6.714975845410628,
          12.35,
          17.453310696095077,
          22.987910189982728,
          28.342059336823734,
          33.32749562171629,
          38.32451499118166,
          42.970123022847105,
          51.88811188811189,
          56.00694444444444,
          60.03454231433506,
          63.62393162393162,
          67.00507614213198,
          70.43697478991595,
          73.92320534223707,
          77.54934210526315,
          81.65861513687601,
          84.850863422292,
          87.60355029585797,
          88.55300859598853,
          88.89502762430939,
          89.37249666221629,
          89.43371943371943,
          89.4044665012407,
          88.90345649582837,
          87.77904328018224,
          86.550598476605,
          85.34859521331946,
          83.79960317460318,
          82.38862559241706,
          81.08892921960071,
          77.46192893401015,
          75.40562248995984,
          74.24055512721665,
          73.39776951672862,
          71.98005698005697,
          68.98395721925134,
          67.2640306122449,
          63.41996455995275,
          61.305322128851536,
          58.558653340347185,
          55.67700640078779
         ],
         "yaxis": "y5"
        }
       ],
       "layout": {
        "annotations": [
         {
          "font": {
           "size": 16
          },
          "showarrow": false,
          "text": "CL Vs. CD",
          "x": 0.23249999999999998,
          "xanchor": "center",
          "xref": "paper",
          "y": 1,
          "yanchor": "bottom",
          "yref": "paper"
         },
         {
          "font": {
           "size": 16
          },
          "showarrow": false,
          "text": "CL Vs alpha",
          "x": 0.7674999999999998,
          "xanchor": "center",
          "xref": "paper",
          "y": 1,
          "yanchor": "bottom",
          "yref": "paper"
         },
         {
          "font": {
           "size": 16
          },
          "showarrow": false,
          "text": "CM Vs alpha",
          "x": 0.23249999999999998,
          "xanchor": "center",
          "xref": "paper",
          "y": 0.6433333333333333,
          "yanchor": "bottom",
          "yref": "paper"
         },
         {
          "font": {
           "size": 16
          },
          "showarrow": false,
          "text": "CL vs xtr_upper",
          "x": 0.7674999999999998,
          "xanchor": "center",
          "xref": "paper",
          "y": 0.6433333333333333,
          "yanchor": "bottom",
          "yref": "paper"
         },
         {
          "font": {
           "size": 16
          },
          "showarrow": false,
          "text": "CL/CD vs alpha",
          "x": 0.23249999999999998,
          "xanchor": "center",
          "xref": "paper",
          "y": 0.2866666666666667,
          "yanchor": "bottom",
          "yref": "paper"
         }
        ],
        "autosize": true,
        "template": {
         "data": {
          "bar": [
           {
            "error_x": {
             "color": "#2a3f5f"
            },
            "error_y": {
             "color": "#2a3f5f"
            },
            "marker": {
             "line": {
              "color": "#E5ECF6",
              "width": 0.5
             },
             "pattern": {
              "fillmode": "overlay",
              "size": 10,
              "solidity": 0.2
             }
            },
            "type": "bar"
           }
          ],
          "barpolar": [
           {
            "marker": {
             "line": {
              "color": "#E5ECF6",
              "width": 0.5
             },
             "pattern": {
              "fillmode": "overlay",
              "size": 10,
              "solidity": 0.2
             }
            },
            "type": "barpolar"
           }
          ],
          "carpet": [
           {
            "aaxis": {
             "endlinecolor": "#2a3f5f",
             "gridcolor": "white",
             "linecolor": "white",
             "minorgridcolor": "white",
             "startlinecolor": "#2a3f5f"
            },
            "baxis": {
             "endlinecolor": "#2a3f5f",
             "gridcolor": "white",
             "linecolor": "white",
             "minorgridcolor": "white",
             "startlinecolor": "#2a3f5f"
            },
            "type": "carpet"
           }
          ],
          "choropleth": [
           {
            "colorbar": {
             "outlinewidth": 0,
             "ticks": ""
            },
            "type": "choropleth"
           }
          ],
          "contour": [
           {
            "colorbar": {
             "outlinewidth": 0,
             "ticks": ""
            },
            "colorscale": [
             [
              0,
              "#0d0887"
             ],
             [
              0.1111111111111111,
              "#46039f"
             ],
             [
              0.2222222222222222,
              "#7201a8"
             ],
             [
              0.3333333333333333,
              "#9c179e"
             ],
             [
              0.4444444444444444,
              "#bd3786"
             ],
             [
              0.5555555555555556,
              "#d8576b"
             ],
             [
              0.6666666666666666,
              "#ed7953"
             ],
             [
              0.7777777777777778,
              "#fb9f3a"
             ],
             [
              0.8888888888888888,
              "#fdca26"
             ],
             [
              1,
              "#f0f921"
             ]
            ],
            "type": "contour"
           }
          ],
          "contourcarpet": [
           {
            "colorbar": {
             "outlinewidth": 0,
             "ticks": ""
            },
            "type": "contourcarpet"
           }
          ],
          "heatmap": [
           {
            "colorbar": {
             "outlinewidth": 0,
             "ticks": ""
            },
            "colorscale": [
             [
              0,
              "#0d0887"
             ],
             [
              0.1111111111111111,
              "#46039f"
             ],
             [
              0.2222222222222222,
              "#7201a8"
             ],
             [
              0.3333333333333333,
              "#9c179e"
             ],
             [
              0.4444444444444444,
              "#bd3786"
             ],
             [
              0.5555555555555556,
              "#d8576b"
             ],
             [
              0.6666666666666666,
              "#ed7953"
             ],
             [
              0.7777777777777778,
              "#fb9f3a"
             ],
             [
              0.8888888888888888,
              "#fdca26"
             ],
             [
              1,
              "#f0f921"
             ]
            ],
            "type": "heatmap"
           }
          ],
          "heatmapgl": [
           {
            "colorbar": {
             "outlinewidth": 0,
             "ticks": ""
            },
            "colorscale": [
             [
              0,
              "#0d0887"
             ],
             [
              0.1111111111111111,
              "#46039f"
             ],
             [
              0.2222222222222222,
              "#7201a8"
             ],
             [
              0.3333333333333333,
              "#9c179e"
             ],
             [
              0.4444444444444444,
              "#bd3786"
             ],
             [
              0.5555555555555556,
              "#d8576b"
             ],
             [
              0.6666666666666666,
              "#ed7953"
             ],
             [
              0.7777777777777778,
              "#fb9f3a"
             ],
             [
              0.8888888888888888,
              "#fdca26"
             ],
             [
              1,
              "#f0f921"
             ]
            ],
            "type": "heatmapgl"
           }
          ],
          "histogram": [
           {
            "marker": {
             "pattern": {
              "fillmode": "overlay",
              "size": 10,
              "solidity": 0.2
             }
            },
            "type": "histogram"
           }
          ],
          "histogram2d": [
           {
            "colorbar": {
             "outlinewidth": 0,
             "ticks": ""
            },
            "colorscale": [
             [
              0,
              "#0d0887"
             ],
             [
              0.1111111111111111,
              "#46039f"
             ],
             [
              0.2222222222222222,
              "#7201a8"
             ],
             [
              0.3333333333333333,
              "#9c179e"
             ],
             [
              0.4444444444444444,
              "#bd3786"
             ],
             [
              0.5555555555555556,
              "#d8576b"
             ],
             [
              0.6666666666666666,
              "#ed7953"
             ],
             [
              0.7777777777777778,
              "#fb9f3a"
             ],
             [
              0.8888888888888888,
              "#fdca26"
             ],
             [
              1,
              "#f0f921"
             ]
            ],
            "type": "histogram2d"
           }
          ],
          "histogram2dcontour": [
           {
            "colorbar": {
             "outlinewidth": 0,
             "ticks": ""
            },
            "colorscale": [
             [
              0,
              "#0d0887"
             ],
             [
              0.1111111111111111,
              "#46039f"
             ],
             [
              0.2222222222222222,
              "#7201a8"
             ],
             [
              0.3333333333333333,
              "#9c179e"
             ],
             [
              0.4444444444444444,
              "#bd3786"
             ],
             [
              0.5555555555555556,
              "#d8576b"
             ],
             [
              0.6666666666666666,
              "#ed7953"
             ],
             [
              0.7777777777777778,
              "#fb9f3a"
             ],
             [
              0.8888888888888888,
              "#fdca26"
             ],
             [
              1,
              "#f0f921"
             ]
            ],
            "type": "histogram2dcontour"
           }
          ],
          "mesh3d": [
           {
            "colorbar": {
             "outlinewidth": 0,
             "ticks": ""
            },
            "type": "mesh3d"
           }
          ],
          "parcoords": [
           {
            "line": {
             "colorbar": {
              "outlinewidth": 0,
              "ticks": ""
             }
            },
            "type": "parcoords"
           }
          ],
          "pie": [
           {
            "automargin": true,
            "type": "pie"
           }
          ],
          "scatter": [
           {
            "marker": {
             "colorbar": {
              "outlinewidth": 0,
              "ticks": ""
             }
            },
            "type": "scatter"
           }
          ],
          "scatter3d": [
           {
            "line": {
             "colorbar": {
              "outlinewidth": 0,
              "ticks": ""
             }
            },
            "marker": {
             "colorbar": {
              "outlinewidth": 0,
              "ticks": ""
             }
            },
            "type": "scatter3d"
           }
          ],
          "scattercarpet": [
           {
            "marker": {
             "colorbar": {
              "outlinewidth": 0,
              "ticks": ""
             }
            },
            "type": "scattercarpet"
           }
          ],
          "scattergeo": [
           {
            "marker": {
             "colorbar": {
              "outlinewidth": 0,
              "ticks": ""
             }
            },
            "type": "scattergeo"
           }
          ],
          "scattergl": [
           {
            "marker": {
             "colorbar": {
              "outlinewidth": 0,
              "ticks": ""
             }
            },
            "type": "scattergl"
           }
          ],
          "scattermapbox": [
           {
            "marker": {
             "colorbar": {
              "outlinewidth": 0,
              "ticks": ""
             }
            },
            "type": "scattermapbox"
           }
          ],
          "scatterpolar": [
           {
            "marker": {
             "colorbar": {
              "outlinewidth": 0,
              "ticks": ""
             }
            },
            "type": "scatterpolar"
           }
          ],
          "scatterpolargl": [
           {
            "marker": {
             "colorbar": {
              "outlinewidth": 0,
              "ticks": ""
             }
            },
            "type": "scatterpolargl"
           }
          ],
          "scatterternary": [
           {
            "marker": {
             "colorbar": {
              "outlinewidth": 0,
              "ticks": ""
             }
            },
            "type": "scatterternary"
           }
          ],
          "surface": [
           {
            "colorbar": {
             "outlinewidth": 0,
             "ticks": ""
            },
            "colorscale": [
             [
              0,
              "#0d0887"
             ],
             [
              0.1111111111111111,
              "#46039f"
             ],
             [
              0.2222222222222222,
              "#7201a8"
             ],
             [
              0.3333333333333333,
              "#9c179e"
             ],
             [
              0.4444444444444444,
              "#bd3786"
             ],
             [
              0.5555555555555556,
              "#d8576b"
             ],
             [
              0.6666666666666666,
              "#ed7953"
             ],
             [
              0.7777777777777778,
              "#fb9f3a"
             ],
             [
              0.8888888888888888,
              "#fdca26"
             ],
             [
              1,
              "#f0f921"
             ]
            ],
            "type": "surface"
           }
          ],
          "table": [
           {
            "cells": {
             "fill": {
              "color": "#EBF0F8"
             },
             "line": {
              "color": "white"
             }
            },
            "header": {
             "fill": {
              "color": "#C8D4E3"
             },
             "line": {
              "color": "white"
             }
            },
            "type": "table"
           }
          ]
         },
         "layout": {
          "annotationdefaults": {
           "arrowcolor": "#2a3f5f",
           "arrowhead": 0,
           "arrowwidth": 1
          },
          "autotypenumbers": "strict",
          "coloraxis": {
           "colorbar": {
            "outlinewidth": 0,
            "ticks": ""
           }
          },
          "colorscale": {
           "diverging": [
            [
             0,
             "#8e0152"
            ],
            [
             0.1,
             "#c51b7d"
            ],
            [
             0.2,
             "#de77ae"
            ],
            [
             0.3,
             "#f1b6da"
            ],
            [
             0.4,
             "#fde0ef"
            ],
            [
             0.5,
             "#f7f7f7"
            ],
            [
             0.6,
             "#e6f5d0"
            ],
            [
             0.7,
             "#b8e186"
            ],
            [
             0.8,
             "#7fbc41"
            ],
            [
             0.9,
             "#4d9221"
            ],
            [
             1,
             "#276419"
            ]
           ],
           "sequential": [
            [
             0,
             "#0d0887"
            ],
            [
             0.1111111111111111,
             "#46039f"
            ],
            [
             0.2222222222222222,
             "#7201a8"
            ],
            [
             0.3333333333333333,
             "#9c179e"
            ],
            [
             0.4444444444444444,
             "#bd3786"
            ],
            [
             0.5555555555555556,
             "#d8576b"
            ],
            [
             0.6666666666666666,
             "#ed7953"
            ],
            [
             0.7777777777777778,
             "#fb9f3a"
            ],
            [
             0.8888888888888888,
             "#fdca26"
            ],
            [
             1,
             "#f0f921"
            ]
           ],
           "sequentialminus": [
            [
             0,
             "#0d0887"
            ],
            [
             0.1111111111111111,
             "#46039f"
            ],
            [
             0.2222222222222222,
             "#7201a8"
            ],
            [
             0.3333333333333333,
             "#9c179e"
            ],
            [
             0.4444444444444444,
             "#bd3786"
            ],
            [
             0.5555555555555556,
             "#d8576b"
            ],
            [
             0.6666666666666666,
             "#ed7953"
            ],
            [
             0.7777777777777778,
             "#fb9f3a"
            ],
            [
             0.8888888888888888,
             "#fdca26"
            ],
            [
             1,
             "#f0f921"
            ]
           ]
          },
          "colorway": [
           "#636efa",
           "#EF553B",
           "#00cc96",
           "#ab63fa",
           "#FFA15A",
           "#19d3f3",
           "#FF6692",
           "#B6E880",
           "#FF97FF",
           "#FECB52"
          ],
          "font": {
           "color": "#2a3f5f"
          },
          "geo": {
           "bgcolor": "white",
           "lakecolor": "white",
           "landcolor": "#E5ECF6",
           "showlakes": true,
           "showland": true,
           "subunitcolor": "white"
          },
          "hoverlabel": {
           "align": "left"
          },
          "hovermode": "closest",
          "mapbox": {
           "style": "light"
          },
          "paper_bgcolor": "white",
          "plot_bgcolor": "#E5ECF6",
          "polar": {
           "angularaxis": {
            "gridcolor": "white",
            "linecolor": "white",
            "ticks": ""
           },
           "bgcolor": "#E5ECF6",
           "radialaxis": {
            "gridcolor": "white",
            "linecolor": "white",
            "ticks": ""
           }
          },
          "scene": {
           "xaxis": {
            "backgroundcolor": "#E5ECF6",
            "gridcolor": "white",
            "gridwidth": 2,
            "linecolor": "white",
            "showbackground": true,
            "ticks": "",
            "zerolinecolor": "white"
           },
           "yaxis": {
            "backgroundcolor": "#E5ECF6",
            "gridcolor": "white",
            "gridwidth": 2,
            "linecolor": "white",
            "showbackground": true,
            "ticks": "",
            "zerolinecolor": "white"
           },
           "zaxis": {
            "backgroundcolor": "#E5ECF6",
            "gridcolor": "white",
            "gridwidth": 2,
            "linecolor": "white",
            "showbackground": true,
            "ticks": "",
            "zerolinecolor": "white"
           }
          },
          "shapedefaults": {
           "line": {
            "color": "#2a3f5f"
           }
          },
          "ternary": {
           "aaxis": {
            "gridcolor": "white",
            "linecolor": "white",
            "ticks": ""
           },
           "baxis": {
            "gridcolor": "white",
            "linecolor": "white",
            "ticks": ""
           },
           "bgcolor": "#E5ECF6",
           "caxis": {
            "gridcolor": "white",
            "linecolor": "white",
            "ticks": ""
           }
          },
          "title": {
           "x": 0.05
          },
          "xaxis": {
           "automargin": true,
           "gridcolor": "white",
           "linecolor": "white",
           "ticks": "",
           "title": {
            "standoff": 15
           },
           "zerolinecolor": "white",
           "zerolinewidth": 2
          },
          "yaxis": {
           "automargin": true,
           "gridcolor": "white",
           "linecolor": "white",
           "ticks": "",
           "title": {
            "standoff": 15
           },
           "zerolinecolor": "white",
           "zerolinewidth": 2
          }
         }
        },
        "title": {
         "text": "Polars"
        },
        "xaxis": {
         "anchor": "y",
         "autorange": true,
         "domain": [
          0,
          0.46499999999999997
         ],
         "range": [
          0.00567,
          0.10103
         ],
         "title": {
          "text": "CD"
         },
         "type": "linear"
        },
        "xaxis2": {
         "anchor": "y2",
         "autorange": true,
         "domain": [
          0.5349999999999999,
          0.9999999999999999
         ],
         "range": [
          -3,
          8.75
         ],
         "title": {
          "text": "alpha"
         },
         "type": "linear"
        },
        "xaxis3": {
         "anchor": "y3",
         "autorange": true,
         "domain": [
          0,
          0.46499999999999997
         ],
         "range": [
          -3,
          8.75
         ],
         "title": {
          "text": "alpha"
         },
         "type": "linear"
        },
        "xaxis4": {
         "anchor": "y4",
         "autorange": true,
         "domain": [
          0.5349999999999999,
          0.9999999999999999
         ],
         "range": [
          0.0073,
          1
         ],
         "title": {
          "text": "xtr_upper"
         },
         "type": "linear"
        },
        "xaxis5": {
         "anchor": "y5",
         "autorange": true,
         "domain": [
          0,
          0.46499999999999997
         ],
         "range": [
          -3,
          8.75
         ],
         "title": {
          "text": "alpha"
         },
         "type": "linear"
        },
        "xaxis6": {
         "anchor": "y6",
         "domain": [
          0.5349999999999999,
          0.9999999999999999
         ]
        },
        "yaxis": {
         "anchor": "x",
         "autorange": true,
         "domain": [
          0.7133333333333334,
          1
         ],
         "range": [
          -0.3252333333333333,
          1.2074333333333334
         ],
         "title": {
          "text": "CL"
         },
         "type": "linear"
        },
        "yaxis2": {
         "anchor": "x2",
         "autorange": true,
         "domain": [
          0.7133333333333334,
          1
         ],
         "range": [
          -0.3252333333333333,
          1.2074333333333334
         ],
         "title": {
          "text": "CL"
         },
         "type": "linear"
        },
        "yaxis3": {
         "anchor": "x3",
         "autorange": true,
         "domain": [
          0.3566666666666667,
          0.6433333333333333
         ],
         "range": [
          -0.07123333333333333,
          -0.012566666666666667
         ],
         "title": {
          "text": "CM"
         },
         "type": "linear"
        },
        "yaxis4": {
         "anchor": "x4",
         "autorange": true,
         "domain": [
          0.3566666666666667,
          0.6433333333333333
         ],
         "range": [
          -0.3252333333333333,
          1.2074333333333334
         ],
         "title": {
          "text": "CL"
         },
         "type": "linear"
        },
        "yaxis5": {
         "anchor": "x5",
         "autorange": true,
         "domain": [
          0,
          0.2866666666666667
         ],
         "range": [
          -22.708548752027014,
          95.33594407507451
         ],
         "title": {
          "text": "CL/CD"
         },
         "type": "linear"
        },
        "yaxis6": {
         "anchor": "x6",
         "domain": [
          0,
          0.2866666666666667
         ]
        }
       }
      },
      "image/png": "[encoded data removed]"
     },
     "metadata": {},
     "output_type": "display_data"
    }
   ],
   "source": [
    "graphPolars(polars)"
   ]
  },
  {
   "cell_type": "markdown",
   "id": "a10dc6bd-ff74-4514-8e02-ffba9eb54101",
   "metadata": {},
   "source": [
    "OpenVSP\n",
    "=======\n",
    "\n",
    "Convert an OpenVSP file to stl and display it in 3D"
   ]
  },
  {
   "cell_type": "code",
   "execution_count": 1,
   "id": "6af8338f-1a1f-4748-bfdc-e4138ce30a89",
   "metadata": {},
   "outputs": [
    {
     "data": {
      "text/plain": [
       "'AULNRSFHCL'"
      ]
     },
     "execution_count": 1,
     "metadata": {},
     "output_type": "execute_result"
    }
   ],
   "source": [
    "import openvsp as vsp\n",
    "from enum import Enum\n",
    "from functools import partial\n",
    "Enum0 = partial(Enum, start=0)\n",
    "ExportCode = Enum0('ExportCode', 'EXPORT_FELISA EXPORT_XSEC EXPORT_STL EXPORT_AWAVE EXPORT_NASCART EXPORT_POVRAY ' +\n",
    "                   'EXPORT_CART3D EXPORT_VORXSEC EXPORT_XSECGEOM EXPORT_GMSH EXPORT_X3D')\n",
    "file_format = ExportCode.EXPORT_STL\n",
    "file_format = file_format.value\n",
    "filename = '/sample/openvsp/Airbus_Beluga.vsp.vsp3'\n",
    "filenamestl = './sample/openvsp/Airbus_Beluga.stl'\n",
    "vsp.ClearVSPModel()\n",
    "vsp.ReadVSPFile(filename)\n",
    "vsp_set=0\n",
    "vsp.ExportFile(filenamestl, vsp_set, file_format)"
   ]
  },
  {
   "cell_type": "code",
   "execution_count": 16,
   "id": "3e3af440-cdc0-4cb3-81f6-8da4dd78d086",
   "metadata": {},
   "outputs": [
    {
     "data": {
      "application/vnd.jupyter.widget-view+json": {
       "model_id": "a1200a005fbe4ce785fcc15a983175a7",
       "version_major": 2,
       "version_minor": 0
      },
      "text/plain": [
       "VBox(children=(HTML(value='Point at (0.000, 0.000, 0.000)'), Renderer(camera=PerspectiveCamera(aspect=1.333333…"
      ]
     },
     "metadata": {},
     "output_type": "display_data"
    }
   ],
   "source": [
    "from stl import mesh\n",
    "from pythreejs import *\n",
    "from ipywidgets import HTML, Text, Output, VBox\n",
    "import math\n",
    "\n",
    "# find the max dimensions, so we can know the bounding box, getting the height,\n",
    "# width, length (because these are the step size)...\n",
    "def find_mins_maxs(obj):\n",
    "    minx = obj.x.min()\n",
    "    maxx = obj.x.max()\n",
    "    miny = obj.y.min()\n",
    "    maxy = obj.y.max()\n",
    "    minz = obj.z.min()\n",
    "    maxz = obj.z.max()\n",
    "    return minx, maxx, miny, maxy, minz, maxz\n",
    "\n",
    "# Generate surface data:\n",
    "view_width = 800\n",
    "view_height = 600\n",
    "\n",
    "stlmesh = mesh.Mesh.from_file('/sample/openvsp/Airbus_Beluga.stl')\n",
    "minx, maxx, miny, maxy, minz, maxz = find_mins_maxs(stlmesh)\n",
    "vertices = BufferAttribute(array=stlmesh.vectors, normalized=False)\n",
    "geometry = BufferGeometry( attributes={'position': vertices}, )\n",
    "\n",
    "material = MeshLambertMaterial(color='lightsteelblue', wireframe=True,transparent=True, opacity=0.5)\n",
    "surf = Mesh(geometry=geometry,\n",
    "           material=material,\n",
    "           position=[-40, 0, 0])\n",
    "\n",
    "# Set up picking bojects:\n",
    "hover_point = Mesh(geometry=SphereGeometry(radius=0.05),\n",
    "                   material=MeshLambertMaterial(color='hotpink'))\n",
    "\n",
    "click_picker = Picker(controlling=surf, event='dblclick')\n",
    "hover_picker = Picker(controlling=surf, event='mousemove')\n",
    "\n",
    "# Set up scene:\n",
    "key_light = DirectionalLight(color='white', position=[3, 5, 1], intensity=0.4)\n",
    "c = PerspectiveCamera(position=[0, 55, 55], up=[0, 0, 1], aspect=view_width / view_height,\n",
    "                      children=[key_light])\n",
    "scene = Scene(children=[surf, c, hover_point, AmbientLight(intensity=0.8)])\n",
    "renderer = Renderer(camera=c, scene=scene,\n",
    "                    width=view_width, height=view_height,\n",
    "                    controls=[OrbitControls(controlling=c), click_picker, hover_picker])\n",
    "\n",
    "\n",
    "# Set up picking responses:\n",
    "# Add a new marker when double-clicking:\n",
    "out = Output()\n",
    "def f(change):\n",
    "    value = change['new']\n",
    "    with out:\n",
    "        print('Clicked on %s' % (value,))\n",
    "    point = Mesh(geometry=SphereGeometry(radius=0.05), \n",
    "                 material=MeshLambertMaterial(color='red'),\n",
    "                 position=value)\n",
    "    scene.add(point)\n",
    "\n",
    "click_picker.observe(f, names=['point'])\n",
    "\n",
    "# Have marker follow picker point:\n",
    "link((hover_point, 'position'), (hover_picker, 'point'))\n",
    "\n",
    "# Show picker point coordinates as a label:\n",
    "h = HTML()\n",
    "def g(change):\n",
    "    h.value = 'Point at (%.3f, %.3f, %.3f)' % tuple(change['new'])\n",
    "g({'new': hover_point.position})\n",
    "hover_picker.observe(g, names=['point'])\n",
    "\n",
    "display(VBox([h, renderer, out]))"
   ]
  },
  {
   "cell_type": "code",
   "execution_count": 4,
   "id": "3ba2844d-fcdd-4040-bc07-f346b9f19285",
   "metadata": {},
   "outputs": [
    {
     "data": {
      "image/png": "[encoded data removed]",
      "text/plain": [
       "<Figure size 432x288 with 1 Axes>"
      ]
     },
     "metadata": {
      "needs_background": "light"
     },
     "output_type": "display_data"
    }
   ],
   "source": [
    "from stl import mesh\n",
    "from mpl_toolkits import mplot3d\n",
    "from matplotlib import pyplot\n",
    "\n",
    "# Create a new plot\n",
    "figure = pyplot.figure()\n",
    "axes = mplot3d.Axes3D(figure)\n",
    "\n",
    "# Load the STL files and add the vectors to the plot\n",
    "your_mesh = mesh.Mesh.from_file('/sample/openvsp/Airbus_Beluga.stl')\n",
    "axes.add_collection3d(mplot3d.art3d.Poly3DCollection(your_mesh.vectors))\n",
    "\n",
    "# Auto scale to the mesh size\n",
    "scale = your_mesh.points.flatten()\n",
    "axes.auto_scale_xyz(scale, scale, scale)\n",
    "\n",
    "# Show the plot to the screen\n",
    "pyplot.show()"
   ]
  },
  {
   "cell_type": "code",
   "execution_count": null,
   "id": "5c912a30-6875-4e4f-921d-b14917c14622",
   "metadata": {},
   "outputs": [],
   "source": []
  }
 ],
 "metadata": {
  "kernelspec": {
   "display_name": "Python 3",
   "language": "python",
   "name": "python3"
  },
  "language_info": {
   "codemirror_mode": {
    "name": "ipython",
    "version": 3
   },
   "file_extension": ".py",
   "mimetype": "text/x-python",
   "name": "python",
   "nbconvert_exporter": "python",
   "pygments_lexer": "ipython3",
   "version": "3.8.8"
  }
 },
 "nbformat": 4,
 "nbformat_minor": 5
}
